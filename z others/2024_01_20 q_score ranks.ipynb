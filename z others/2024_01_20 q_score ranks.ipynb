{
 "cells": [
  {
   "cell_type": "code",
   "execution_count": 1,
   "metadata": {},
   "outputs": [],
   "source": [
    "import numpy as np\n",
    "import pandas as pd\n",
    "import os"
   ]
  },
  {
   "cell_type": "code",
   "execution_count": 19,
   "metadata": {},
   "outputs": [
    {
     "data": {
      "text/plain": [
       "['evaluation_20231115.csv',\n",
       " 'evaluation_20231122.csv',\n",
       " 'evaluation_20231129.csv',\n",
       " 'evaluation_20231206.csv',\n",
       " 'evaluation_20231213.csv',\n",
       " 'evaluation_20231220.csv',\n",
       " 'evaluation_20240110.csv',\n",
       " 'evaluation_20240117.csv',\n",
       " 'evaluation_20240124.csv',\n",
       " 'evaluation_20240131.csv']"
      ]
     },
     "execution_count": 19,
     "metadata": {},
     "output_type": "execute_result"
    }
   ],
   "source": [
    "# get all files from ../data which start with evaluation and end with .csv\n",
    "files = [f for f in os.listdir('../data') if f.startswith('evaluation') and f.endswith('.csv')]\n",
    "# sort files by number\n",
    "files"
   ]
  },
  {
   "cell_type": "code",
   "execution_count": 8,
   "metadata": {},
   "outputs": [
    {
     "name": "stdout",
     "output_type": "stream",
     "text": [
      "../data/evaluation_20240110.csv\n",
      "= = = = = = = = = = = = = = = = = = = = \n",
      "target = energy\n",
      "= = = = = = = = = = = = = = = = = = = = \n"
     ]
    },
    {
     "data": {
      "text/plain": [
       "TormundGiantsbane    1.097266\n",
       "Phoebe               1.749963\n",
       "BrienneVonTarth      1.981639\n",
       "Rachel               2.048543\n",
       "mean_ensemble        2.181337\n",
       "median_ensemble      2.416472\n",
       "DaenerysTargaryen    2.648208\n",
       "MasterYoda           2.718275\n",
       "CharlesBoyle         3.191021\n",
       "homersimpson         3.220434\n",
       "JonSnow              3.488154\n",
       "StannisBaratheon     4.951124\n",
       "JakePeralta          5.068311\n",
       "power_benchmark      5.454130\n",
       "dtype: float64"
      ]
     },
     "metadata": {},
     "output_type": "display_data"
    },
    {
     "name": "stdout",
     "output_type": "stream",
     "text": [
      "= = = = = = = = = = = = = = = = = = = = \n",
      "target = DAX\n",
      "= = = = = = = = = = = = = = = = = = = = \n"
     ]
    },
    {
     "data": {
      "text/plain": [
       "JakePeralta          0.457847\n",
       "MasterYoda           0.465651\n",
       "Phoebe               0.465962\n",
       "TormundGiantsbane    0.479689\n",
       "median_ensemble      0.497208\n",
       "BrienneVonTarth      0.525921\n",
       "mean_ensemble        0.533828\n",
       "DAX_benchmark        0.540961\n",
       "JonSnow              0.540961\n",
       "homersimpson         0.540961\n",
       "Rachel               0.563237\n",
       "CharlesBoyle         0.620518\n",
       "DaenerysTargaryen    1.044381\n",
       "dtype: float64"
      ]
     },
     "metadata": {},
     "output_type": "display_data"
    }
   ],
   "source": [
    "# read file from ./data directory using pandas read_csv\n",
    "file_idx = -4\n",
    "df = pd.read_csv(f\"../data/{files[file_idx]}\")\n",
    "print(f\"../data/{files[file_idx]}\")\n",
    "\n",
    "targets = ['energy', 'DAX']\n",
    "\n",
    "for target in targets:\n",
    "\n",
    "    print('= '*20)\n",
    "    print(f\"target = {target}\")\n",
    "    print('= '*20)\n",
    "\n",
    "    df_target = df[df['target'] == target].dropna(axis=0)\n",
    "\n",
    "    # # for each horizon ['36 hour', '40 hour', '44 hour', '60 hour', '64 hour', '68 hour']\n",
    "    # for horizon in df_target['horizon'].unique():\n",
    "\n",
    "    #     # get model with lowest mean_qscore\n",
    "    #     df_target_horizon = df_target[df_target['horizon']==horizon]\n",
    "    #     df_target_horizon = df_target_horizon.sort_values(by='mean_qscore')\n",
    "    #     display(df_target_horizon.head(5))\n",
    "\n",
    "    # print('overall mean')\n",
    "\n",
    "    # rank models by average rank for each target horizon\n",
    "\n",
    "    dict = {}\n",
    "    for model in df_target['model'].unique():\n",
    "        df_model = df_target[df_target['model'] == model]\n",
    "        dict[model] = df_model['mean_qscore'].mean()\n",
    "\n",
    "    display(pd.Series(dict).sort_values(ascending=True))\n",
    "    "
   ]
  },
  {
   "cell_type": "code",
   "execution_count": 12,
   "metadata": {},
   "outputs": [
    {
     "name": "stdout",
     "output_type": "stream",
     "text": [
      "Processing file: ../data/evaluation_20231115.csv\n",
      "Processing file: ../data/evaluation_20231122.csv\n",
      "Processing file: ../data/evaluation_20231129.csv\n",
      "Processing file: ../data/evaluation_20231206.csv\n",
      "Processing file: ../data/evaluation_20231213.csv\n",
      "Processing file: ../data/evaluation_20231220.csv\n",
      "Processing file: ../data/evaluation_20240110.csv\n",
      "Processing file: ../data/evaluation_20240117.csv\n",
      "Processing file: ../data/evaluation_20240124.csv\n",
      "Processing file: ../data/evaluation_20240131.csv\n",
      "= = = = = = = = = = = = = = = = = = = = \n",
      "Cumulative Best Ranking Models:\n",
      "= = = = = = = = = = = = = = = = = = = = \n",
      "Target: energy\n",
      "File: evaluation_20231115.csv, Best Model: homersimpson, Mean Q-Score: 0.7948887543271823\n",
      "File: evaluation_20231122.csv, Best Model: homersimpson, Mean Q-Score: 0.8644081606980988\n",
      "File: evaluation_20231129.csv, Best Model: DaenerysTargaryen, Mean Q-Score: 1.0977933333333336\n",
      "File: evaluation_20231206.csv, Best Model: Phoebe, Mean Q-Score: 0.8882015999999996\n",
      "File: evaluation_20231213.csv, Best Model: Phoebe, Mean Q-Score: 1.0822402666666666\n",
      "File: evaluation_20231220.csv, Best Model: JakePeralta, Mean Q-Score: 1.3061553475102199\n",
      "File: evaluation_20240110.csv, Best Model: TormundGiantsbane, Mean Q-Score: 1.0972659701130414\n",
      "File: evaluation_20240117.csv, Best Model: TormundGiantsbane, Mean Q-Score: 0.7402447792667138\n",
      "File: evaluation_20240124.csv, Best Model: StannisBaratheon, Mean Q-Score: 1.0765946359696585\n",
      "File: evaluation_20240131.csv, Best Model: homersimpson, Mean Q-Score: 0.48660535981887004\n",
      "Target: DAX\n",
      "File: evaluation_20231115.csv, Best Model: mean_ensemble, Mean Q-Score: 0.3871834340186804\n",
      "File: evaluation_20231122.csv, Best Model: Phoebe, Mean Q-Score: 0.2013490605578804\n",
      "File: evaluation_20231129.csv, Best Model: CharlesBoyle, Mean Q-Score: 0.5215117226509765\n",
      "File: evaluation_20231206.csv, Best Model: CharlesBoyle, Mean Q-Score: 0.291171154208753\n",
      "File: evaluation_20231213.csv, Best Model: TormundGiantsbane, Mean Q-Score: 0.2639793422167102\n",
      "File: evaluation_20231220.csv, Best Model: TormundGiantsbane, Mean Q-Score: 0.176118493760365\n",
      "File: evaluation_20240110.csv, Best Model: JakePeralta, Mean Q-Score: 0.45784674526917846\n",
      "File: evaluation_20240117.csv, Best Model: Rachel, Mean Q-Score: 0.272472241345477\n",
      "File: evaluation_20240124.csv, Best Model: Rachel, Mean Q-Score: 0.120871475228603\n",
      "File: evaluation_20240131.csv, Best Model: CharlesBoyle, Mean Q-Score: 0.18714097685614173\n"
     ]
    }
   ],
   "source": [
    "# Initialize an empty dictionary to store cumulative best ranking models\n",
    "cumulative_best_ranking_models = {}\n",
    "\n",
    "# Loop over each file\n",
    "for file_name in files:\n",
    "\n",
    "    file_path = f\"../data/{file_name}\"\n",
    "    df = pd.read_csv(file_path)\n",
    "    print(f\"Processing file: {file_path}\")\n",
    "\n",
    "    targets = ['energy', 'DAX']\n",
    "\n",
    "    # Iterate over each unique target in the dataframe\n",
    "    for target in targets:\n",
    "        # print('= '*20)\n",
    "        # print(f\"Target = {target}\")\n",
    "        # print('= '*20)\n",
    "\n",
    "        df_target = df[df['target'] == target].dropna(axis=0)\n",
    "\n",
    "        # Initialize a dictionary to store mean q-scores for each model\n",
    "        model_mean_qscore = {}\n",
    "\n",
    "        # Iterate over each unique model in the dataframe\n",
    "        for model in df_target['model'].unique():\n",
    "            df_model = df_target[df_target['model'] == model]\n",
    "            model_mean_qscore[model] = df_model['mean_qscore'].mean()\n",
    "\n",
    "        # Sort the dictionary by mean q-score in ascending order\n",
    "        sorted_models = sorted(model_mean_qscore.items(), key=lambda x: x[1])\n",
    "\n",
    "        # Display the sorted models and their mean q-scores\n",
    "        # for model, mean_qscore in sorted_models:\n",
    "            # print(f\"Model: {model}, Mean Q-Score: {mean_qscore}\")\n",
    "\n",
    "        # Update the cumulative best ranking models dictionary\n",
    "        if target not in cumulative_best_ranking_models:\n",
    "            cumulative_best_ranking_models[target] = {}\n",
    "\n",
    "        # Add the best ranking model for this target to the cumulative best ranking models\n",
    "        cumulative_best_ranking_models[target][file_name] = sorted_models[0]\n",
    "\n",
    "# Print the cumulative best ranking models\n",
    "print('= '*20)\n",
    "print(\"Cumulative Best Ranking Models:\")\n",
    "print('= '*20)\n",
    "for target, models in cumulative_best_ranking_models.items():\n",
    "    print(f\"Target: {target}\")\n",
    "    for file_name, best_model in models.items():\n",
    "        print(f\"File: {file_name}, Best Model: {best_model[0]}, Mean Q-Score: {best_model[1]}\")"
   ]
  },
  {
   "cell_type": "code",
   "execution_count": 33,
   "metadata": {},
   "outputs": [
    {
     "name": "stdout",
     "output_type": "stream",
     "text": [
      "Processing file: ../data/evaluation_20231206.csv\n",
      "Processing file: ../data/evaluation_20231213.csv\n",
      "Processing file: ../data/evaluation_20231220.csv\n",
      "Processing file: ../data/evaluation_20240110.csv\n",
      "Processing file: ../data/evaluation_20240117.csv\n",
      "Processing file: ../data/evaluation_20240124.csv\n",
      "Processing file: ../data/evaluation_20240131.csv\n",
      "Top Models for Energy:\n",
      "                   Average Score\n",
      "mean_ensemble           1.444129\n",
      "median_ensemble         1.444938\n",
      "TormundGiantsbane       1.658449\n",
      "Phoebe                  1.733352\n",
      "DaenerysTargaryen       1.747175\n",
      "StannisBaratheon        1.856852\n",
      "TyrionLannister         1.876856\n",
      "JakePeralta             2.004935\n",
      "Rachel                  2.096317\n",
      "BrienneVonTarth         2.388174\n",
      "\n",
      "Top Models for DAX:\n",
      "                   Average Score\n",
      "StannisBaratheon        0.273797\n",
      "Rachel                  0.301737\n",
      "TormundGiantsbane       0.302156\n",
      "Phoebe                  0.302942\n",
      "median_ensemble         0.317235\n",
      "mean_ensemble           0.327207\n",
      "BrienneVonTarth         0.341229\n",
      "JakePeralta             0.347712\n",
      "CharlesBoyle            0.355066\n",
      "homersimpson            0.358147\n"
     ]
    }
   ],
   "source": [
    "import os\n",
    "import pandas as pd\n",
    "\n",
    "# Initialize an empty dictionary to store mean q-scores for each model for each target\n",
    "model_scores_energy = {}\n",
    "model_scores_DAX = {}\n",
    "\n",
    "# Loop over each file\n",
    "for file_name in files[3:]:\n",
    "    \n",
    "    file_path = f\"../data/{file_name}\"\n",
    "    df = pd.read_csv(file_path)\n",
    "    print(f\"Processing file: {file_path}\")\n",
    "    \n",
    "    # Iterate over each unique target in the dataframe\n",
    "    for target in ['energy', 'DAX']:\n",
    "\n",
    "        df_target = df[df['target'] == target].dropna(axis=0)\n",
    "        # Initialize a dictionary to store mean q-scores for each model for this target\n",
    "        model_mean_qscore = {}\n",
    "\n",
    "        # Iterate over each unique model in the dataframe\n",
    "        for model in df_target['model'].unique():\n",
    "            model_mean_qscore[model] = df_target[df_target['model'] == model]['mean_qscore'].mean()\n",
    "\n",
    "        # Update the model_scores dictionary with mean q-scores for this file and target\n",
    "        if target == 'energy':\n",
    "            for model, mean_qscore in model_mean_qscore.items():\n",
    "                if model in model_scores_energy:\n",
    "                    model_scores_energy[model].append(mean_qscore)\n",
    "                else:\n",
    "                    model_scores_energy[model] = [mean_qscore]\n",
    "        elif target == 'DAX':\n",
    "            for model, mean_qscore in model_mean_qscore.items():\n",
    "                if model in model_scores_DAX:\n",
    "                    model_scores_DAX[model].append(mean_qscore)\n",
    "                else:\n",
    "                    model_scores_DAX[model] = [mean_qscore]\n",
    "\n",
    "# Calculate the average score for each model for each target\n",
    "average_scores_energy = {model: sum(scores) / len(scores) for model, scores in model_scores_energy.items()}\n",
    "average_scores_DAX = {model: sum(scores) / len(scores) for model, scores in model_scores_DAX.items()}\n",
    "\n",
    "# Create DataFrames from the average scores dictionaries\n",
    "df_models_energy = pd.DataFrame.from_dict(average_scores_energy, orient='index', columns=['Average Score'])\n",
    "df_models_DAX = pd.DataFrame.from_dict(average_scores_DAX, orient='index', columns=['Average Score'])\n",
    "\n",
    "# Sort the DataFrames by average score in descending order and get the top 5 models for each target\n",
    "top_models_energy = df_models_energy.sort_values(by='Average Score', ascending=True).head(10)\n",
    "top_models_DAX = df_models_DAX.sort_values(by='Average Score', ascending=True).head(10)\n",
    "\n",
    "# Print the top 5 models for each target\n",
    "print(\"Top Models for Energy:\")\n",
    "print(top_models_energy)\n",
    "print(\"\\nTop Models for DAX:\")\n",
    "print(top_models_DAX)\n"
   ]
  }
 ],
 "metadata": {
  "kernelspec": {
   "display_name": "base",
   "language": "python",
   "name": "python3"
  },
  "language_info": {
   "codemirror_mode": {
    "name": "ipython",
    "version": 3
   },
   "file_extension": ".py",
   "mimetype": "text/x-python",
   "name": "python",
   "nbconvert_exporter": "python",
   "pygments_lexer": "ipython3",
   "version": "3.11.5"
  }
 },
 "nbformat": 4,
 "nbformat_minor": 2
}
