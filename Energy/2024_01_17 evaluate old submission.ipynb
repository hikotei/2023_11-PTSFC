{
 "cells": [
  {
   "cell_type": "code",
   "execution_count": null,
   "metadata": {},
   "outputs": [],
   "source": [
    "import os\n",
    "import pickle\n",
    "import time\n",
    "\n",
    "import numpy as np\n",
    "import pandas as pd\n",
    "import matplotlib.pyplot as plt\n",
    "\n",
    "# import statsmodels.api as sm\n",
    "from sklearn.linear_model import QuantileRegressor, LinearRegression\n",
    "from sklearn.metrics import mean_absolute_error, mean_absolute_percentage_error, mean_squared_error, mean_pinball_loss\n",
    "from sklearn.ensemble import GradientBoostingRegressor, HistGradientBoostingRegressor\n",
    "\n",
    "# = = = = = =\n",
    "# own stuff\n",
    "# = = = = = =\n",
    "os.chdir(\"C:/2023_11-PTSFC\")\n",
    "import data_prepro as data_prepro\n",
    "# from data_prepro import get_energy_data_today, create_dummy_df, create_features_df"
   ]
  }
 ],
 "metadata": {
  "language_info": {
   "name": "python"
  }
 },
 "nbformat": 4,
 "nbformat_minor": 2
}
