{
 "cells": [
  {
   "cell_type": "code",
   "execution_count": 1,
   "id": "6bfd3ae6-0e5e-4f78-9e9f-e2cc688bdee2",
   "metadata": {},
   "outputs": [],
   "source": [
    "import pandas as pd\n",
    "import numpy as np\n",
    "import matplotlib.pyplot as plt\n",
    "import seaborn as sns"
   ]
  },
  {
   "cell_type": "code",
   "execution_count": 2,
   "id": "dff0f0d8-9316-4510-8e60-b12a0e9ac253",
   "metadata": {},
   "outputs": [],
   "source": [
    "import requests\n",
    "from datetime import datetime\n",
    "from tqdm import tqdm"
   ]
  },
  {
   "cell_type": "code",
   "execution_count": 62,
   "id": "6dd68c07-25ac-404f-8cb5-dd7884d9acd5",
   "metadata": {},
   "outputs": [],
   "source": [
    "def get_energy_data():\n",
    "\n",
    "    # get all available time stamps\n",
    "    stampsurl = \"https://www.smard.de/app/chart_data/410/DE/index_quarterhour.json\"\n",
    "    response = requests.get(stampsurl)\n",
    "\n",
    "    # ignore first 4 years (don't need those in the baseline and speeds the code up a bit)\n",
    "    # timestamps = list(response.json()[\"timestamps\"])[4*52:]\n",
    "\n",
    "    # ignore first 8 years (historic data is in already saved csv)\n",
    "    timestamps = list(response.json()[\"timestamps\"])[8*52 + 45:]\n",
    "\n",
    "    col_names = ['date_time', 'Netzlast_Gesamt']\n",
    "    energydata = pd.DataFrame(columns=col_names)\n",
    "    \n",
    "    # loop over all available timestamps\n",
    "    for stamp in tqdm(timestamps):\n",
    "\n",
    "        dataurl = \"https://www.smard.de/app/chart_data/410/DE/410_DE_quarterhour_\" + str(stamp) + \".json\"\n",
    "        response = requests.get(dataurl)\n",
    "        rawdata = response.json()[\"series\"]\n",
    "\n",
    "        for i in range(len(rawdata)):\n",
    "            rawdata[i][0] = datetime.fromtimestamp(int(str(rawdata[i][0])[:10])).strftime(\"%Y-%m-%d %H:%M:%S\")\n",
    "\n",
    "        if energydata.empty:\n",
    "            energydata = pd.DataFrame(rawdata, columns=col_names)\n",
    "        else: \n",
    "            energydata = pd.concat([energydata, pd.DataFrame(rawdata, columns=col_names)])\n",
    "\n",
    "    energydata = energydata.dropna()\n",
    "    energydata[\"date_time\"] = pd.to_datetime(energydata.date_time)\n",
    "    # set date_time as index\n",
    "    energydata.set_index(\"date_time\", inplace=True)\n",
    "    # resample\n",
    "    # energydata = energydata.resample(\"1h\", label=\"left\").sum()\n",
    "\n",
    "    return energydata"
   ]
  },
  {
   "cell_type": "code",
   "execution_count": 63,
   "id": "8f77a2e8-851a-4969-8b54-a1d525137e79",
   "metadata": {},
   "outputs": [
    {
     "name": "stderr",
     "output_type": "stream",
     "text": [
      "100%|██████████| 12/12 [00:04<00:00,  2.48it/s]\n"
     ]
    },
    {
     "data": {
      "text/html": [
       "<div>\n",
       "<style scoped>\n",
       "    .dataframe tbody tr th:only-of-type {\n",
       "        vertical-align: middle;\n",
       "    }\n",
       "\n",
       "    .dataframe tbody tr th {\n",
       "        vertical-align: top;\n",
       "    }\n",
       "\n",
       "    .dataframe thead th {\n",
       "        text-align: right;\n",
       "    }\n",
       "</style>\n",
       "<table border=\"1\" class=\"dataframe\">\n",
       "  <thead>\n",
       "    <tr style=\"text-align: right;\">\n",
       "      <th></th>\n",
       "      <th>Netzlast_Gesamt</th>\n",
       "    </tr>\n",
       "    <tr>\n",
       "      <th>date_time</th>\n",
       "      <th></th>\n",
       "    </tr>\n",
       "  </thead>\n",
       "  <tbody>\n",
       "    <tr>\n",
       "      <th>2023-10-30 00:00:00</th>\n",
       "      <td>10971.75</td>\n",
       "    </tr>\n",
       "    <tr>\n",
       "      <th>2023-10-30 00:15:00</th>\n",
       "      <td>10798.75</td>\n",
       "    </tr>\n",
       "    <tr>\n",
       "      <th>2023-10-30 00:30:00</th>\n",
       "      <td>10732.50</td>\n",
       "    </tr>\n",
       "    <tr>\n",
       "      <th>2023-10-30 00:45:00</th>\n",
       "      <td>10690.00</td>\n",
       "    </tr>\n",
       "    <tr>\n",
       "      <th>2023-10-30 01:00:00</th>\n",
       "      <td>10609.75</td>\n",
       "    </tr>\n",
       "  </tbody>\n",
       "</table>\n",
       "</div>"
      ],
      "text/plain": [
       "                     Netzlast_Gesamt\n",
       "date_time                           \n",
       "2023-10-30 00:00:00         10971.75\n",
       "2023-10-30 00:15:00         10798.75\n",
       "2023-10-30 00:30:00         10732.50\n",
       "2023-10-30 00:45:00         10690.00\n",
       "2023-10-30 01:00:00         10609.75"
      ]
     },
     "metadata": {},
     "output_type": "display_data"
    },
    {
     "data": {
      "text/html": [
       "<div>\n",
       "<style scoped>\n",
       "    .dataframe tbody tr th:only-of-type {\n",
       "        vertical-align: middle;\n",
       "    }\n",
       "\n",
       "    .dataframe tbody tr th {\n",
       "        vertical-align: top;\n",
       "    }\n",
       "\n",
       "    .dataframe thead th {\n",
       "        text-align: right;\n",
       "    }\n",
       "</style>\n",
       "<table border=\"1\" class=\"dataframe\">\n",
       "  <thead>\n",
       "    <tr style=\"text-align: right;\">\n",
       "      <th></th>\n",
       "      <th>Netzlast_Gesamt</th>\n",
       "    </tr>\n",
       "    <tr>\n",
       "      <th>date_time</th>\n",
       "      <th></th>\n",
       "    </tr>\n",
       "  </thead>\n",
       "  <tbody>\n",
       "    <tr>\n",
       "      <th>2024-01-17 21:45:00</th>\n",
       "      <td>15255.00</td>\n",
       "    </tr>\n",
       "    <tr>\n",
       "      <th>2024-01-17 22:00:00</th>\n",
       "      <td>15139.25</td>\n",
       "    </tr>\n",
       "    <tr>\n",
       "      <th>2024-01-17 22:15:00</th>\n",
       "      <td>14880.00</td>\n",
       "    </tr>\n",
       "    <tr>\n",
       "      <th>2024-01-17 22:30:00</th>\n",
       "      <td>14632.00</td>\n",
       "    </tr>\n",
       "    <tr>\n",
       "      <th>2024-01-17 22:45:00</th>\n",
       "      <td>14404.00</td>\n",
       "    </tr>\n",
       "  </tbody>\n",
       "</table>\n",
       "</div>"
      ],
      "text/plain": [
       "                     Netzlast_Gesamt\n",
       "date_time                           \n",
       "2024-01-17 21:45:00         15255.00\n",
       "2024-01-17 22:00:00         15139.25\n",
       "2024-01-17 22:15:00         14880.00\n",
       "2024-01-17 22:30:00         14632.00\n",
       "2024-01-17 22:45:00         14404.00"
      ]
     },
     "metadata": {},
     "output_type": "display_data"
    }
   ],
   "source": [
    "df = get_energy_data()\n",
    "display(df.head())\n",
    "display(df.tail())"
   ]
  },
  {
   "cell_type": "markdown",
   "id": "2d12b8fc-a35a-411f-b87a-72f764275690",
   "metadata": {},
   "source": [
    "Rename column for convenience"
   ]
  },
  {
   "cell_type": "code",
   "execution_count": 7,
   "id": "da3ff9bc-063a-42ae-895c-1a91a2fcde28",
   "metadata": {},
   "outputs": [],
   "source": [
    "df = df.rename(columns={\"Netzlast_Gesamt\": \"gesamt\"})"
   ]
  },
  {
   "cell_type": "markdown",
   "id": "6f06f031-1a45-4b03-862f-9cbdae802220",
   "metadata": {},
   "source": [
    "Rescale Netzlast so it fits requirements"
   ]
  },
  {
   "cell_type": "code",
   "execution_count": 8,
   "id": "728f7dd1-9556-4974-a8bc-51e701372ad0",
   "metadata": {},
   "outputs": [],
   "source": [
    "df['gesamt'] = df['gesamt'] / 1000"
   ]
  },
  {
   "cell_type": "markdown",
   "id": "0f31220b-b84d-44b1-8201-29473e1c83ac",
   "metadata": {},
   "source": [
    "Check dtypes and if columns contain and missing values"
   ]
  },
  {
   "cell_type": "code",
   "execution_count": 9,
   "id": "1d362a66-6898-454f-a540-3f5773d85974",
   "metadata": {},
   "outputs": [
    {
     "data": {
      "text/plain": [
       "gesamt    float64\n",
       "dtype: object"
      ]
     },
     "execution_count": 9,
     "metadata": {},
     "output_type": "execute_result"
    }
   ],
   "source": [
    "df.dtypes"
   ]
  },
  {
   "cell_type": "code",
   "execution_count": 10,
   "id": "c293fdd7-b8b5-45ec-9319-c514bc25fce4",
   "metadata": {},
   "outputs": [
    {
     "data": {
      "text/plain": [
       "gesamt    False\n",
       "dtype: bool"
      ]
     },
     "execution_count": 10,
     "metadata": {},
     "output_type": "execute_result"
    }
   ],
   "source": [
    "df.isna().any()"
   ]
  },
  {
   "cell_type": "markdown",
   "id": "791b084f-f7ec-4a4a-9947-f292dfcddf4c",
   "metadata": {},
   "source": [
    "Define weekday column"
   ]
  },
  {
   "cell_type": "code",
   "execution_count": 11,
   "id": "a8b96cb2-ec82-433d-9c54-040d0499ca57",
   "metadata": {},
   "outputs": [],
   "source": [
    "df[\"weekday\"] = df.index.weekday #Monday=0, Sunday=6\n",
    "# df[\"time\"] = df.index.strftime(\"%H:%M\")"
   ]
  },
  {
   "cell_type": "markdown",
   "id": "e2cf1b27-c033-48a9-8758-ca05bfe91ed8",
   "metadata": {},
   "source": [
    "Lead times are"
   ]
  },
  {
   "cell_type": "code",
   "execution_count": 12,
   "id": "ffc6169f-d45e-42b1-a0c0-a6e30c8cbec6",
   "metadata": {},
   "outputs": [
    {
     "data": {
      "text/plain": [
       "[36, 40, 44, 60, 64, 68]"
      ]
     },
     "execution_count": 12,
     "metadata": {},
     "output_type": "execute_result"
    }
   ],
   "source": [
    "horizons_def = [36, 40, 44, 60, 64, 68] # [24 + 12*i for i in range(5)]\n",
    "horizons_def"
   ]
  },
  {
   "cell_type": "markdown",
   "id": "f1cf8917-68b4-4a03-b196-83915cabcb64",
   "metadata": {},
   "source": [
    "Adapt horzions so they actually fit"
   ]
  },
  {
   "cell_type": "code",
   "execution_count": 26,
   "id": "ee0221c6-eb42-43de-8ec0-4aa2fd1519bc",
   "metadata": {},
   "outputs": [
    {
     "data": {
      "text/plain": [
       "[38, 42, 46, 62, 66, 70]"
      ]
     },
     "execution_count": 26,
     "metadata": {},
     "output_type": "execute_result"
    }
   ],
   "source": [
    "horizons = [h+2 for h in horizons_def]\n",
    "horizons"
   ]
  },
  {
   "cell_type": "code",
   "execution_count": 27,
   "id": "8a4b5b1f-f4a7-45fd-973d-a691a601b2cb",
   "metadata": {},
   "outputs": [],
   "source": [
    "def get_date_from_horizon(last_ts, horizon):\n",
    "    return last_ts + pd.DateOffset(hours=horizon)"
   ]
  },
  {
   "cell_type": "code",
   "execution_count": 65,
   "id": "564d7433-a811-40e5-a9ea-2e837b2b2a02",
   "metadata": {},
   "outputs": [
    {
     "name": "stdout",
     "output_type": "stream",
     "text": [
      "2024-01-17 22:45:00\n"
     ]
    }
   ],
   "source": [
    "LAST_IDX = -1\n",
    "LAST_DATE = df.iloc[LAST_IDX].name\n",
    "\n",
    "print(LAST_DATE)"
   ]
  },
  {
   "cell_type": "markdown",
   "id": "51214044-60af-4d25-a508-03c0a16787bc",
   "metadata": {},
   "source": [
    "Get time and date that correspond to the lead times (starting at the last observation in our data which should be the respective thursday 0:00)  \n",
    "*Attention*: if the last timestamp in the data is not thursday 0:00, you have to adjust your lead times accordingly"
   ]
  },
  {
   "cell_type": "code",
   "execution_count": 29,
   "id": "4e0da017-d3b4-4cde-b373-63213b42ebc0",
   "metadata": {},
   "outputs": [
    {
     "data": {
      "text/plain": [
       "[Timestamp('2024-01-19 12:00:00'),\n",
       " Timestamp('2024-01-19 16:00:00'),\n",
       " Timestamp('2024-01-19 20:00:00'),\n",
       " Timestamp('2024-01-20 12:00:00'),\n",
       " Timestamp('2024-01-20 16:00:00'),\n",
       " Timestamp('2024-01-20 20:00:00')]"
      ]
     },
     "execution_count": 29,
     "metadata": {},
     "output_type": "execute_result"
    }
   ],
   "source": [
    "horizon_date = [get_date_from_horizon(LAST_DATE, h) for h in horizons]\n",
    "horizon_date"
   ]
  },
  {
   "cell_type": "markdown",
   "id": "1dcf62b9-a0ba-4582-9f83-ee24aadb0223",
   "metadata": {},
   "source": [
    "quantile levels"
   ]
  },
  {
   "cell_type": "code",
   "execution_count": 30,
   "id": "bf3ae619-5bdc-4c66-8137-4daa880ce9c7",
   "metadata": {},
   "outputs": [],
   "source": [
    "tau = [.025, .25, .5, .75, .975]"
   ]
  },
  {
   "cell_type": "code",
   "execution_count": 31,
   "id": "8e5ef128-ba07-497d-ab2b-1c7599e86bd0",
   "metadata": {},
   "outputs": [],
   "source": [
    "# rows correspond to horizon, columns to quantile level\n",
    "pred_baseline = np.zeros((6,5))"
   ]
  },
  {
   "cell_type": "code",
   "execution_count": 39,
   "id": "6033e162-aecf-4e8c-a143-28446cffab0f",
   "metadata": {},
   "outputs": [],
   "source": [
    "last_t = 100\n",
    "\n",
    "for i,d in enumerate(horizon_date):\n",
    "    \n",
    "    weekday = d.weekday()\n",
    "    hour = d.hour\n",
    "    \n",
    "    df_tmp = df.iloc[:LAST_IDX]\n",
    "    \n",
    "    cond = (df_tmp.weekday == weekday) & (df_tmp.index.time == d.time())\n",
    "    \n",
    "    pred_baseline[i,:] = np.quantile(df_tmp[cond].iloc[-last_t:][\"gesamt\"], q=tau, method='median_unbiased')"
   ]
  },
  {
   "cell_type": "code",
   "execution_count": 40,
   "id": "19935ed4-040c-4169-a28c-437a2effeede",
   "metadata": {},
   "outputs": [
    {
     "data": {
      "text/plain": [
       "array([[53.12173333, 60.32454167, 63.3315    , 66.6098125 , 72.63195208],\n",
       "       [48.97817292, 55.72366667, 58.491375  , 62.38220833, 68.14030417],\n",
       "       [49.32181042, 52.41879167, 55.982125  , 58.927     , 65.41275833],\n",
       "       [47.58415417, 51.01814583, 53.70675   , 56.42645833, 62.65591875],\n",
       "       [43.93267917, 46.96666667, 49.828125  , 53.3534375 , 59.28986875],\n",
       "       [43.24113958, 46.4881875 , 48.92575   , 52.85972917, 57.71395208]])"
      ]
     },
     "execution_count": 40,
     "metadata": {},
     "output_type": "execute_result"
    }
   ],
   "source": [
    "pred_baseline"
   ]
  },
  {
   "cell_type": "markdown",
   "id": "420cfb8d-f64b-46b1-88e3-8d5159eb88bc",
   "metadata": {},
   "source": [
    "Visually check if quantiles make sense"
   ]
  },
  {
   "cell_type": "code",
   "execution_count": 41,
   "id": "daf9b394-79d2-48dd-914b-8fc9a9f1a5a1",
   "metadata": {},
   "outputs": [
    {
     "data": {
      "image/png": "[encoded data removed]",
      "text/plain": [
       "<Figure size 640x480 with 1 Axes>"
      ]
     },
     "metadata": {},
     "output_type": "display_data"
    }
   ],
   "source": [
    "x = horizons\n",
    "_ = plt.plot(x,pred_baseline, ls=\"\", marker=\"o\", c=\"black\")\n",
    "_ = plt.xticks(x, x)\n",
    "_ = plt.plot((x,x),(pred_baseline[:,0], pred_baseline[:,-1]),c='black')"
   ]
  },
  {
   "cell_type": "code",
   "execution_count": 35,
   "id": "0ee8c6fe-43c9-4a71-b8f0-300a382f59c6",
   "metadata": {},
   "outputs": [],
   "source": [
    "from datetime import datetime, date, timedelta\n",
    "date_str = datetime.today().strftime('%Y%m%d')"
   ]
  },
  {
   "cell_type": "code",
   "execution_count": 36,
   "id": "6024fd0b-f3d5-40f4-81cd-5d2d6f5d4237",
   "metadata": {},
   "outputs": [
    {
     "data": {
      "text/plain": [
       "'20240117'"
      ]
     },
     "execution_count": 36,
     "metadata": {},
     "output_type": "execute_result"
    }
   ],
   "source": [
    "date_str = date.today() #- timedelta(days=1)\n",
    "date_str = date_str.strftime('%Y%m%d')\n",
    "date_str"
   ]
  },
  {
   "cell_type": "code",
   "execution_count": 37,
   "id": "ff1ff112-6973-4e8c-be11-5705434c3416",
   "metadata": {},
   "outputs": [
    {
     "data": {
      "text/html": [
       "<div>\n",
       "<style scoped>\n",
       "    .dataframe tbody tr th:only-of-type {\n",
       "        vertical-align: middle;\n",
       "    }\n",
       "\n",
       "    .dataframe tbody tr th {\n",
       "        vertical-align: top;\n",
       "    }\n",
       "\n",
       "    .dataframe thead th {\n",
       "        text-align: right;\n",
       "    }\n",
       "</style>\n",
       "<table border=\"1\" class=\"dataframe\">\n",
       "  <thead>\n",
       "    <tr style=\"text-align: right;\">\n",
       "      <th></th>\n",
       "      <th>forecast_date</th>\n",
       "      <th>target</th>\n",
       "      <th>horizon</th>\n",
       "      <th>q0.025</th>\n",
       "      <th>q0.25</th>\n",
       "      <th>q0.5</th>\n",
       "      <th>q0.75</th>\n",
       "      <th>q0.975</th>\n",
       "    </tr>\n",
       "  </thead>\n",
       "  <tbody>\n",
       "    <tr>\n",
       "      <th>0</th>\n",
       "      <td>20240117</td>\n",
       "      <td>energy</td>\n",
       "      <td>36 hour</td>\n",
       "      <td>53.274763</td>\n",
       "      <td>60.327375</td>\n",
       "      <td>63.331500</td>\n",
       "      <td>66.604062</td>\n",
       "      <td>71.828094</td>\n",
       "    </tr>\n",
       "    <tr>\n",
       "      <th>1</th>\n",
       "      <td>20240117</td>\n",
       "      <td>energy</td>\n",
       "      <td>40 hour</td>\n",
       "      <td>50.642019</td>\n",
       "      <td>55.750000</td>\n",
       "      <td>58.491375</td>\n",
       "      <td>62.370375</td>\n",
       "      <td>67.863419</td>\n",
       "    </tr>\n",
       "    <tr>\n",
       "      <th>2</th>\n",
       "      <td>20240117</td>\n",
       "      <td>energy</td>\n",
       "      <td>44 hour</td>\n",
       "      <td>49.348806</td>\n",
       "      <td>52.423625</td>\n",
       "      <td>55.982125</td>\n",
       "      <td>58.662000</td>\n",
       "      <td>65.096013</td>\n",
       "    </tr>\n",
       "    <tr>\n",
       "      <th>3</th>\n",
       "      <td>20240117</td>\n",
       "      <td>energy</td>\n",
       "      <td>60 hour</td>\n",
       "      <td>47.755431</td>\n",
       "      <td>51.050062</td>\n",
       "      <td>53.706750</td>\n",
       "      <td>56.397625</td>\n",
       "      <td>61.975600</td>\n",
       "    </tr>\n",
       "    <tr>\n",
       "      <th>4</th>\n",
       "      <td>20240117</td>\n",
       "      <td>energy</td>\n",
       "      <td>64 hour</td>\n",
       "      <td>44.081156</td>\n",
       "      <td>47.022000</td>\n",
       "      <td>49.828125</td>\n",
       "      <td>53.217188</td>\n",
       "      <td>58.907137</td>\n",
       "    </tr>\n",
       "    <tr>\n",
       "      <th>5</th>\n",
       "      <td>20240117</td>\n",
       "      <td>energy</td>\n",
       "      <td>68 hour</td>\n",
       "      <td>43.284444</td>\n",
       "      <td>46.577937</td>\n",
       "      <td>48.925750</td>\n",
       "      <td>52.850313</td>\n",
       "      <td>57.511206</td>\n",
       "    </tr>\n",
       "  </tbody>\n",
       "</table>\n",
       "</div>"
      ],
      "text/plain": [
       "  forecast_date  target  horizon     q0.025      q0.25       q0.5      q0.75  \\\n",
       "0      20240117  energy  36 hour  53.274763  60.327375  63.331500  66.604062   \n",
       "1      20240117  energy  40 hour  50.642019  55.750000  58.491375  62.370375   \n",
       "2      20240117  energy  44 hour  49.348806  52.423625  55.982125  58.662000   \n",
       "3      20240117  energy  60 hour  47.755431  51.050062  53.706750  56.397625   \n",
       "4      20240117  energy  64 hour  44.081156  47.022000  49.828125  53.217188   \n",
       "5      20240117  energy  68 hour  43.284444  46.577937  48.925750  52.850313   \n",
       "\n",
       "      q0.975  \n",
       "0  71.828094  \n",
       "1  67.863419  \n",
       "2  65.096013  \n",
       "3  61.975600  \n",
       "4  58.907137  \n",
       "5  57.511206  "
      ]
     },
     "execution_count": 37,
     "metadata": {},
     "output_type": "execute_result"
    }
   ],
   "source": [
    "df_sub = pd.DataFrame({\n",
    "    \"forecast_date\": date_str,\n",
    "    \"target\": \"energy\",\n",
    "    \"horizon\": [str(h) + \" hour\" for h in horizons_def],\n",
    "    \"q0.025\": pred_baseline[:,0],\n",
    "    \"q0.25\": pred_baseline[:,1],\n",
    "    \"q0.5\": pred_baseline[:,2],\n",
    "    \"q0.75\": pred_baseline[:,3],\n",
    "    \"q0.975\": pred_baseline[:,4]})\n",
    "df_sub"
   ]
  },
  {
   "cell_type": "code",
   "execution_count": 38,
   "id": "94f92f2c-859a-4094-8bb4-3249c4de4f2b",
   "metadata": {},
   "outputs": [
    {
     "ename": "OSError",
     "evalue": "Cannot save file into a non-existent directory: '\\save\\to'",
     "output_type": "error",
     "traceback": [
      "\u001b[1;31m---------------------------------------------------------------------------\u001b[0m",
      "\u001b[1;31mOSError\u001b[0m                                   Traceback (most recent call last)",
      "Cell \u001b[1;32mIn[38], line 5\u001b[0m\n\u001b[0;32m      1\u001b[0m \u001b[38;5;66;03m#need to change this\u001b[39;00m\n\u001b[0;32m      2\u001b[0m PATH \u001b[38;5;241m=\u001b[39m \u001b[38;5;124m\"\u001b[39m\u001b[38;5;124m/save/to/path\u001b[39m\u001b[38;5;124m\"\u001b[39m\n\u001b[1;32m----> 5\u001b[0m \u001b[43mdf_sub\u001b[49m\u001b[38;5;241;43m.\u001b[39;49m\u001b[43mto_csv\u001b[49m\u001b[43m(\u001b[49m\u001b[43mPATH\u001b[49m\u001b[38;5;241;43m+\u001b[39;49m\u001b[43mdate_str\u001b[49m\u001b[38;5;241;43m+\u001b[39;49m\u001b[38;5;124;43m\"\u001b[39;49m\u001b[38;5;124;43m_power_benchmark.csv\u001b[39;49m\u001b[38;5;124;43m\"\u001b[39;49m\u001b[43m,\u001b[49m\u001b[43m \u001b[49m\u001b[43mindex\u001b[49m\u001b[38;5;241;43m=\u001b[39;49m\u001b[38;5;28;43;01mFalse\u001b[39;49;00m\u001b[43m)\u001b[49m\n",
      "File \u001b[1;32mc:\\Users\\ytl_c\\miniconda3\\Lib\\site-packages\\pandas\\core\\generic.py:3902\u001b[0m, in \u001b[0;36mNDFrame.to_csv\u001b[1;34m(self, path_or_buf, sep, na_rep, float_format, columns, header, index, index_label, mode, encoding, compression, quoting, quotechar, lineterminator, chunksize, date_format, doublequote, escapechar, decimal, errors, storage_options)\u001b[0m\n\u001b[0;32m   3891\u001b[0m df \u001b[38;5;241m=\u001b[39m \u001b[38;5;28mself\u001b[39m \u001b[38;5;28;01mif\u001b[39;00m \u001b[38;5;28misinstance\u001b[39m(\u001b[38;5;28mself\u001b[39m, ABCDataFrame) \u001b[38;5;28;01melse\u001b[39;00m \u001b[38;5;28mself\u001b[39m\u001b[38;5;241m.\u001b[39mto_frame()\n\u001b[0;32m   3893\u001b[0m formatter \u001b[38;5;241m=\u001b[39m DataFrameFormatter(\n\u001b[0;32m   3894\u001b[0m     frame\u001b[38;5;241m=\u001b[39mdf,\n\u001b[0;32m   3895\u001b[0m     header\u001b[38;5;241m=\u001b[39mheader,\n\u001b[1;32m   (...)\u001b[0m\n\u001b[0;32m   3899\u001b[0m     decimal\u001b[38;5;241m=\u001b[39mdecimal,\n\u001b[0;32m   3900\u001b[0m )\n\u001b[1;32m-> 3902\u001b[0m \u001b[38;5;28;01mreturn\u001b[39;00m \u001b[43mDataFrameRenderer\u001b[49m\u001b[43m(\u001b[49m\u001b[43mformatter\u001b[49m\u001b[43m)\u001b[49m\u001b[38;5;241;43m.\u001b[39;49m\u001b[43mto_csv\u001b[49m\u001b[43m(\u001b[49m\n\u001b[0;32m   3903\u001b[0m \u001b[43m    \u001b[49m\u001b[43mpath_or_buf\u001b[49m\u001b[43m,\u001b[49m\n\u001b[0;32m   3904\u001b[0m \u001b[43m    \u001b[49m\u001b[43mlineterminator\u001b[49m\u001b[38;5;241;43m=\u001b[39;49m\u001b[43mlineterminator\u001b[49m\u001b[43m,\u001b[49m\n\u001b[0;32m   3905\u001b[0m \u001b[43m    \u001b[49m\u001b[43msep\u001b[49m\u001b[38;5;241;43m=\u001b[39;49m\u001b[43msep\u001b[49m\u001b[43m,\u001b[49m\n\u001b[0;32m   3906\u001b[0m \u001b[43m    \u001b[49m\u001b[43mencoding\u001b[49m\u001b[38;5;241;43m=\u001b[39;49m\u001b[43mencoding\u001b[49m\u001b[43m,\u001b[49m\n\u001b[0;32m   3907\u001b[0m \u001b[43m    \u001b[49m\u001b[43merrors\u001b[49m\u001b[38;5;241;43m=\u001b[39;49m\u001b[43merrors\u001b[49m\u001b[43m,\u001b[49m\n\u001b[0;32m   3908\u001b[0m \u001b[43m    \u001b[49m\u001b[43mcompression\u001b[49m\u001b[38;5;241;43m=\u001b[39;49m\u001b[43mcompression\u001b[49m\u001b[43m,\u001b[49m\n\u001b[0;32m   3909\u001b[0m \u001b[43m    \u001b[49m\u001b[43mquoting\u001b[49m\u001b[38;5;241;43m=\u001b[39;49m\u001b[43mquoting\u001b[49m\u001b[43m,\u001b[49m\n\u001b[0;32m   3910\u001b[0m \u001b[43m    \u001b[49m\u001b[43mcolumns\u001b[49m\u001b[38;5;241;43m=\u001b[39;49m\u001b[43mcolumns\u001b[49m\u001b[43m,\u001b[49m\n\u001b[0;32m   3911\u001b[0m \u001b[43m    \u001b[49m\u001b[43mindex_label\u001b[49m\u001b[38;5;241;43m=\u001b[39;49m\u001b[43mindex_label\u001b[49m\u001b[43m,\u001b[49m\n\u001b[0;32m   3912\u001b[0m \u001b[43m    \u001b[49m\u001b[43mmode\u001b[49m\u001b[38;5;241;43m=\u001b[39;49m\u001b[43mmode\u001b[49m\u001b[43m,\u001b[49m\n\u001b[0;32m   3913\u001b[0m \u001b[43m    \u001b[49m\u001b[43mchunksize\u001b[49m\u001b[38;5;241;43m=\u001b[39;49m\u001b[43mchunksize\u001b[49m\u001b[43m,\u001b[49m\n\u001b[0;32m   3914\u001b[0m \u001b[43m    \u001b[49m\u001b[43mquotechar\u001b[49m\u001b[38;5;241;43m=\u001b[39;49m\u001b[43mquotechar\u001b[49m\u001b[43m,\u001b[49m\n\u001b[0;32m   3915\u001b[0m \u001b[43m    \u001b[49m\u001b[43mdate_format\u001b[49m\u001b[38;5;241;43m=\u001b[39;49m\u001b[43mdate_format\u001b[49m\u001b[43m,\u001b[49m\n\u001b[0;32m   3916\u001b[0m \u001b[43m    \u001b[49m\u001b[43mdoublequote\u001b[49m\u001b[38;5;241;43m=\u001b[39;49m\u001b[43mdoublequote\u001b[49m\u001b[43m,\u001b[49m\n\u001b[0;32m   3917\u001b[0m \u001b[43m    \u001b[49m\u001b[43mescapechar\u001b[49m\u001b[38;5;241;43m=\u001b[39;49m\u001b[43mescapechar\u001b[49m\u001b[43m,\u001b[49m\n\u001b[0;32m   3918\u001b[0m \u001b[43m    \u001b[49m\u001b[43mstorage_options\u001b[49m\u001b[38;5;241;43m=\u001b[39;49m\u001b[43mstorage_options\u001b[49m\u001b[43m,\u001b[49m\n\u001b[0;32m   3919\u001b[0m \u001b[43m\u001b[49m\u001b[43m)\u001b[49m\n",
      "File \u001b[1;32mc:\\Users\\ytl_c\\miniconda3\\Lib\\site-packages\\pandas\\io\\formats\\format.py:1152\u001b[0m, in \u001b[0;36mDataFrameRenderer.to_csv\u001b[1;34m(self, path_or_buf, encoding, sep, columns, index_label, mode, compression, quoting, quotechar, lineterminator, chunksize, date_format, doublequote, escapechar, errors, storage_options)\u001b[0m\n\u001b[0;32m   1131\u001b[0m     created_buffer \u001b[38;5;241m=\u001b[39m \u001b[38;5;28;01mFalse\u001b[39;00m\n\u001b[0;32m   1133\u001b[0m csv_formatter \u001b[38;5;241m=\u001b[39m CSVFormatter(\n\u001b[0;32m   1134\u001b[0m     path_or_buf\u001b[38;5;241m=\u001b[39mpath_or_buf,\n\u001b[0;32m   1135\u001b[0m     lineterminator\u001b[38;5;241m=\u001b[39mlineterminator,\n\u001b[1;32m   (...)\u001b[0m\n\u001b[0;32m   1150\u001b[0m     formatter\u001b[38;5;241m=\u001b[39m\u001b[38;5;28mself\u001b[39m\u001b[38;5;241m.\u001b[39mfmt,\n\u001b[0;32m   1151\u001b[0m )\n\u001b[1;32m-> 1152\u001b[0m \u001b[43mcsv_formatter\u001b[49m\u001b[38;5;241;43m.\u001b[39;49m\u001b[43msave\u001b[49m\u001b[43m(\u001b[49m\u001b[43m)\u001b[49m\n\u001b[0;32m   1154\u001b[0m \u001b[38;5;28;01mif\u001b[39;00m created_buffer:\n\u001b[0;32m   1155\u001b[0m     \u001b[38;5;28;01massert\u001b[39;00m \u001b[38;5;28misinstance\u001b[39m(path_or_buf, StringIO)\n",
      "File \u001b[1;32mc:\\Users\\ytl_c\\miniconda3\\Lib\\site-packages\\pandas\\io\\formats\\csvs.py:247\u001b[0m, in \u001b[0;36mCSVFormatter.save\u001b[1;34m(self)\u001b[0m\n\u001b[0;32m    243\u001b[0m \u001b[38;5;250m\u001b[39m\u001b[38;5;124;03m\"\"\"\u001b[39;00m\n\u001b[0;32m    244\u001b[0m \u001b[38;5;124;03mCreate the writer & save.\u001b[39;00m\n\u001b[0;32m    245\u001b[0m \u001b[38;5;124;03m\"\"\"\u001b[39;00m\n\u001b[0;32m    246\u001b[0m \u001b[38;5;66;03m# apply compression and byte/text conversion\u001b[39;00m\n\u001b[1;32m--> 247\u001b[0m \u001b[38;5;28;01mwith\u001b[39;00m \u001b[43mget_handle\u001b[49m\u001b[43m(\u001b[49m\n\u001b[0;32m    248\u001b[0m \u001b[43m    \u001b[49m\u001b[38;5;28;43mself\u001b[39;49m\u001b[38;5;241;43m.\u001b[39;49m\u001b[43mfilepath_or_buffer\u001b[49m\u001b[43m,\u001b[49m\n\u001b[0;32m    249\u001b[0m \u001b[43m    \u001b[49m\u001b[38;5;28;43mself\u001b[39;49m\u001b[38;5;241;43m.\u001b[39;49m\u001b[43mmode\u001b[49m\u001b[43m,\u001b[49m\n\u001b[0;32m    250\u001b[0m \u001b[43m    \u001b[49m\u001b[43mencoding\u001b[49m\u001b[38;5;241;43m=\u001b[39;49m\u001b[38;5;28;43mself\u001b[39;49m\u001b[38;5;241;43m.\u001b[39;49m\u001b[43mencoding\u001b[49m\u001b[43m,\u001b[49m\n\u001b[0;32m    251\u001b[0m \u001b[43m    \u001b[49m\u001b[43merrors\u001b[49m\u001b[38;5;241;43m=\u001b[39;49m\u001b[38;5;28;43mself\u001b[39;49m\u001b[38;5;241;43m.\u001b[39;49m\u001b[43merrors\u001b[49m\u001b[43m,\u001b[49m\n\u001b[0;32m    252\u001b[0m \u001b[43m    \u001b[49m\u001b[43mcompression\u001b[49m\u001b[38;5;241;43m=\u001b[39;49m\u001b[38;5;28;43mself\u001b[39;49m\u001b[38;5;241;43m.\u001b[39;49m\u001b[43mcompression\u001b[49m\u001b[43m,\u001b[49m\n\u001b[0;32m    253\u001b[0m \u001b[43m    \u001b[49m\u001b[43mstorage_options\u001b[49m\u001b[38;5;241;43m=\u001b[39;49m\u001b[38;5;28;43mself\u001b[39;49m\u001b[38;5;241;43m.\u001b[39;49m\u001b[43mstorage_options\u001b[49m\u001b[43m,\u001b[49m\n\u001b[0;32m    254\u001b[0m \u001b[43m\u001b[49m\u001b[43m)\u001b[49m \u001b[38;5;28;01mas\u001b[39;00m handles:\n\u001b[0;32m    255\u001b[0m     \u001b[38;5;66;03m# Note: self.encoding is irrelevant here\u001b[39;00m\n\u001b[0;32m    256\u001b[0m     \u001b[38;5;28mself\u001b[39m\u001b[38;5;241m.\u001b[39mwriter \u001b[38;5;241m=\u001b[39m csvlib\u001b[38;5;241m.\u001b[39mwriter(\n\u001b[0;32m    257\u001b[0m         handles\u001b[38;5;241m.\u001b[39mhandle,\n\u001b[0;32m    258\u001b[0m         lineterminator\u001b[38;5;241m=\u001b[39m\u001b[38;5;28mself\u001b[39m\u001b[38;5;241m.\u001b[39mlineterminator,\n\u001b[1;32m   (...)\u001b[0m\n\u001b[0;32m    263\u001b[0m         quotechar\u001b[38;5;241m=\u001b[39m\u001b[38;5;28mself\u001b[39m\u001b[38;5;241m.\u001b[39mquotechar,\n\u001b[0;32m    264\u001b[0m     )\n\u001b[0;32m    266\u001b[0m     \u001b[38;5;28mself\u001b[39m\u001b[38;5;241m.\u001b[39m_save()\n",
      "File \u001b[1;32mc:\\Users\\ytl_c\\miniconda3\\Lib\\site-packages\\pandas\\io\\common.py:739\u001b[0m, in \u001b[0;36mget_handle\u001b[1;34m(path_or_buf, mode, encoding, compression, memory_map, is_text, errors, storage_options)\u001b[0m\n\u001b[0;32m    737\u001b[0m \u001b[38;5;66;03m# Only for write methods\u001b[39;00m\n\u001b[0;32m    738\u001b[0m \u001b[38;5;28;01mif\u001b[39;00m \u001b[38;5;124m\"\u001b[39m\u001b[38;5;124mr\u001b[39m\u001b[38;5;124m\"\u001b[39m \u001b[38;5;129;01mnot\u001b[39;00m \u001b[38;5;129;01min\u001b[39;00m mode \u001b[38;5;129;01mand\u001b[39;00m is_path:\n\u001b[1;32m--> 739\u001b[0m     \u001b[43mcheck_parent_directory\u001b[49m\u001b[43m(\u001b[49m\u001b[38;5;28;43mstr\u001b[39;49m\u001b[43m(\u001b[49m\u001b[43mhandle\u001b[49m\u001b[43m)\u001b[49m\u001b[43m)\u001b[49m\n\u001b[0;32m    741\u001b[0m \u001b[38;5;28;01mif\u001b[39;00m compression:\n\u001b[0;32m    742\u001b[0m     \u001b[38;5;28;01mif\u001b[39;00m compression \u001b[38;5;241m!=\u001b[39m \u001b[38;5;124m\"\u001b[39m\u001b[38;5;124mzstd\u001b[39m\u001b[38;5;124m\"\u001b[39m:\n\u001b[0;32m    743\u001b[0m         \u001b[38;5;66;03m# compression libraries do not like an explicit text-mode\u001b[39;00m\n",
      "File \u001b[1;32mc:\\Users\\ytl_c\\miniconda3\\Lib\\site-packages\\pandas\\io\\common.py:604\u001b[0m, in \u001b[0;36mcheck_parent_directory\u001b[1;34m(path)\u001b[0m\n\u001b[0;32m    602\u001b[0m parent \u001b[38;5;241m=\u001b[39m Path(path)\u001b[38;5;241m.\u001b[39mparent\n\u001b[0;32m    603\u001b[0m \u001b[38;5;28;01mif\u001b[39;00m \u001b[38;5;129;01mnot\u001b[39;00m parent\u001b[38;5;241m.\u001b[39mis_dir():\n\u001b[1;32m--> 604\u001b[0m     \u001b[38;5;28;01mraise\u001b[39;00m \u001b[38;5;167;01mOSError\u001b[39;00m(\u001b[38;5;124mrf\u001b[39m\u001b[38;5;124m\"\u001b[39m\u001b[38;5;124mCannot save file into a non-existent directory: \u001b[39m\u001b[38;5;124m'\u001b[39m\u001b[38;5;132;01m{\u001b[39;00mparent\u001b[38;5;132;01m}\u001b[39;00m\u001b[38;5;124m'\u001b[39m\u001b[38;5;124m\"\u001b[39m)\n",
      "\u001b[1;31mOSError\u001b[0m: Cannot save file into a non-existent directory: '\\save\\to'"
     ]
    }
   ],
   "source": [
    "#need to change this\n",
    "PATH = \"/save/to/path\"\n",
    "\n",
    "\n",
    "df_sub.to_csv(PATH+date_str+\"_power_benchmark.csv\", index=False)"
   ]
  },
  {
   "cell_type": "code",
   "execution_count": null,
   "id": "ec87e79b-7c52-4b83-8848-154e90df9323",
   "metadata": {},
   "outputs": [],
   "source": []
  }
 ],
 "metadata": {
  "kernelspec": {
   "display_name": "Python 3 (ipykernel)",
   "language": "python",
   "name": "python3"
  },
  "language_info": {
   "codemirror_mode": {
    "name": "ipython",
    "version": 3
   },
   "file_extension": ".py",
   "mimetype": "text/x-python",
   "name": "python",
   "nbconvert_exporter": "python",
   "pygments_lexer": "ipython3",
   "version": "3.11.5"
  }
 },
 "nbformat": 4,
 "nbformat_minor": 5
}
