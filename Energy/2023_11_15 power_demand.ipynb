{
 "cells": [
  {
   "cell_type": "code",
   "execution_count": 13,
   "id": "6bfd3ae6-0e5e-4f78-9e9f-e2cc688bdee2",
   "metadata": {},
   "outputs": [],
   "source": [
    "import pandas as pd\n",
    "import numpy as np\n",
    "import matplotlib.pyplot as plt\n",
    "import os as os\n",
    "\n",
    "os.chdir(\"C:/Users/ytl_c/OneDrive/Desktop/23_24 WS (Master)/VL - PTSFC/2023_11-PTSFC\")\n",
    "from data_prepro import get_energy_data_today"
   ]
  },
  {
   "cell_type": "code",
   "execution_count": 15,
   "id": "1d362a66-6898-454f-a540-3f5773d85974",
   "metadata": {},
   "outputs": [
    {
     "name": "stdout",
     "output_type": "stream",
     "text": [
      "C:\\Users\\ytl_c\\OneDrive\\Desktop\\23_24 WS (Master)\\VL - PTSFC\\2023_11-PTSFC\n",
      "0 NA in df\n"
     ]
    }
   ],
   "source": [
    "df_hourly = get_energy_data_today()"
   ]
  },
  {
   "cell_type": "markdown",
   "id": "197ee2cb-e92b-4f40-a7b5-040aba369c79",
   "metadata": {},
   "source": [
    "---"
   ]
  },
  {
   "cell_type": "code",
   "execution_count": 26,
   "id": "ffc6169f-d45e-42b1-a0c0-a6e30c8cbec6",
   "metadata": {},
   "outputs": [
    {
     "name": "stdout",
     "output_type": "stream",
     "text": [
      "2023-12-20 13:00:00+00:00\n",
      "2023-12-21 00:00:00+00:00\n",
      "[Timestamp('2023-12-22 12:00:00+0000', tz='UTC'), Timestamp('2023-12-22 16:00:00+0000', tz='UTC'), Timestamp('2023-12-22 20:00:00+0000', tz='UTC'), Timestamp('2023-12-23 12:00:00+0000', tz='UTC'), Timestamp('2023-12-23 16:00:00+0000', tz='UTC'), Timestamp('2023-12-23 20:00:00+0000', tz='UTC')]\n"
     ]
    }
   ],
   "source": [
    "# lead times are\n",
    "horizons = [36, 40, 44, 60, 64, 68] #[24 + 12*i for i in range(5)]\n",
    "\n",
    "def get_date_from_horizon(last_ts, horizon):\n",
    "    \n",
    "    \"\"\" adds horizon hours to timeindex last_ts \"\"\"\n",
    "    \n",
    "    return last_ts + pd.DateOffset(hours = horizon)\n",
    "\n",
    "LAST_IDX = -1\n",
    "LAST_DATE = df_hourly.iloc[LAST_IDX].name\n",
    "print(LAST_DATE)\n",
    "\n",
    "thursday = LAST_DATE + pd.DateOffset(days=(3-LAST_DATE.weekday())%7)\n",
    "thursday = thursday.replace(hour=0, minute=0, second=0, microsecond=0)\n",
    "print(thursday)\n",
    "\n",
    "horizon_date = [get_date_from_horizon(thursday, h) for h in horizons]\n",
    "print(horizon_date)"
   ]
  },
  {
   "cell_type": "code",
   "execution_count": 44,
   "id": "56ba1101",
   "metadata": {},
   "outputs": [
    {
     "name": "stdout",
     "output_type": "stream",
     "text": [
      "[1]\n",
      "                             gesamt             timestamp_CET  weekday\n",
      "timestamp_UTC                                                         \n",
      "2022-12-15 12:00:00+00:00  69676.00 2022-12-15 13:00:00+01:00        3\n",
      "2022-12-15 16:00:00+00:00  70510.00 2022-12-15 17:00:00+01:00        3\n",
      "2022-12-15 20:00:00+00:00  62225.00 2022-12-15 21:00:00+01:00        3\n",
      "2022-12-16 12:00:00+00:00  67464.75 2022-12-16 13:00:00+01:00        4\n",
      "2022-12-16 12:00:00+00:00  67464.75 2022-12-16 13:00:00+01:00        4\n",
      "2022-12-16 16:00:00+00:00  68244.25 2022-12-16 17:00:00+01:00        4\n",
      "2022-12-16 16:00:00+00:00  68244.25 2022-12-16 17:00:00+01:00        4\n",
      "2022-12-16 20:00:00+00:00  58959.00 2022-12-16 21:00:00+01:00        4\n",
      "2022-12-16 20:00:00+00:00  58959.00 2022-12-16 21:00:00+01:00        4\n",
      "2022-12-17 12:00:00+00:00  59221.00 2022-12-17 13:00:00+01:00        5\n",
      "2022-12-17 12:00:00+00:00  59221.00 2022-12-17 13:00:00+01:00        5\n",
      "2022-12-17 16:00:00+00:00  62040.75 2022-12-17 17:00:00+01:00        5\n",
      "2022-12-17 16:00:00+00:00  62040.75 2022-12-17 17:00:00+01:00        5\n",
      "2022-12-17 20:00:00+00:00  55551.50 2022-12-17 21:00:00+01:00        5\n",
      "2022-12-17 20:00:00+00:00  55551.50 2022-12-17 21:00:00+01:00        5\n",
      "2022-12-18 12:00:00+00:00  56969.25 2022-12-18 13:00:00+01:00        6\n",
      "2022-12-18 12:00:00+00:00  56969.25 2022-12-18 13:00:00+01:00        6\n",
      "2022-12-18 16:00:00+00:00  59739.25 2022-12-18 17:00:00+01:00        6\n",
      "2022-12-18 16:00:00+00:00  59739.25 2022-12-18 17:00:00+01:00        6\n",
      "2022-12-18 20:00:00+00:00  56048.50 2022-12-18 21:00:00+01:00        6\n",
      "2022-12-18 20:00:00+00:00  56048.50 2022-12-18 21:00:00+01:00        6\n",
      "2022-12-19 12:00:00+00:00  69971.25 2022-12-19 13:00:00+01:00        0\n",
      "2022-12-19 12:00:00+00:00  69971.25 2022-12-19 13:00:00+01:00        0\n",
      "2022-12-19 16:00:00+00:00  69504.75 2022-12-19 17:00:00+01:00        0\n",
      "2022-12-19 16:00:00+00:00  69504.75 2022-12-19 17:00:00+01:00        0\n",
      "2022-12-19 20:00:00+00:00  60298.75 2022-12-19 21:00:00+01:00        0\n",
      "2022-12-19 20:00:00+00:00  60298.75 2022-12-19 21:00:00+01:00        0\n",
      "2022-12-20 12:00:00+00:00  67796.25 2022-12-20 13:00:00+01:00        1\n",
      "2022-12-20 12:00:00+00:00  67796.25 2022-12-20 13:00:00+01:00        1\n",
      "2022-12-20 16:00:00+00:00  67772.25 2022-12-20 17:00:00+01:00        1\n",
      "2022-12-20 16:00:00+00:00  67772.25 2022-12-20 17:00:00+01:00        1\n",
      "2022-12-20 20:00:00+00:00  57403.75 2022-12-20 21:00:00+01:00        1\n",
      "2022-12-20 20:00:00+00:00  57403.75 2022-12-20 21:00:00+01:00        1\n",
      "2022-12-21 12:00:00+00:00  63280.75 2022-12-21 13:00:00+01:00        2\n",
      "2022-12-21 12:00:00+00:00  63280.75 2022-12-21 13:00:00+01:00        2\n",
      "2022-12-21 16:00:00+00:00  64020.75 2022-12-21 17:00:00+01:00        2\n",
      "2022-12-21 16:00:00+00:00  64020.75 2022-12-21 17:00:00+01:00        2\n",
      "2022-12-21 20:00:00+00:00  55288.00 2022-12-21 21:00:00+01:00        2\n",
      "2022-12-21 20:00:00+00:00  55288.00 2022-12-21 21:00:00+01:00        2\n",
      "2022-12-22 12:00:00+00:00  60857.75 2022-12-22 13:00:00+01:00        3\n",
      "2022-12-22 12:00:00+00:00  60857.75 2022-12-22 13:00:00+01:00        3\n",
      "2022-12-22 12:00:00+00:00  60857.75 2022-12-22 13:00:00+01:00        3\n",
      "2022-12-22 16:00:00+00:00  61934.50 2022-12-22 17:00:00+01:00        3\n",
      "2022-12-22 16:00:00+00:00  61934.50 2022-12-22 17:00:00+01:00        3\n",
      "2022-12-22 16:00:00+00:00  61934.50 2022-12-22 17:00:00+01:00        3\n",
      "2022-12-22 20:00:00+00:00  53760.50 2022-12-22 21:00:00+01:00        3\n",
      "2022-12-22 20:00:00+00:00  53760.50 2022-12-22 21:00:00+01:00        3\n",
      "2022-12-22 20:00:00+00:00  53760.50 2022-12-22 21:00:00+01:00        3\n",
      "2022-12-23 12:00:00+00:00  56491.75 2022-12-23 13:00:00+01:00        4\n",
      "2022-12-23 12:00:00+00:00  56491.75 2022-12-23 13:00:00+01:00        4\n",
      "2022-12-23 12:00:00+00:00  56491.75 2022-12-23 13:00:00+01:00        4\n",
      "2022-12-23 16:00:00+00:00  57889.25 2022-12-23 17:00:00+01:00        4\n",
      "2022-12-23 16:00:00+00:00  57889.25 2022-12-23 17:00:00+01:00        4\n",
      "2022-12-23 16:00:00+00:00  57889.25 2022-12-23 17:00:00+01:00        4\n",
      "2022-12-23 20:00:00+00:00  48896.00 2022-12-23 21:00:00+01:00        4\n",
      "2022-12-23 20:00:00+00:00  48896.00 2022-12-23 21:00:00+01:00        4\n",
      "2022-12-23 20:00:00+00:00  48896.00 2022-12-23 21:00:00+01:00        4\n",
      "2022-12-24 12:00:00+00:00  48993.75 2022-12-24 13:00:00+01:00        5\n",
      "2022-12-24 12:00:00+00:00  48993.75 2022-12-24 13:00:00+01:00        5\n",
      "2022-12-24 16:00:00+00:00  50616.00 2022-12-24 17:00:00+01:00        5\n",
      "2022-12-24 16:00:00+00:00  50616.00 2022-12-24 17:00:00+01:00        5\n",
      "2022-12-24 20:00:00+00:00  42360.75 2022-12-24 21:00:00+01:00        5\n",
      "2022-12-24 20:00:00+00:00  42360.75 2022-12-24 21:00:00+01:00        5\n",
      "2022-12-25 12:00:00+00:00  44714.75 2022-12-25 13:00:00+01:00        6\n",
      "2022-12-25 12:00:00+00:00  44714.75 2022-12-25 13:00:00+01:00        6\n",
      "2022-12-25 16:00:00+00:00  47447.50 2022-12-25 17:00:00+01:00        6\n",
      "2022-12-25 16:00:00+00:00  47447.50 2022-12-25 17:00:00+01:00        6\n",
      "2022-12-25 20:00:00+00:00  44528.75 2022-12-25 21:00:00+01:00        6\n",
      "2022-12-25 20:00:00+00:00  44528.75 2022-12-25 21:00:00+01:00        6\n",
      "2022-12-26 12:00:00+00:00  48982.75 2022-12-26 13:00:00+01:00        0\n",
      "2022-12-26 12:00:00+00:00  48982.75 2022-12-26 13:00:00+01:00        0\n",
      "2022-12-26 16:00:00+00:00  50614.50 2022-12-26 17:00:00+01:00        0\n",
      "2022-12-26 16:00:00+00:00  50614.50 2022-12-26 17:00:00+01:00        0\n",
      "2022-12-26 20:00:00+00:00  46381.50 2022-12-26 21:00:00+01:00        0\n",
      "2022-12-26 20:00:00+00:00  46381.50 2022-12-26 21:00:00+01:00        0\n",
      "2022-12-27 12:00:00+00:00  55515.00 2022-12-27 13:00:00+01:00        1\n",
      "2022-12-27 12:00:00+00:00  55515.00 2022-12-27 13:00:00+01:00        1\n",
      "2022-12-27 16:00:00+00:00  57852.50 2022-12-27 17:00:00+01:00        1\n",
      "2022-12-27 16:00:00+00:00  57852.50 2022-12-27 17:00:00+01:00        1\n",
      "2022-12-27 20:00:00+00:00  50520.25 2022-12-27 21:00:00+01:00        1\n",
      "2022-12-27 20:00:00+00:00  50520.25 2022-12-27 21:00:00+01:00        1\n",
      "2022-12-28 12:00:00+00:00  56033.75 2022-12-28 13:00:00+01:00        2\n",
      "2022-12-28 12:00:00+00:00  56033.75 2022-12-28 13:00:00+01:00        2\n",
      "2022-12-28 16:00:00+00:00  57435.00 2022-12-28 17:00:00+01:00        2\n",
      "2022-12-28 16:00:00+00:00  57435.00 2022-12-28 17:00:00+01:00        2\n",
      "2022-12-28 20:00:00+00:00  50465.25 2022-12-28 21:00:00+01:00        2\n",
      "2022-12-28 20:00:00+00:00  50465.25 2022-12-28 21:00:00+01:00        2\n",
      "2022-12-29 12:00:00+00:00  55286.00 2022-12-29 13:00:00+01:00        3\n",
      "2022-12-29 12:00:00+00:00  55286.00 2022-12-29 13:00:00+01:00        3\n",
      "2022-12-29 16:00:00+00:00  57232.00 2022-12-29 17:00:00+01:00        3\n",
      "2022-12-29 16:00:00+00:00  57232.00 2022-12-29 17:00:00+01:00        3\n",
      "2022-12-29 20:00:00+00:00  49541.75 2022-12-29 21:00:00+01:00        3\n",
      "2022-12-29 20:00:00+00:00  49541.75 2022-12-29 21:00:00+01:00        3\n",
      "2022-12-30 12:00:00+00:00  52011.00 2022-12-30 13:00:00+01:00        4\n",
      "2022-12-30 16:00:00+00:00  57368.75 2022-12-30 17:00:00+01:00        4\n",
      "2022-12-30 20:00:00+00:00  49434.50 2022-12-30 21:00:00+01:00        4\n"
     ]
    }
   ],
   "source": [
    "# wanted to get closest weekday that is comparable in past year\n",
    "# but in the worst case ... ie 21.2023\n",
    "# the date in the past year with the same weekday is 22.2022 which is much closer to christmas\n",
    "\n",
    "# - - - - - - - - - -\n",
    "\n",
    "# # get past values of horizon dates from df_hourly dataframe\n",
    "\n",
    "# past_yrs = np.arange(1,2)\n",
    "# print(past_yrs)\n",
    "\n",
    "# for past_yr in past_yrs : \n",
    "\n",
    "#     # shift horizon date by past_yr years back\n",
    "#     old_horizon_date = [h - pd.DateOffset(years=past_yr) for h in horizon_date]\n",
    "#     # also add all days between plus minus 7 days of old_horizon_date\n",
    "#     old_horizon_date = old_horizon_date + [h + pd.DateOffset(days=d) for h in old_horizon_date for d in range(-7,8)]\n",
    "#     # order dates\n",
    "#     old_horizon_date.sort()\n",
    "\n",
    "#     old_vals = df_hourly.loc[old_horizon_date]\n",
    "#     print(old_vals.to_string())\n",
    "    "
   ]
  },
  {
   "cell_type": "code",
   "execution_count": 31,
   "id": "6033e162-aecf-4e8c-a143-28446cffab0f",
   "metadata": {},
   "outputs": [
    {
     "data": {
      "text/plain": [
       "array([[50.19948125, 61.776625  , 64.917     , 68.8388125 , 73.33145   ],\n",
       "       [52.16984375, 59.47725   , 62.232875  , 68.215375  , 73.9915    ],\n",
       "       [46.02658125, 50.9810625 , 54.15225   , 60.2015    , 64.73714375],\n",
       "       [46.48641875, 51.6725    , 53.555375  , 57.819     , 62.48138125],\n",
       "       [47.20428125, 51.1768125 , 53.38225   , 59.3915    , 65.00858125],\n",
       "       [42.08665   , 46.023375  , 48.626625  , 53.56975   , 57.6432625 ]])"
      ]
     },
     "execution_count": 31,
     "metadata": {},
     "output_type": "execute_result"
    }
   ],
   "source": [
    "tau = [.025, .25, .5, .75, .975]\n",
    "last_t = 24*365*2\n",
    "\n",
    "#rows correspond to horizon, columns to quantile level\n",
    "pred_baseline = np.zeros((6,5))\n",
    "\n",
    "for i,d in enumerate(horizon_date):\n",
    "    \n",
    "    # Extract the weekday and hour from the date 'd'\n",
    "    # (0 = Monday, 1 = Tuesday, ..., 6 = Sunday) \n",
    "    weekday = d.weekday()\n",
    "    hour = d.hour\n",
    "    \n",
    "    # Create a temporary DataFrame 'df_tmp' \n",
    "    # by selecting the first 'LAST_IDX' rows from the original DataFrame 'df'\n",
    "    df_tmp = df_hourly.iloc[:LAST_IDX]\n",
    "    \n",
    "    # Define a condition 'cond' to filter rows in 'df_tmp' based on the weekday and time of day\n",
    "    cond = (df_tmp.weekday == weekday) & (df_tmp.index.time == d.time())\n",
    "    \n",
    "    # Calculate the quantiles of the 'gesamt' column in 'df_tmp' that meet the 'cond' condition\n",
    "    # The quantiles are calculated for each 'tau' value, and the results are stored in 'pred_baseline'\n",
    "    pred_baseline[i, :] = np.quantile(df_tmp[cond].iloc[-last_t:][\"gesamt\"], q=tau)\n",
    "\n",
    "pred_baseline = pred_baseline / 1000\n",
    "pred_baseline"
   ]
  },
  {
   "cell_type": "markdown",
   "id": "420cfb8d-f64b-46b1-88e3-8d5159eb88bc",
   "metadata": {},
   "source": [
    "Visually check if quantiles make sense"
   ]
  },
  {
   "cell_type": "code",
   "execution_count": 32,
   "id": "daf9b394-79d2-48dd-914b-8fc9a9f1a5a1",
   "metadata": {},
   "outputs": [
    {
     "data": {
      "image/png": "[encoded data removed]",
      "text/plain": [
       "<Figure size 640x480 with 1 Axes>"
      ]
     },
     "metadata": {},
     "output_type": "display_data"
    }
   ],
   "source": [
    "x = horizons\n",
    "quantiles = tau\n",
    "# tau = [.025, .25, .5, .75, .975]\n",
    "\n",
    "colors = ['lightblue', 'blue', 'blue', 'lightblue']\n",
    "\n",
    "# Creating colored intervals between quantiles\n",
    "for i in range(len(quantiles) - 1):\n",
    "    plt.fill_between(\n",
    "        horizons,\n",
    "        pred_baseline[:, i],\n",
    "        pred_baseline[:, i + 1],\n",
    "        alpha=0.2,  # Adjust transparency as needed\n",
    "        color=colors[i],\n",
    "        label=f'Quantile {quantiles[i]} - {quantiles[i + 1]}',\n",
    "    )\n",
    "\n",
    "_ = plt.plot(x,pred_baseline, ls=\"\", marker=\"o\", c=\"black\")\n",
    "_ = plt.xticks(x, x)\n",
    "_ = plt.plot((x,x),(pred_baseline[:,0], pred_baseline[:,-1]),c='black')"
   ]
  },
  {
   "cell_type": "code",
   "execution_count": 33,
   "id": "ff1ff112-6973-4e8c-be11-5705434c3416",
   "metadata": {},
   "outputs": [
    {
     "data": {
      "text/html": [
       "<div>\n",
       "<style scoped>\n",
       "    .dataframe tbody tr th:only-of-type {\n",
       "        vertical-align: middle;\n",
       "    }\n",
       "\n",
       "    .dataframe tbody tr th {\n",
       "        vertical-align: top;\n",
       "    }\n",
       "\n",
       "    .dataframe thead th {\n",
       "        text-align: right;\n",
       "    }\n",
       "</style>\n",
       "<table border=\"1\" class=\"dataframe\">\n",
       "  <thead>\n",
       "    <tr style=\"text-align: right;\">\n",
       "      <th></th>\n",
       "      <th>forecast_date</th>\n",
       "      <th>target</th>\n",
       "      <th>horizon</th>\n",
       "      <th>q0.025</th>\n",
       "      <th>q0.25</th>\n",
       "      <th>q0.5</th>\n",
       "      <th>q0.75</th>\n",
       "      <th>q0.975</th>\n",
       "    </tr>\n",
       "  </thead>\n",
       "  <tbody>\n",
       "    <tr>\n",
       "      <th>0</th>\n",
       "      <td>2023-12-20</td>\n",
       "      <td>energy</td>\n",
       "      <td>36 hour</td>\n",
       "      <td>50.199481</td>\n",
       "      <td>61.776625</td>\n",
       "      <td>64.917000</td>\n",
       "      <td>68.838813</td>\n",
       "      <td>73.331450</td>\n",
       "    </tr>\n",
       "    <tr>\n",
       "      <th>1</th>\n",
       "      <td>2023-12-20</td>\n",
       "      <td>energy</td>\n",
       "      <td>40 hour</td>\n",
       "      <td>52.169844</td>\n",
       "      <td>59.477250</td>\n",
       "      <td>62.232875</td>\n",
       "      <td>68.215375</td>\n",
       "      <td>73.991500</td>\n",
       "    </tr>\n",
       "    <tr>\n",
       "      <th>2</th>\n",
       "      <td>2023-12-20</td>\n",
       "      <td>energy</td>\n",
       "      <td>44 hour</td>\n",
       "      <td>46.026581</td>\n",
       "      <td>50.981063</td>\n",
       "      <td>54.152250</td>\n",
       "      <td>60.201500</td>\n",
       "      <td>64.737144</td>\n",
       "    </tr>\n",
       "    <tr>\n",
       "      <th>3</th>\n",
       "      <td>2023-12-20</td>\n",
       "      <td>energy</td>\n",
       "      <td>60 hour</td>\n",
       "      <td>46.486419</td>\n",
       "      <td>51.672500</td>\n",
       "      <td>53.555375</td>\n",
       "      <td>57.819000</td>\n",
       "      <td>62.481381</td>\n",
       "    </tr>\n",
       "    <tr>\n",
       "      <th>4</th>\n",
       "      <td>2023-12-20</td>\n",
       "      <td>energy</td>\n",
       "      <td>64 hour</td>\n",
       "      <td>47.204281</td>\n",
       "      <td>51.176812</td>\n",
       "      <td>53.382250</td>\n",
       "      <td>59.391500</td>\n",
       "      <td>65.008581</td>\n",
       "    </tr>\n",
       "    <tr>\n",
       "      <th>5</th>\n",
       "      <td>2023-12-20</td>\n",
       "      <td>energy</td>\n",
       "      <td>68 hour</td>\n",
       "      <td>42.086650</td>\n",
       "      <td>46.023375</td>\n",
       "      <td>48.626625</td>\n",
       "      <td>53.569750</td>\n",
       "      <td>57.643262</td>\n",
       "    </tr>\n",
       "  </tbody>\n",
       "</table>\n",
       "</div>"
      ],
      "text/plain": [
       "  forecast_date  target  horizon     q0.025      q0.25       q0.5      q0.75  \\\n",
       "0    2023-12-20  energy  36 hour  50.199481  61.776625  64.917000  68.838813   \n",
       "1    2023-12-20  energy  40 hour  52.169844  59.477250  62.232875  68.215375   \n",
       "2    2023-12-20  energy  44 hour  46.026581  50.981063  54.152250  60.201500   \n",
       "3    2023-12-20  energy  60 hour  46.486419  51.672500  53.555375  57.819000   \n",
       "4    2023-12-20  energy  64 hour  47.204281  51.176812  53.382250  59.391500   \n",
       "5    2023-12-20  energy  68 hour  42.086650  46.023375  48.626625  53.569750   \n",
       "\n",
       "      q0.975  \n",
       "0  73.331450  \n",
       "1  73.991500  \n",
       "2  64.737144  \n",
       "3  62.481381  \n",
       "4  65.008581  \n",
       "5  57.643262  "
      ]
     },
     "execution_count": 33,
     "metadata": {},
     "output_type": "execute_result"
    }
   ],
   "source": [
    "from datetime import datetime\n",
    "date_str = datetime.today().strftime('%Y-%m-%d')\n",
    "\n",
    "df_sub = pd.DataFrame({\n",
    "    \n",
    "    \"forecast_date\": date_str, \n",
    "    \"target\": \"energy\",\n",
    "    \"horizon\": [str(h) + \" hour\" for h in horizons],\n",
    "    \"q0.025\": pred_baseline[:,0],\n",
    "    \"q0.25\": pred_baseline[:,1],\n",
    "    \"q0.5\": pred_baseline[:,2],\n",
    "    \"q0.75\": pred_baseline[:,3],\n",
    "    \"q0.975\": pred_baseline[:,4]\n",
    "\n",
    "})\n",
    "\n",
    "df_sub"
   ]
  },
  {
   "cell_type": "code",
   "execution_count": 34,
   "id": "d1ec8e2e-4f2f-44d8-a9d1-cdca39fbec02",
   "metadata": {},
   "outputs": [
    {
     "name": "stdout",
     "output_type": "stream",
     "text": [
      "True\n",
      "True\n",
      "True\n",
      "True\n",
      "True\n",
      "True\n"
     ]
    }
   ],
   "source": [
    "for row_to_check in range(df_sub.shape[0]):\n",
    "    row_values = df_sub.iloc[row_to_check, 3:].values\n",
    "    is_ordered = all(row_values[i] <= row_values[i + 1] for i in range(len(row_values) - 1))\n",
    "    print(is_ordered)"
   ]
  },
  {
   "cell_type": "code",
   "execution_count": 37,
   "id": "94f92f2c-859a-4094-8bb4-3249c4de4f2b",
   "metadata": {},
   "outputs": [],
   "source": [
    "# need to change this\n",
    "date_str = datetime.today().strftime('%Y_%m_%d')\n",
    "\n",
    "PATH = \"C:/Users/ytl_c/OneDrive/Desktop/23_24 WS (Master)/VL - PTSFC/Submissions\"\n",
    "df_sub.to_csv(PATH+\"/\"+date_str+\"_power_benchmark.csv\",index=False)"
   ]
  },
  {
   "cell_type": "code",
   "execution_count": null,
   "id": "c29cee94-2590-473e-bed5-ca6335920d85",
   "metadata": {},
   "outputs": [],
   "source": []
  }
 ],
 "metadata": {
  "kernelspec": {
   "display_name": "Python 3 (ipykernel)",
   "language": "python",
   "name": "python3"
  },
  "language_info": {
   "codemirror_mode": {
    "name": "ipython",
    "version": 3
   },
   "file_extension": ".py",
   "mimetype": "text/x-python",
   "name": "python",
   "nbconvert_exporter": "python",
   "pygments_lexer": "ipython3",
   "version": "3.11.5"
  }
 },
 "nbformat": 4,
 "nbformat_minor": 5
}
