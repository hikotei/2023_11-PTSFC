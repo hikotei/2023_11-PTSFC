{
 "cells": [
  {
   "cell_type": "code",
   "execution_count": 2,
   "metadata": {},
   "outputs": [],
   "source": [
    "import os\n",
    "import pickle\n",
    "import itertools\n",
    "from datetime import datetime\n",
    "from pprint import pprint\n",
    "\n",
    "import numpy as np\n",
    "import pandas as pd\n",
    "\n",
    "import seaborn as sns\n",
    "import matplotlib as mpl\n",
    "import matplotlib.pyplot as plt\n",
    "from adjustText import adjust_text\n",
    "\n",
    "from sklearn.metrics import mean_absolute_error\n",
    "\n",
    "os.chdir(\"C:/2023_11-PTSFC\")\n",
    "import model_train as model_train\n",
    "import data_prepro as data_prepro\n",
    "import model_eval as model_eval"
   ]
  },
  {
   "cell_type": "code",
   "execution_count": 3,
   "metadata": {},
   "outputs": [
    {
     "data": {
      "text/plain": [
       "<module 'model_eval' from 'C:\\\\2023_11-PTSFC\\\\model_eval.py'>"
      ]
     },
     "execution_count": 3,
     "metadata": {},
     "output_type": "execute_result"
    }
   ],
   "source": [
    "import importlib\n",
    "importlib.reload(model_eval)"
   ]
  },
  {
   "cell_type": "markdown",
   "metadata": {},
   "source": [
    "### Import"
   ]
  },
  {
   "cell_type": "code",
   "execution_count": 22,
   "metadata": {},
   "outputs": [],
   "source": [
    "# os.environ[\"LOKY_MAX_CPU_COUNT\"] = \"1\"  # Replace \"4\" with the desired number of cores\n",
    "\n",
    "quantiles = [0.025, 0.25, 0.5, 0.75, 0.975]\n",
    "fcast_hor = [36, 40, 44, 60, 64, 68] # in hours"
   ]
  },
  {
   "cell_type": "code",
   "execution_count": 5,
   "metadata": {},
   "outputs": [],
   "source": [
    "# Read Pickle File of Scores\n",
    "with open(\"2024-03-29_05-34-22 mstl/eval.pickle\", \"rb\") as f:\n",
    "    scores_dict = pickle.load(f)\n",
    "\n",
    "# Read Pickle File of Fcasts\n",
    "with open(\"2024-03-29_05-34-22 mstl/fcasts.pickle\", \"rb\") as f:\n",
    "    fcasts_dict = pickle.load(f)"
   ]
  },
  {
   "cell_type": "markdown",
   "metadata": {},
   "source": [
    "### All Models Evaluation"
   ]
  },
  {
   "cell_type": "code",
   "execution_count": 6,
   "metadata": {},
   "outputs": [
    {
     "data": {
      "text/html": [
       "<style type=\"text/css\">\n",
       "#T_eae5e_row0_col0, #T_eae5e_row0_col1, #T_eae5e_row0_col2, #T_eae5e_row0_col3, #T_eae5e_row0_col5, #T_eae5e_row1_col4 {\n",
       "  background-color: yellow;\n",
       "}\n",
       "</style>\n",
       "<table id=\"T_eae5e\">\n",
       "  <thead>\n",
       "    <tr>\n",
       "      <th class=\"blank level0\" >&nbsp;</th>\n",
       "      <th id=\"T_eae5e_level0_col0\" class=\"col_heading level0 col0\" >avg_qscore</th>\n",
       "      <th id=\"T_eae5e_level0_col1\" class=\"col_heading level0 col1\" >avg_qscore_0.025</th>\n",
       "      <th id=\"T_eae5e_level0_col2\" class=\"col_heading level0 col2\" >avg_qscore_0.25</th>\n",
       "      <th id=\"T_eae5e_level0_col3\" class=\"col_heading level0 col3\" >avg_qscore_0.5</th>\n",
       "      <th id=\"T_eae5e_level0_col4\" class=\"col_heading level0 col4\" >avg_qscore_0.75</th>\n",
       "      <th id=\"T_eae5e_level0_col5\" class=\"col_heading level0 col5\" >avg_qscore_0.975</th>\n",
       "    </tr>\n",
       "  </thead>\n",
       "  <tbody>\n",
       "    <tr>\n",
       "      <th id=\"T_eae5e_level0_row0\" class=\"row_heading level0 row0\" >mstl_0.5</th>\n",
       "      <td id=\"T_eae5e_row0_col0\" class=\"data row0 col0\" >0.752816</td>\n",
       "      <td id=\"T_eae5e_row0_col1\" class=\"data row0 col1\" >0.187625</td>\n",
       "      <td id=\"T_eae5e_row0_col2\" class=\"data row0 col2\" >1.035197</td>\n",
       "      <td id=\"T_eae5e_row0_col3\" class=\"data row0 col3\" >1.311123</td>\n",
       "      <td id=\"T_eae5e_row0_col4\" class=\"data row0 col4\" >1.024416</td>\n",
       "      <td id=\"T_eae5e_row0_col5\" class=\"data row0 col5\" >0.205716</td>\n",
       "    </tr>\n",
       "    <tr>\n",
       "      <th id=\"T_eae5e_level0_row1\" class=\"row_heading level0 row1\" >mstl_0.25</th>\n",
       "      <td id=\"T_eae5e_row1_col0\" class=\"data row1 col0\" >0.763535</td>\n",
       "      <td id=\"T_eae5e_row1_col1\" class=\"data row1 col1\" >0.207902</td>\n",
       "      <td id=\"T_eae5e_row1_col2\" class=\"data row1 col2\" >1.076758</td>\n",
       "      <td id=\"T_eae5e_row1_col3\" class=\"data row1 col3\" >1.315045</td>\n",
       "      <td id=\"T_eae5e_row1_col4\" class=\"data row1 col4\" >1.009274</td>\n",
       "      <td id=\"T_eae5e_row1_col5\" class=\"data row1 col5\" >0.208693</td>\n",
       "    </tr>\n",
       "    <tr>\n",
       "      <th id=\"T_eae5e_level0_row2\" class=\"row_heading level0 row2\" >mstl_4</th>\n",
       "      <td id=\"T_eae5e_row2_col0\" class=\"data row2 col0\" >0.793431</td>\n",
       "      <td id=\"T_eae5e_row2_col1\" class=\"data row2 col1\" >0.236671</td>\n",
       "      <td id=\"T_eae5e_row2_col2\" class=\"data row2 col2\" >1.077169</td>\n",
       "      <td id=\"T_eae5e_row2_col3\" class=\"data row2 col3\" >1.339435</td>\n",
       "      <td id=\"T_eae5e_row2_col4\" class=\"data row2 col4\" >1.086914</td>\n",
       "      <td id=\"T_eae5e_row2_col5\" class=\"data row2 col5\" >0.226968</td>\n",
       "    </tr>\n",
       "    <tr>\n",
       "      <th id=\"T_eae5e_level0_row3\" class=\"row_heading level0 row3\" >mstl_3</th>\n",
       "      <td id=\"T_eae5e_row3_col0\" class=\"data row3 col0\" >0.794864</td>\n",
       "      <td id=\"T_eae5e_row3_col1\" class=\"data row3 col1\" >0.237304</td>\n",
       "      <td id=\"T_eae5e_row3_col2\" class=\"data row3 col2\" >1.078629</td>\n",
       "      <td id=\"T_eae5e_row3_col3\" class=\"data row3 col3\" >1.338937</td>\n",
       "      <td id=\"T_eae5e_row3_col4\" class=\"data row3 col4\" >1.090133</td>\n",
       "      <td id=\"T_eae5e_row3_col5\" class=\"data row3 col5\" >0.229319</td>\n",
       "    </tr>\n",
       "    <tr>\n",
       "      <th id=\"T_eae5e_level0_row4\" class=\"row_heading level0 row4\" >mstl_1.5</th>\n",
       "      <td id=\"T_eae5e_row4_col0\" class=\"data row4 col0\" >0.798860</td>\n",
       "      <td id=\"T_eae5e_row4_col1\" class=\"data row4 col1\" >0.238826</td>\n",
       "      <td id=\"T_eae5e_row4_col2\" class=\"data row4 col2\" >1.083723</td>\n",
       "      <td id=\"T_eae5e_row4_col3\" class=\"data row4 col3\" >1.338937</td>\n",
       "      <td id=\"T_eae5e_row4_col4\" class=\"data row4 col4\" >1.098139</td>\n",
       "      <td id=\"T_eae5e_row4_col5\" class=\"data row4 col5\" >0.234672</td>\n",
       "    </tr>\n",
       "    <tr>\n",
       "      <th id=\"T_eae5e_level0_row5\" class=\"row_heading level0 row5\" >mstl_2</th>\n",
       "      <td id=\"T_eae5e_row5_col0\" class=\"data row5 col0\" >0.799886</td>\n",
       "      <td id=\"T_eae5e_row5_col1\" class=\"data row5 col1\" >0.239668</td>\n",
       "      <td id=\"T_eae5e_row5_col2\" class=\"data row5 col2\" >1.084982</td>\n",
       "      <td id=\"T_eae5e_row5_col3\" class=\"data row5 col3\" >1.338937</td>\n",
       "      <td id=\"T_eae5e_row5_col4\" class=\"data row5 col4\" >1.100006</td>\n",
       "      <td id=\"T_eae5e_row5_col5\" class=\"data row5 col5\" >0.235837</td>\n",
       "    </tr>\n",
       "    <tr>\n",
       "      <th id=\"T_eae5e_level0_row6\" class=\"row_heading level0 row6\" >mstl_1</th>\n",
       "      <td id=\"T_eae5e_row6_col0\" class=\"data row6 col0\" >0.800466</td>\n",
       "      <td id=\"T_eae5e_row6_col1\" class=\"data row6 col1\" >0.241344</td>\n",
       "      <td id=\"T_eae5e_row6_col2\" class=\"data row6 col2\" >1.084623</td>\n",
       "      <td id=\"T_eae5e_row6_col3\" class=\"data row6 col3\" >1.322330</td>\n",
       "      <td id=\"T_eae5e_row6_col4\" class=\"data row6 col4\" >1.110011</td>\n",
       "      <td id=\"T_eae5e_row6_col5\" class=\"data row6 col5\" >0.244023</td>\n",
       "    </tr>\n",
       "  </tbody>\n",
       "</table>\n"
      ],
      "text/plain": [
       "<pandas.io.formats.style.Styler at 0x215065df150>"
      ]
     },
     "metadata": {},
     "output_type": "display_data"
    }
   ],
   "source": [
    "input_dict = scores_dict\n",
    "all_weekly_df_dict = {}\n",
    "\n",
    "for week_key, weekly_scores in input_dict.items():\n",
    "\n",
    "    weekly_scores_df_out = pd.DataFrame(index=list(input_dict[list(input_dict.keys())[0]].keys()),\n",
    "                                    columns=['avg_qscore', 'avg_qscore_0.025', 'avg_qscore_0.25', \n",
    "                                             'avg_qscore_0.5', 'avg_qscore_0.75', 'avg_qscore_0.975'])\n",
    "\n",
    "    for key, model_scores in weekly_scores.items():\n",
    "\n",
    "        weekly_scores_df_out.loc[key, 'avg_qscore'] = model_scores.values.mean()\n",
    "        weekly_scores_df_out.loc[key, 'avg_qscore_0.025'] = model_scores.mean(axis=0).iloc[0]\n",
    "        weekly_scores_df_out.loc[key, 'avg_qscore_0.25'] = model_scores.mean(axis=0).iloc[1]\n",
    "        weekly_scores_df_out.loc[key, 'avg_qscore_0.5'] = model_scores.mean(axis=0).iloc[2]\n",
    "        weekly_scores_df_out.loc[key, 'avg_qscore_0.75'] = model_scores.mean(axis=0).iloc[3]\n",
    "        weekly_scores_df_out.loc[key, 'avg_qscore_0.975'] = model_scores.mean(axis=0).iloc[4]\n",
    "        \n",
    "    all_weekly_df_dict[week_key] = weekly_scores_df_out\n",
    "\n",
    "# sum all dataframes in dict (all_weekly_df_dict) and take mean\n",
    "weekly_scores_df_out = pd.concat(all_weekly_df_dict.values())\n",
    "weekly_scores_df_out = weekly_scores_df_out.groupby(weekly_scores_df_out.index).mean()\n",
    "weekly_scores_df_out = weekly_scores_df_out.sort_values(by='avg_qscore', ascending=True)\n",
    "# highlight min value in each col\n",
    "display(weekly_scores_df_out.style.highlight_min(color = 'yellow', axis = 0))"
   ]
  },
  {
   "cell_type": "markdown",
   "metadata": {},
   "source": [
    "### Extra Horizon Analysis from Fcasts"
   ]
  },
  {
   "cell_type": "code",
   "execution_count": 7,
   "metadata": {},
   "outputs": [],
   "source": [
    "def eval_all_ensembles_detailed(ens_size, all_models, fcasts_dict_all):\n",
    "\n",
    "    # Generate all possible combinations\n",
    "    # ens_size = 1\n",
    "    combis = list(itertools.combinations(all_models, ens_size))\n",
    "    # filter out all ensembles with repeating models\n",
    "    combis = [combi for combi in combis if len(set(combi)) == ens_size]\n",
    "    print(len(combis))\n",
    "\n",
    "    # Define the start and end dates\n",
    "    start_date = pd.Timestamp('2023-11-15')\n",
    "    end_date = pd.Timestamp('2024-02-14')\n",
    "\n",
    "    # Generate a list of weekly dates in UTC\n",
    "    fcast_dates_cet = pd.date_range(start=start_date, end=end_date, freq='W-WED').tz_localize('CET').strftime('%Y-%m-%d').tolist()\n",
    "\n",
    "    res_dict = {}\n",
    "\n",
    "    # Iterate over the forecast dates\n",
    "    for fcast_idx, fcast_date in enumerate(fcast_dates_cet):\n",
    "\n",
    "        # print('= '*30)\n",
    "        print(f\"Forecasting for week starting from {fcast_date} ...\")\n",
    "\n",
    "        # = = = = = = = = = = = = = \n",
    "        # generate prediction timestamps based on t0 = following thursday 00:00\n",
    "        # = = = = = = = = = = = = = \n",
    "\n",
    "        # Calculate the Thursday and Wednesday of the week\n",
    "        t_wednesday = pd.Timestamp(fcast_date).replace(hour=0, minute=0, second=0, microsecond=0).tz_localize('CET')\n",
    "        subm_timestamps = [(t_wednesday + pd.Timedelta(days=1, hours=fcast)) for fcast in fcast_hor]\n",
    "        # print(f\"Submission timestamps = {subm_timestamps[0]} to {subm_timestamps[-1]}\")\n",
    "\n",
    "        weekly_fcasts = fcasts_dict_all[fcast_date]\n",
    "\n",
    "        # = = = = = = = = = = = = = \n",
    "        # Evaluation based on submission timestamps\n",
    "        # = = = = = = = = = = = = = \n",
    "\n",
    "        # get actual values at every submission timestamp\n",
    "        df_energy_eval = df_energy.loc[df_energy['timestamp_CET'].isin(subm_timestamps)].copy()\n",
    "\n",
    "        weekly_model_scores_dict = {}\n",
    "\n",
    "        for combi_idx, combi in enumerate(combis):\n",
    "\n",
    "            # calculate ensemble between the preds of the models in the current combination\n",
    "            pred_list = [weekly_fcasts[model] for model in combi]\n",
    "            new_name = f\"ens | {', '.join(combi)}\" if ens_size > 1 else combi[0]\n",
    "\n",
    "            # Ignore timestamp_CET column and take the average of the quantiles\n",
    "            pred_vals_list = [pred.iloc[:, 1:].copy() for pred in pred_list]\n",
    "\n",
    "            # Take the average of the quantiles across all models in the ensemble\n",
    "            ens_pred_df = pred_list[0].copy()\n",
    "            ens_pred_df.iloc[:, 1:] = sum(pred_vals_list) / len(pred_vals_list)\n",
    "            df_scores = model_eval.eval_fcast_qscore(ens_pred_df, df_energy_eval, subm_timestamps, quantiles)\n",
    "\n",
    "            subm_df = ens_pred_df.loc[ens_pred_df['timestamp_CET'].isin(subm_timestamps)]\n",
    "            # Save the last row of the scores dataframe to final output\n",
    "            df_scores['coverage_50'] = df_energy_eval['gesamt'].between(subm_df.iloc[:, 2], subm_df.iloc[:, 4])\n",
    "            df_scores['coverage_95'] = df_energy_eval['gesamt'].between(subm_df.iloc[:, 1], subm_df.iloc[:, 5])\n",
    "            df_scores['mae_q0.5'] = np.abs(subm_df['q 0.500'] - df_energy_eval['gesamt'])\n",
    "\n",
    "            weekly_model_scores_dict[new_name] = df_scores\n",
    "\n",
    "        res_dict[fcast_date] = weekly_model_scores_dict\n",
    "\n",
    "    return res_dict\n"
   ]
  },
  {
   "cell_type": "code",
   "execution_count": 8,
   "metadata": {},
   "outputs": [
    {
     "name": "stdout",
     "output_type": "stream",
     "text": [
      "7\n",
      "Forecasting for week starting from 2023-11-15 ...\n",
      "Forecasting for week starting from 2023-11-22 ...\n",
      "Forecasting for week starting from 2023-11-29 ...\n",
      "Forecasting for week starting from 2023-12-06 ...\n",
      "Forecasting for week starting from 2023-12-13 ...\n",
      "Forecasting for week starting from 2023-12-20 ...\n",
      "Forecasting for week starting from 2023-12-27 ...\n",
      "Forecasting for week starting from 2024-01-03 ...\n",
      "Forecasting for week starting from 2024-01-10 ...\n",
      "Forecasting for week starting from 2024-01-17 ...\n",
      "Forecasting for week starting from 2024-01-24 ...\n",
      "Forecasting for week starting from 2024-01-31 ...\n",
      "Forecasting for week starting from 2024-02-07 ...\n",
      "Forecasting for week starting from 2024-02-14 ...\n"
     ]
    }
   ],
   "source": [
    "all_models = list(fcasts_dict['2023-11-15'].keys())\n",
    "res_dict_detailed = eval_all_ensembles_detailed(1, all_models, fcasts_dict)\n",
    "\n",
    "# res_df_1 = pd.concat(res_dict_1.values())\n",
    "# res_df_1 = res_df_1.groupby(res_df_1.index).mean() # .sort_values(by='avg_qscore', ascending=True)\n",
    "# # export to csv\n",
    "# # res_df_1.to_csv(\"2024_03_28 single model scores.csv\")\n",
    "# display(res_df_1.style.highlight_min(color = 'yellow', axis=0))"
   ]
  },
  {
   "cell_type": "code",
   "execution_count": 18,
   "metadata": {},
   "outputs": [],
   "source": [
    "input_dict = res_dict_detailed.copy()\n",
    "all_models = input_dict['2023-11-15'].keys()\n",
    "\n",
    "model_scores_entire_period_dict = {}\n",
    "model_avg_scores_entire_period_dict = {}\n",
    "\n",
    "for model in all_models:\n",
    "    scores_df_list = [week_dict[model] for week_dict in input_dict.values()]\n",
    "    model_scores_entire_period_dict[model] = pd.concat(scores_df_list)\n",
    "\n",
    "    # replace index of each df in scores_df_list with integers 0 to length\n",
    "    scores_df_list = [df.reset_index(drop=True) for df in scores_df_list]\n",
    "    # remove cols not containing 'q-score'\n",
    "    scores_df_list = [df.loc[:, df.columns.str.contains('q-score')] for df in scores_df_list]\n",
    "    temp_df = pd.concat(scores_df_list).groupby(level=0).mean()\n",
    "    model_avg_scores_entire_period_dict[model] = temp_df"
   ]
  },
  {
   "cell_type": "markdown",
   "metadata": {},
   "source": [
    "#### plot"
   ]
  },
  {
   "cell_type": "code",
   "execution_count": 58,
   "metadata": {},
   "outputs": [
    {
     "data": {
      "image/png": "[encoded data removed]",
      "text/plain": [
       "<Figure size 1500x500 with 1 Axes>"
      ]
     },
     "metadata": {},
     "output_type": "display_data"
    }
   ],
   "source": [
    "plt.figure(figsize=(15, 5))\n",
    "\n",
    "# mark fcast dates\n",
    "start_date = pd.Timestamp('2023-11-15')\n",
    "end_date = pd.Timestamp('2024-02-14')\n",
    "fcast_dates_cet = pd.date_range(start=start_date, end=end_date, freq='W-WED').tolist()\n",
    "\n",
    "# Define colormap\n",
    "# colormap = plt.cm.get_cmap('Blues', len(all_models))\n",
    "# cmaps = ['Blues', 'GnBu', 'PuBu', 'Purples', 'Greens']\n",
    "colormap = mpl.colormaps.get_cmap('PuBu')\n",
    "\n",
    "for i, model in enumerate(all_models):\n",
    "    model_df = model_avg_scores_entire_period_dict[model].mean(axis=1)\n",
    "    color = colormap((i+4) / (len(all_models)+6))  \n",
    "    plt.bar(np.arange(len(fcast_hor)) + i*0.1 + 0.3, model_df, width=0.07, label=model, color=color)\n",
    "\n",
    "# custom xlabels\n",
    "xlabels = [f'{hor} hrs ahead' for hor in fcast_hor]\n",
    "labels_add = ['friday 12:00', 'friday 16:00', 'friday 20:00',\n",
    "              'saturday 12:00', 'saturday 16:00', 'saturday 20:00']\n",
    "# add labels_add behind xlabels and put \\n in between\n",
    "xlabels = [f'{x}\\n{labels_add[i]}' for i, x in enumerate(xlabels)]\n",
    "plt.xticks(ticks=np.arange(len(fcast_hor)) + 0.2 * (len(all_models) - 1) / 2, labels=xlabels)\n",
    "\n",
    "plt.ylabel('Mean Q-Score')\n",
    "plt.legend(bbox_to_anchor=(1.01, 1), loc='upper left')\n",
    "plt.show()"
   ]
  },
  {
   "cell_type": "code",
   "execution_count": 59,
   "metadata": {},
   "outputs": [],
   "source": [
    "# plt.figure(figsize=(15, 5))\n",
    "\n",
    "# # mark fcast dates\n",
    "# start_date = pd.Timestamp('2023-11-15')\n",
    "# end_date = pd.Timestamp('2024-02-14')\n",
    "# fcast_dates_cet = pd.date_range(start=start_date, end=end_date, freq='W-WED').tolist()\n",
    "\n",
    "# for model in all_models:\n",
    "#     model_df = model_avg_scores_entire_period_dict[model].mean(axis=1)\n",
    "#     plt.plot(model_df.index, model_df, label=model)\n",
    "\n",
    "# # custom xlabels\n",
    "# xlabels = [f'{hor} hrs ahead' for hor in fcast_hor]\n",
    "# labels_add = ['friday 12:00', 'friday 16:00', 'friday 20:00',\n",
    "#               'saturday 12:00', 'saturday 16:00', 'saturday 20:00']\n",
    "\n",
    "# # add labels_add behind xlabels and put \\n in between\n",
    "# xlabels = [f'{x}\\n{labels_add[i]}' for i, x in enumerate(xlabels)]\n",
    "# plt.xticks(ticks=np.arange(len(fcast_hor)), labels=xlabels)\n",
    "\n",
    "# plt.ylabel('Mean Q-Score')\n",
    "# plt.legend(bbox_to_anchor=(1.01, 1), loc='upper left')\n",
    "# plt.show()"
   ]
  },
  {
   "cell_type": "code",
   "execution_count": 102,
   "metadata": {},
   "outputs": [
    {
     "data": {
      "image/png": "[encoded data removed]",
      "text/plain": [
       "<Figure size 1500x500 with 1 Axes>"
      ]
     },
     "metadata": {},
     "output_type": "display_data"
    }
   ],
   "source": [
    "plt.figure(figsize=(15, 5))\n",
    "\n",
    "# mark fcast dates\n",
    "start_date = pd.Timestamp('2023-11-15')\n",
    "end_date = pd.Timestamp('2024-02-14')\n",
    "fcast_dates_cet = pd.date_range(start=start_date, end=end_date, freq='W-WED').tolist()\n",
    "\n",
    "# Define colormap\n",
    "colormap = mpl.colormaps.get_cmap('PuBu')\n",
    "\n",
    "model = 'mstl_0.5'\n",
    "model_df = model_scores_entire_period_dict[model].iloc[:,:5].mean(axis=1) # subset qscores only\n",
    "color = colormap((5+4) / (len(all_models)+6))  \n",
    "plt.bar(model_df.index, model_df, label=model, color=color, width=0.4)\n",
    "\n",
    "# mark fcast dates\n",
    "for fcast_date in fcast_dates_cet:\n",
    "    plt.axvline(fcast_date, color='grey', linestyle='--')\n",
    "    subm_timestamps = [(fcast_date + pd.Timedelta(days=1, hours=fcast)) for fcast in fcast_hor]\n",
    "    # highlight area from first subm_timestamp to last subm_timestamp\n",
    "    plt.axvspan(subm_timestamps[0], subm_timestamps[-1], alpha=0.1, lw=0, color='grey')\n",
    "\n",
    "# custom x ticks as fcast_dates_cet\n",
    "fcast_dates_cet_str = [date.strftime('%Y-%m-%d') for date in fcast_dates_cet]\n",
    "plt.xticks(ticks=fcast_dates_cet, labels=fcast_dates_cet_str, rotation=90)\n",
    "\n",
    "plt.ylabel('Mean Q-Score')\n",
    "plt.legend(bbox_to_anchor=(1.01, 1), loc='upper left')\n",
    "plt.show()"
   ]
  },
  {
   "cell_type": "code",
   "execution_count": 103,
   "metadata": {},
   "outputs": [],
   "source": [
    "# plt.figure(figsize=(15, 5))\n",
    "\n",
    "# # mark fcast dates\n",
    "# start_date = pd.Timestamp('2023-11-15')\n",
    "# end_date = pd.Timestamp('2024-02-14')\n",
    "# fcast_dates_cet = pd.date_range(start=start_date, end=end_date, freq='W-WED').tolist()\n",
    "\n",
    "# for fcast_date in fcast_dates_cet:\n",
    "\n",
    "#     plt.axvline(fcast_date, color='grey', linestyle='--')\n",
    "#     subm_timestamps = [(fcast_date + pd.Timedelta(days=1, hours=fcast)) for fcast in fcast_hor]\n",
    "#     # highlight are from first subm_timestamp to last subm_timestamp\n",
    "#     plt.axvspan(subm_timestamps[0], subm_timestamps[-1], alpha=0.1, lw=0, color='grey')\n",
    "    \n",
    "#     # get part of model_df that is within the submission timestamps\n",
    "#     model_df = model_scores_entire_period_dict['mstl_0.5'].iloc[:,:5].mean(axis=1)\n",
    "#     model_df.index = [x.replace(tzinfo=None) for x in model_df.index]\n",
    "#     model_df = model_df.loc[model_df.index.isin(subm_timestamps)]\n",
    "#     # plt.scatter(model_df.index, model_df, label=model, s=5, marker='x')\n",
    "#     plt.plot(model_df.index, model_df, label=model, c='blue')\n",
    "\n",
    "# # rotate x labels 90 degrees\n",
    "# plt.ylabel('Mean Q-Score')\n",
    "# # set custom x ticks as fcast_dates_cet\n",
    "# fcast_dates_cet_str = [date.strftime('%Y-%m-%d') for date in fcast_dates_cet]\n",
    "# plt.xticks(ticks=fcast_dates_cet, labels=fcast_dates_cet_str, rotation=90)\n",
    "# plt.legend(bbox_to_anchor=(1.01, 1), loc='upper left')\n",
    "# plt.show()"
   ]
  }
 ],
 "metadata": {
  "kernelspec": {
   "display_name": "Python 3",
   "language": "python",
   "name": "python3"
  },
  "language_info": {
   "codemirror_mode": {
    "name": "ipython",
    "version": 3
   },
   "file_extension": ".py",
   "mimetype": "text/x-python",
   "name": "python",
   "nbconvert_exporter": "python",
   "pygments_lexer": "ipython3",
   "version": "3.11.5"
  }
 },
 "nbformat": 4,
 "nbformat_minor": 2
}
