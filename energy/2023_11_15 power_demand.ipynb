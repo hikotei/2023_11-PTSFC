{
 "cells": [
  {
   "cell_type": "code",
   "execution_count": 5,
   "id": "6bfd3ae6-0e5e-4f78-9e9f-e2cc688bdee2",
   "metadata": {},
   "outputs": [],
   "source": [
    "import pandas as pd\n",
    "import numpy as np\n",
    "import matplotlib.pyplot as plt\n",
    "import os as os\n",
    "\n",
    "os.chdir(\"C:/Users/ytl_c/OneDrive/Desktop/23_24 WS (Master)/VL - PTSFC/2023_11-PTSFC\")\n",
    "from data_prepro import get_energy_data_today"
   ]
  },
  {
   "cell_type": "code",
   "execution_count": 6,
   "id": "1d362a66-6898-454f-a540-3f5773d85974",
   "metadata": {},
   "outputs": [
    {
     "name": "stdout",
     "output_type": "stream",
     "text": [
      "C:\\Users\\ytl_c\\OneDrive\\Desktop\\23_24 WS (Master)\\VL - PTSFC\\2023_11-PTSFC\n",
      "0 NA in df\n"
     ]
    }
   ],
   "source": [
    "date_str = \"2024_01_03\"\n",
    "df_hourly = get_energy_data_today(to_date=date_str.replace(\"_\", \"\"))"
   ]
  },
  {
   "cell_type": "markdown",
   "id": "197ee2cb-e92b-4f40-a7b5-040aba369c79",
   "metadata": {},
   "source": [
    "---"
   ]
  },
  {
   "cell_type": "code",
   "execution_count": 7,
   "id": "ffc6169f-d45e-42b1-a0c0-a6e30c8cbec6",
   "metadata": {},
   "outputs": [
    {
     "name": "stdout",
     "output_type": "stream",
     "text": [
      "2024-01-03 22:00:00+00:00\n",
      "2024-01-04 00:00:00+00:00\n",
      "[Timestamp('2024-01-05 12:00:00+0000', tz='UTC'), Timestamp('2024-01-05 16:00:00+0000', tz='UTC'), Timestamp('2024-01-05 20:00:00+0000', tz='UTC'), Timestamp('2024-01-06 12:00:00+0000', tz='UTC'), Timestamp('2024-01-06 16:00:00+0000', tz='UTC'), Timestamp('2024-01-06 20:00:00+0000', tz='UTC')]\n"
     ]
    }
   ],
   "source": [
    "# lead times are\n",
    "horizons = [36, 40, 44, 60, 64, 68] #[24 + 12*i for i in range(5)]\n",
    "\n",
    "def get_date_from_horizon(last_ts, horizon):\n",
    "    \n",
    "    \"\"\" adds horizon hours to timeindex last_ts \"\"\"\n",
    "    \n",
    "    return last_ts + pd.DateOffset(hours = horizon)\n",
    "\n",
    "LAST_IDX = -1\n",
    "LAST_DATE = df_hourly.iloc[LAST_IDX].name\n",
    "print(LAST_DATE)\n",
    "\n",
    "thursday = LAST_DATE + pd.DateOffset(days=(3-LAST_DATE.weekday())%7)\n",
    "thursday = thursday.replace(hour=0, minute=0, second=0, microsecond=0)\n",
    "print(thursday)\n",
    "\n",
    "horizon_date = [get_date_from_horizon(thursday, h) for h in horizons]\n",
    "print(horizon_date)"
   ]
  },
  {
   "cell_type": "code",
   "execution_count": 8,
   "id": "56ba1101",
   "metadata": {},
   "outputs": [],
   "source": [
    "# wanted to get closest weekday that is comparable in past year\n",
    "# but in the worst case ... ie 21.2023\n",
    "# the date in the past year with the same weekday is 22.2022 which is much closer to christmas\n",
    "\n",
    "# - - - - - - - - - -\n",
    "\n",
    "# # get past values of horizon dates from df_hourly dataframe\n",
    "\n",
    "# past_yrs = np.arange(1,2)\n",
    "# print(past_yrs)\n",
    "\n",
    "# for past_yr in past_yrs : \n",
    "\n",
    "#     # shift horizon date by past_yr years back\n",
    "#     old_horizon_date = [h - pd.DateOffset(years=past_yr) for h in horizon_date]\n",
    "#     # also add all days between plus minus 7 days of old_horizon_date\n",
    "#     old_horizon_date = old_horizon_date + [h + pd.DateOffset(days=d) for h in old_horizon_date for d in range(-7,8)]\n",
    "#     # order dates\n",
    "#     old_horizon_date.sort()\n",
    "\n",
    "#     old_vals = df_hourly.loc[old_horizon_date]\n",
    "#     print(old_vals.to_string())\n",
    "    "
   ]
  },
  {
   "cell_type": "code",
   "execution_count": 12,
   "id": "6033e162-aecf-4e8c-a143-28446cffab0f",
   "metadata": {},
   "outputs": [
    {
     "data": {
      "text/plain": [
       "array([[50.20586875, 61.592125  , 64.8805    , 68.8294375 , 73.32865   ],\n",
       "       [52.16990625, 59.46025   , 62.19525   , 68.1903125 , 73.985     ],\n",
       "       [46.03406875, 50.9771875 , 54.14225   , 60.1693125 , 64.73600625],\n",
       "       [46.49343125, 51.669     , 53.555375  , 57.798125  , 62.48016875],\n",
       "       [47.21196875, 51.1749375 , 53.38225   , 59.352625  , 65.00006875],\n",
       "       [42.09105   , 46.021125  , 48.597625  , 53.566625  , 57.6413375 ]])"
      ]
     },
     "execution_count": 12,
     "metadata": {},
     "output_type": "execute_result"
    }
   ],
   "source": [
    "tau = [.025, .25, .5, .75, .975]\n",
    "last_t = 24*365*2\n",
    "\n",
    "# add weekday col to dataframe based on timestamp_CET column\n",
    "df_hourly['weekday'] = df_hourly['timestamp_CET'].dt.weekday\n",
    "\n",
    "# rows correspond to horizon, columns to quantile level\n",
    "pred_baseline = np.zeros((6,5))\n",
    "\n",
    "for i,d in enumerate(horizon_date):\n",
    "    \n",
    "    # Extract the weekday and hour from the date 'd'\n",
    "    # (0 = Monday, 1 = Tuesday, ..., 6 = Sunday) \n",
    "    weekday = d.weekday()\n",
    "    hour = d.hour\n",
    "    \n",
    "    # Create a temporary DataFrame 'df_tmp' \n",
    "    # by selecting the first 'LAST_IDX' rows from the original DataFrame 'df'\n",
    "    df_tmp = df_hourly.iloc[:LAST_IDX]\n",
    "    \n",
    "    # Define a condition 'cond' to filter rows in 'df_tmp' based on the weekday and time of day\n",
    "    cond = (df_tmp.weekday == weekday) & (df_tmp.index.time == d.time())\n",
    "    \n",
    "    # Calculate the quantiles of the 'gesamt' column in 'df_tmp' that meet the 'cond' condition\n",
    "    # The quantiles are calculated for each 'tau' value, and the results are stored in 'pred_baseline'\n",
    "    pred_baseline[i, :] = np.quantile(df_tmp[cond].iloc[-last_t:][\"gesamt\"], q=tau)\n",
    "\n",
    "pred_baseline = pred_baseline / 1000\n",
    "pred_baseline"
   ]
  },
  {
   "cell_type": "code",
   "execution_count": 21,
   "id": "28de942c",
   "metadata": {},
   "outputs": [
    {
     "data": {
      "text/plain": [
       "array([[55.80930937, 64.9478125 , 67.81509375, 70.96771875, 74.95695   ],\n",
       "       [54.82345313, 62.217875  , 64.93646875, 69.07290625, 73.7785    ],\n",
       "       [51.39740937, 57.34221875, 60.23134375, 64.25290625, 67.83800313],\n",
       "       [49.56359063, 53.678125  , 55.43079687, 58.7535625 , 62.92483438],\n",
       "       [47.95498437, 51.76709375, 53.80823437, 57.9555625 , 62.67815937],\n",
       "       [45.0364    , 48.5560625 , 50.73729687, 54.2530625 , 57.68279375]])"
      ]
     },
     "execution_count": 21,
     "metadata": {},
     "output_type": "execute_result"
    }
   ],
   "source": [
    "pred = np.array([[61.41275   , 68.3035    , 70.7496875 , 73.106     , 76.58525   ],\n",
    "       [57.477     , 64.9755    , 67.6776875 , 69.9555    , 73.572     ],\n",
    "       [56.76075   , 63.70725   , 66.3204375 , 68.3365    , 70.94      ],\n",
    "       [52.63375   , 55.68725   , 57.30621875, 59.709     , 63.3695    ],\n",
    "       [48.698     , 52.35925   , 54.23421875, 56.5585    , 60.35625   ],\n",
    "       [47.98175   , 51.091     , 52.87696875, 54.9395    , 57.72425   ]])\n",
    "\n",
    "ensemble_pred = (pred + pred_baseline) / 2\n",
    "ensemble_pred"
   ]
  },
  {
   "cell_type": "markdown",
   "id": "420cfb8d-f64b-46b1-88e3-8d5159eb88bc",
   "metadata": {},
   "source": [
    "Visually check if quantiles make sense"
   ]
  },
  {
   "cell_type": "code",
   "execution_count": 22,
   "id": "daf9b394-79d2-48dd-914b-8fc9a9f1a5a1",
   "metadata": {},
   "outputs": [
    {
     "data": {
      "image/png": "[encoded data removed]",
      "text/plain": [
       "<Figure size 640x480 with 1 Axes>"
      ]
     },
     "metadata": {},
     "output_type": "display_data"
    }
   ],
   "source": [
    "pred = ensemble_pred\n",
    "\n",
    "x = horizons\n",
    "quantiles = tau\n",
    "# tau = [.025, .25, .5, .75, .975]\n",
    "\n",
    "colors = ['lightblue', 'blue', 'blue', 'lightblue']\n",
    "\n",
    "# Creating colored intervals between quantiles\n",
    "for i in range(len(quantiles) - 1):\n",
    "    plt.fill_between(\n",
    "        horizons,\n",
    "        pred[:, i],\n",
    "        pred[:, i + 1],\n",
    "        alpha=0.2,  # Adjust transparency as needed\n",
    "        color=colors[i],\n",
    "        label=f'Quantile {quantiles[i]} - {quantiles[i + 1]}',\n",
    "    )\n",
    "\n",
    "_ = plt.plot(x,pred, ls=\"\", marker=\"o\", c=\"black\")\n",
    "_ = plt.xticks(x, x)\n",
    "_ = plt.plot((x,x),(pred[:,0], pred[:,-1]),c='black')"
   ]
  },
  {
   "cell_type": "code",
   "execution_count": 36,
   "id": "ff1ff112-6973-4e8c-be11-5705434c3416",
   "metadata": {},
   "outputs": [
    {
     "data": {
      "text/html": [
       "<div>\n",
       "<style scoped>\n",
       "    .dataframe tbody tr th:only-of-type {\n",
       "        vertical-align: middle;\n",
       "    }\n",
       "\n",
       "    .dataframe tbody tr th {\n",
       "        vertical-align: top;\n",
       "    }\n",
       "\n",
       "    .dataframe thead th {\n",
       "        text-align: right;\n",
       "    }\n",
       "</style>\n",
       "<table border=\"1\" class=\"dataframe\">\n",
       "  <thead>\n",
       "    <tr style=\"text-align: right;\">\n",
       "      <th></th>\n",
       "      <th>forecast_date</th>\n",
       "      <th>target</th>\n",
       "      <th>horizon</th>\n",
       "      <th>q0.025</th>\n",
       "      <th>q0.25</th>\n",
       "      <th>q0.5</th>\n",
       "      <th>q0.75</th>\n",
       "      <th>q0.975</th>\n",
       "    </tr>\n",
       "  </thead>\n",
       "  <tbody>\n",
       "    <tr>\n",
       "      <th>0</th>\n",
       "      <td>2024-01-03</td>\n",
       "      <td>energy</td>\n",
       "      <td>36 hour</td>\n",
       "      <td>55.809309</td>\n",
       "      <td>64.947812</td>\n",
       "      <td>67.815094</td>\n",
       "      <td>70.967719</td>\n",
       "      <td>74.956950</td>\n",
       "    </tr>\n",
       "    <tr>\n",
       "      <th>1</th>\n",
       "      <td>2024-01-03</td>\n",
       "      <td>energy</td>\n",
       "      <td>40 hour</td>\n",
       "      <td>54.823453</td>\n",
       "      <td>62.217875</td>\n",
       "      <td>64.936469</td>\n",
       "      <td>69.072906</td>\n",
       "      <td>73.778500</td>\n",
       "    </tr>\n",
       "    <tr>\n",
       "      <th>2</th>\n",
       "      <td>2024-01-03</td>\n",
       "      <td>energy</td>\n",
       "      <td>44 hour</td>\n",
       "      <td>51.397409</td>\n",
       "      <td>57.342219</td>\n",
       "      <td>60.231344</td>\n",
       "      <td>64.252906</td>\n",
       "      <td>67.838003</td>\n",
       "    </tr>\n",
       "    <tr>\n",
       "      <th>3</th>\n",
       "      <td>2024-01-03</td>\n",
       "      <td>energy</td>\n",
       "      <td>60 hour</td>\n",
       "      <td>49.563591</td>\n",
       "      <td>53.678125</td>\n",
       "      <td>55.430797</td>\n",
       "      <td>58.753563</td>\n",
       "      <td>62.924834</td>\n",
       "    </tr>\n",
       "    <tr>\n",
       "      <th>4</th>\n",
       "      <td>2024-01-03</td>\n",
       "      <td>energy</td>\n",
       "      <td>64 hour</td>\n",
       "      <td>47.954984</td>\n",
       "      <td>51.767094</td>\n",
       "      <td>53.808234</td>\n",
       "      <td>57.955562</td>\n",
       "      <td>62.678159</td>\n",
       "    </tr>\n",
       "    <tr>\n",
       "      <th>5</th>\n",
       "      <td>2024-01-03</td>\n",
       "      <td>energy</td>\n",
       "      <td>68 hour</td>\n",
       "      <td>45.036400</td>\n",
       "      <td>48.556062</td>\n",
       "      <td>50.737297</td>\n",
       "      <td>54.253062</td>\n",
       "      <td>57.682794</td>\n",
       "    </tr>\n",
       "  </tbody>\n",
       "</table>\n",
       "</div>"
      ],
      "text/plain": [
       "  forecast_date  target  horizon     q0.025      q0.25       q0.5      q0.75  \\\n",
       "0    2024-01-03  energy  36 hour  55.809309  64.947812  67.815094  70.967719   \n",
       "1    2024-01-03  energy  40 hour  54.823453  62.217875  64.936469  69.072906   \n",
       "2    2024-01-03  energy  44 hour  51.397409  57.342219  60.231344  64.252906   \n",
       "3    2024-01-03  energy  60 hour  49.563591  53.678125  55.430797  58.753563   \n",
       "4    2024-01-03  energy  64 hour  47.954984  51.767094  53.808234  57.955562   \n",
       "5    2024-01-03  energy  68 hour  45.036400  48.556062  50.737297  54.253062   \n",
       "\n",
       "      q0.975  \n",
       "0  74.956950  \n",
       "1  73.778500  \n",
       "2  67.838003  \n",
       "3  62.924834  \n",
       "4  62.678159  \n",
       "5  57.682794  "
      ]
     },
     "execution_count": 36,
     "metadata": {},
     "output_type": "execute_result"
    }
   ],
   "source": [
    "df_sub = pd.DataFrame({\n",
    "    \n",
    "    \"forecast_date\": date_str.replace(\"_\", \"-\"), \n",
    "    \"target\": \"energy\",\n",
    "    \"horizon\": [str(h) + \" hour\" for h in horizons],\n",
    "    \"q0.025\": pred[:,0],\n",
    "    \"q0.25\": pred[:,1],\n",
    "    \"q0.5\": pred[:,2],\n",
    "    \"q0.75\": pred[:,3],\n",
    "    \"q0.975\": pred[:,4]\n",
    "\n",
    "})\n",
    "\n",
    "df_sub"
   ]
  },
  {
   "cell_type": "code",
   "execution_count": 37,
   "id": "d1ec8e2e-4f2f-44d8-a9d1-cdca39fbec02",
   "metadata": {},
   "outputs": [
    {
     "name": "stdout",
     "output_type": "stream",
     "text": [
      "True\n",
      "True\n",
      "True\n",
      "True\n",
      "True\n",
      "True\n"
     ]
    }
   ],
   "source": [
    "for row_to_check in range(df_sub.shape[0]):\n",
    "    row_values = df_sub.iloc[row_to_check, 3:].values\n",
    "    is_ordered = all(row_values[i] <= row_values[i + 1] for i in range(len(row_values) - 1))\n",
    "    print(is_ordered)"
   ]
  },
  {
   "cell_type": "code",
   "execution_count": 38,
   "id": "94f92f2c-859a-4094-8bb4-3249c4de4f2b",
   "metadata": {},
   "outputs": [],
   "source": [
    "PATH = f\"C:/Users/ytl_c/OneDrive/Desktop/23_24 WS (Master)/VL - PTSFC/Submissions/{date_str}\"\n",
    "if not os.path.exists(PATH):\n",
    "    # create folder if it does not exist\n",
    "    os.makedirs(PATH)\n",
    "df_sub.to_csv(PATH+\"/\"+date_str+\"_power_benchmark.csv\",index=False)"
   ]
  }
 ],
 "metadata": {
  "kernelspec": {
   "display_name": "Python 3 (ipykernel)",
   "language": "python",
   "name": "python3"
  },
  "language_info": {
   "codemirror_mode": {
    "name": "ipython",
    "version": 3
   },
   "file_extension": ".py",
   "mimetype": "text/x-python",
   "name": "python",
   "nbconvert_exporter": "python",
   "pygments_lexer": "ipython3",
   "version": "3.11.5"
  }
 },
 "nbformat": 4,
 "nbformat_minor": 5
}
