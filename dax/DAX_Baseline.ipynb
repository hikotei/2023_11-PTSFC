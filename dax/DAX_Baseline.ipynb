{
 "cells": [
  {
   "cell_type": "code",
   "execution_count": 1,
   "id": "3d7236e6-7751-4928-9a79-124c5835761f",
   "metadata": {},
   "outputs": [],
   "source": [
    "import pandas as pd\n",
    "import numpy as np\n",
    "import matplotlib.pyplot as plt\n",
    "import seaborn as sns"
   ]
  },
  {
   "cell_type": "code",
   "execution_count": 2,
   "id": "529d881c-9e66-44be-9a91-a51ec467d426",
   "metadata": {},
   "outputs": [],
   "source": [
    "# by hand, runs faster\n",
    "def compute_return(y, r_type=\"log\", h=1):\n",
    "    \n",
    "    # exclude first h observations\n",
    "    y2 = y[h:]\n",
    "    \n",
    "    # exclude last h observations\n",
    "    y1 = y[:-h]\n",
    "    \n",
    "    if r_type == \"log\":\n",
    "        ret = np.concatenate(([np.nan]*h, 100 * (np.log(y2) - np.log(y1))))\n",
    "    else:\n",
    "        ret = np.concatenate(([np.nan]*h, 100 * (y2-y1)/y1))\n",
    "        \n",
    "    return ret\n",
    "\n",
    "# pythonic alternative (however: slower) to do the same thing:\n",
    "def compute_return_2(df, r_type=\"log\", h=1):\n",
    "    \n",
    "    if r_type == \"log\":\n",
    "        return (np.log(df) - np.log(df.shift(h))) * 100\n",
    "    else:\n",
    "        return ((df-df.shift(h))/df) * 100 "
   ]
  },
  {
   "cell_type": "code",
   "execution_count": 24,
   "id": "7c1325d1-328c-4fc5-b7e7-2fb0dfa2bf71",
   "metadata": {},
   "outputs": [],
   "source": [
    "import yfinance as yf\n",
    "\n",
    "dax = yf.Ticker(\"^GDAXI\")\n",
    "\n",
    "hist = dax.history(period=\"max\")\n",
    "\n",
    "for i in range(5):\n",
    "    hist[\"ret\"+str(i+1)] = compute_return(hist[\"Close\"].values, h=i+1)"
   ]
  },
  {
   "cell_type": "code",
   "execution_count": 25,
   "id": "15bf0777-6463-4508-97f4-1e557df68457",
   "metadata": {},
   "outputs": [
    {
     "data": {
      "text/html": [
       "<div>\n",
       "<style scoped>\n",
       "    .dataframe tbody tr th:only-of-type {\n",
       "        vertical-align: middle;\n",
       "    }\n",
       "\n",
       "    .dataframe tbody tr th {\n",
       "        vertical-align: top;\n",
       "    }\n",
       "\n",
       "    .dataframe thead th {\n",
       "        text-align: right;\n",
       "    }\n",
       "</style>\n",
       "<table border=\"1\" class=\"dataframe\">\n",
       "  <thead>\n",
       "    <tr style=\"text-align: right;\">\n",
       "      <th></th>\n",
       "      <th>Open</th>\n",
       "      <th>High</th>\n",
       "      <th>Low</th>\n",
       "      <th>Close</th>\n",
       "      <th>Volume</th>\n",
       "      <th>Dividends</th>\n",
       "      <th>Stock Splits</th>\n",
       "      <th>ret1</th>\n",
       "      <th>ret2</th>\n",
       "      <th>ret3</th>\n",
       "      <th>ret4</th>\n",
       "      <th>ret5</th>\n",
       "    </tr>\n",
       "    <tr>\n",
       "      <th>Date</th>\n",
       "      <th></th>\n",
       "      <th></th>\n",
       "      <th></th>\n",
       "      <th></th>\n",
       "      <th></th>\n",
       "      <th></th>\n",
       "      <th></th>\n",
       "      <th></th>\n",
       "      <th></th>\n",
       "      <th></th>\n",
       "      <th></th>\n",
       "      <th></th>\n",
       "    </tr>\n",
       "  </thead>\n",
       "  <tbody>\n",
       "    <tr>\n",
       "      <th>2023-11-02 00:00:00+01:00</th>\n",
       "      <td>15033.650391</td>\n",
       "      <td>15202.429688</td>\n",
       "      <td>15028.030273</td>\n",
       "      <td>15143.599609</td>\n",
       "      <td>89446500</td>\n",
       "      <td>0.0</td>\n",
       "      <td>0.0</td>\n",
       "      <td>1.465627</td>\n",
       "      <td>2.225240</td>\n",
       "      <td>2.860594</td>\n",
       "      <td>3.058730</td>\n",
       "      <td>2.762048</td>\n",
       "    </tr>\n",
       "    <tr>\n",
       "      <th>2023-11-03 00:00:00+01:00</th>\n",
       "      <td>15203.799805</td>\n",
       "      <td>15269.500000</td>\n",
       "      <td>15149.719727</td>\n",
       "      <td>15189.250000</td>\n",
       "      <td>93603800</td>\n",
       "      <td>0.0</td>\n",
       "      <td>0.0</td>\n",
       "      <td>0.300997</td>\n",
       "      <td>1.766623</td>\n",
       "      <td>2.526237</td>\n",
       "      <td>3.161591</td>\n",
       "      <td>3.359727</td>\n",
       "    </tr>\n",
       "    <tr>\n",
       "      <th>2023-11-06 00:00:00+01:00</th>\n",
       "      <td>15219.320312</td>\n",
       "      <td>15223.410156</td>\n",
       "      <td>15110.839844</td>\n",
       "      <td>15135.969727</td>\n",
       "      <td>59212500</td>\n",
       "      <td>0.0</td>\n",
       "      <td>0.0</td>\n",
       "      <td>-0.351393</td>\n",
       "      <td>-0.050396</td>\n",
       "      <td>1.415230</td>\n",
       "      <td>2.174844</td>\n",
       "      <td>2.810198</td>\n",
       "    </tr>\n",
       "    <tr>\n",
       "      <th>2023-11-07 00:00:00+01:00</th>\n",
       "      <td>15084.790039</td>\n",
       "      <td>15194.530273</td>\n",
       "      <td>15068.250000</td>\n",
       "      <td>15152.639648</td>\n",
       "      <td>62049600</td>\n",
       "      <td>0.0</td>\n",
       "      <td>0.0</td>\n",
       "      <td>0.110074</td>\n",
       "      <td>-0.241319</td>\n",
       "      <td>0.059678</td>\n",
       "      <td>1.525304</td>\n",
       "      <td>2.284918</td>\n",
       "    </tr>\n",
       "    <tr>\n",
       "      <th>2023-11-08 00:00:00+01:00</th>\n",
       "      <td>15093.480469</td>\n",
       "      <td>15287.730469</td>\n",
       "      <td>15086.410156</td>\n",
       "      <td>15229.599609</td>\n",
       "      <td>0</td>\n",
       "      <td>0.0</td>\n",
       "      <td>0.0</td>\n",
       "      <td>0.506613</td>\n",
       "      <td>0.616686</td>\n",
       "      <td>0.265294</td>\n",
       "      <td>0.566290</td>\n",
       "      <td>2.031917</td>\n",
       "    </tr>\n",
       "  </tbody>\n",
       "</table>\n",
       "</div>"
      ],
      "text/plain": [
       "                                   Open          High           Low  \\\n",
       "Date                                                                  \n",
       "2023-11-02 00:00:00+01:00  15033.650391  15202.429688  15028.030273   \n",
       "2023-11-03 00:00:00+01:00  15203.799805  15269.500000  15149.719727   \n",
       "2023-11-06 00:00:00+01:00  15219.320312  15223.410156  15110.839844   \n",
       "2023-11-07 00:00:00+01:00  15084.790039  15194.530273  15068.250000   \n",
       "2023-11-08 00:00:00+01:00  15093.480469  15287.730469  15086.410156   \n",
       "\n",
       "                                  Close    Volume  Dividends  Stock Splits  \\\n",
       "Date                                                                         \n",
       "2023-11-02 00:00:00+01:00  15143.599609  89446500        0.0           0.0   \n",
       "2023-11-03 00:00:00+01:00  15189.250000  93603800        0.0           0.0   \n",
       "2023-11-06 00:00:00+01:00  15135.969727  59212500        0.0           0.0   \n",
       "2023-11-07 00:00:00+01:00  15152.639648  62049600        0.0           0.0   \n",
       "2023-11-08 00:00:00+01:00  15229.599609         0        0.0           0.0   \n",
       "\n",
       "                               ret1      ret2      ret3      ret4      ret5  \n",
       "Date                                                                         \n",
       "2023-11-02 00:00:00+01:00  1.465627  2.225240  2.860594  3.058730  2.762048  \n",
       "2023-11-03 00:00:00+01:00  0.300997  1.766623  2.526237  3.161591  3.359727  \n",
       "2023-11-06 00:00:00+01:00 -0.351393 -0.050396  1.415230  2.174844  2.810198  \n",
       "2023-11-07 00:00:00+01:00  0.110074 -0.241319  0.059678  1.525304  2.284918  \n",
       "2023-11-08 00:00:00+01:00  0.506613  0.616686  0.265294  0.566290  2.031917  "
      ]
     },
     "execution_count": 25,
     "metadata": {},
     "output_type": "execute_result"
    }
   ],
   "source": [
    "hist.tail()"
   ]
  },
  {
   "cell_type": "code",
   "execution_count": 7,
   "id": "bf3ae619-5bdc-4c66-8137-4daa880ce9c7",
   "metadata": {},
   "outputs": [],
   "source": [
    "# quantile levels\n",
    "tau = [.025, .25, .5, .75, .975]"
   ]
  },
  {
   "cell_type": "code",
   "execution_count": 8,
   "id": "8e5ef128-ba07-497d-ab2b-1c7599e86bd0",
   "metadata": {},
   "outputs": [],
   "source": [
    "# define prediction array\n",
    "# cols are quantile levels, rows are horizons\n",
    "\n",
    "pred_baseline = np.zeros((5,5))"
   ]
  },
  {
   "cell_type": "code",
   "execution_count": 20,
   "id": "6033e162-aecf-4e8c-a143-28446cffab0f",
   "metadata": {},
   "outputs": [],
   "source": [
    "last_t = 100\n",
    "\n",
    "for i in range(5):\n",
    "    \n",
    "    ret_str = \"ret\"+str(i+1)\n",
    "    pred_baseline[i,:] = np.quantile(hist[ret_str].iloc[-last_t:], q=tau)"
   ]
  },
  {
   "cell_type": "markdown",
   "id": "a7c1e0fa-8b06-4233-86b0-09d2f8e589e3",
   "metadata": {},
   "source": [
    "Visualize the results"
   ]
  },
  {
   "cell_type": "code",
   "execution_count": 22,
   "id": "2df653ed-170c-4a79-9c2e-04002faf0965",
   "metadata": {},
   "outputs": [
    {
     "data": {
      "image/png": "[encoded data removed]",
      "text/plain": [
       "<Figure size 640x480 with 1 Axes>"
      ]
     },
     "metadata": {},
     "output_type": "display_data"
    }
   ],
   "source": [
    "x = np.arange(5)+1\n",
    "quantiles = tau\n",
    "# tau = [.025, .25, .5, .75, .975]\n",
    "\n",
    "colors = ['lightblue', 'blue', 'blue', 'lightblue']\n",
    "\n",
    "# Creating colored intervals between quantiles\n",
    "for i in range(len(quantiles) - 1):\n",
    "    plt.fill_between(\n",
    "        x,\n",
    "        pred_baseline[:, i],\n",
    "        pred_baseline[:, i + 1],\n",
    "        alpha=0.2,  # Adjust transparency as needed\n",
    "        color=colors[i],\n",
    "        label=f'Quantile {quantiles[i]} - {quantiles[i + 1]}'\n",
    "    )\n",
    "    \n",
    "_ = plt.plot(x, pred_baseline, ls=\"\", marker=\"o\", c=\"black\")\n",
    "_ = plt.xticks(x, x)\n",
    "_ = plt.plot((x,x),(pred_baseline[:,0], pred_baseline[:,-1]),c='black')"
   ]
  },
  {
   "cell_type": "markdown",
   "id": "b4bc6e8b-1537-4bc7-8941-7d6ecc7fffb8",
   "metadata": {},
   "source": [
    "Create Submission DataFrame"
   ]
  },
  {
   "cell_type": "code",
   "execution_count": 31,
   "id": "0ee8c6fe-43c9-4a71-b8f0-300a382f59c6",
   "metadata": {},
   "outputs": [],
   "source": [
    "from datetime import datetime\n",
    "date_str = datetime.today().strftime('%Y-%m-%d')"
   ]
  },
  {
   "cell_type": "code",
   "execution_count": 32,
   "id": "c316a028-c4bf-459b-97e1-d65a38bdc4aa",
   "metadata": {},
   "outputs": [
    {
     "data": {
      "text/html": [
       "<div>\n",
       "<style scoped>\n",
       "    .dataframe tbody tr th:only-of-type {\n",
       "        vertical-align: middle;\n",
       "    }\n",
       "\n",
       "    .dataframe tbody tr th {\n",
       "        vertical-align: top;\n",
       "    }\n",
       "\n",
       "    .dataframe thead th {\n",
       "        text-align: right;\n",
       "    }\n",
       "</style>\n",
       "<table border=\"1\" class=\"dataframe\">\n",
       "  <thead>\n",
       "    <tr style=\"text-align: right;\">\n",
       "      <th></th>\n",
       "      <th>forecast_date</th>\n",
       "      <th>target</th>\n",
       "      <th>horizon</th>\n",
       "      <th>q0.025</th>\n",
       "      <th>q0.25</th>\n",
       "      <th>q0.5</th>\n",
       "      <th>q0.75</th>\n",
       "      <th>q0.975</th>\n",
       "    </tr>\n",
       "  </thead>\n",
       "  <tbody>\n",
       "    <tr>\n",
       "      <th>0</th>\n",
       "      <td>2023-11-08</td>\n",
       "      <td>DAX</td>\n",
       "      <td>1 day</td>\n",
       "      <td>-1.466625</td>\n",
       "      <td>-0.507206</td>\n",
       "      <td>-0.010599</td>\n",
       "      <td>0.448124</td>\n",
       "      <td>1.464229</td>\n",
       "    </tr>\n",
       "    <tr>\n",
       "      <th>1</th>\n",
       "      <td>2023-11-08</td>\n",
       "      <td>DAX</td>\n",
       "      <td>2 day</td>\n",
       "      <td>-2.140536</td>\n",
       "      <td>-0.905687</td>\n",
       "      <td>-0.114126</td>\n",
       "      <td>0.619247</td>\n",
       "      <td>2.184070</td>\n",
       "    </tr>\n",
       "    <tr>\n",
       "      <th>2</th>\n",
       "      <td>2023-11-08</td>\n",
       "      <td>DAX</td>\n",
       "      <td>5 day</td>\n",
       "      <td>-2.898839</td>\n",
       "      <td>-1.186168</td>\n",
       "      <td>-0.234773</td>\n",
       "      <td>0.768097</td>\n",
       "      <td>2.593119</td>\n",
       "    </tr>\n",
       "    <tr>\n",
       "      <th>3</th>\n",
       "      <td>2023-11-08</td>\n",
       "      <td>DAX</td>\n",
       "      <td>6 day</td>\n",
       "      <td>-3.230156</td>\n",
       "      <td>-1.299488</td>\n",
       "      <td>-0.222153</td>\n",
       "      <td>0.635851</td>\n",
       "      <td>3.098539</td>\n",
       "    </tr>\n",
       "    <tr>\n",
       "      <th>4</th>\n",
       "      <td>2023-11-08</td>\n",
       "      <td>DAX</td>\n",
       "      <td>7 day</td>\n",
       "      <td>-3.239166</td>\n",
       "      <td>-1.616450</td>\n",
       "      <td>-0.395428</td>\n",
       "      <td>0.771561</td>\n",
       "      <td>2.996221</td>\n",
       "    </tr>\n",
       "  </tbody>\n",
       "</table>\n",
       "</div>"
      ],
      "text/plain": [
       "  forecast_date target horizon    q0.025     q0.25      q0.5     q0.75  \\\n",
       "0    2023-11-08    DAX   1 day -1.466625 -0.507206 -0.010599  0.448124   \n",
       "1    2023-11-08    DAX   2 day -2.140536 -0.905687 -0.114126  0.619247   \n",
       "2    2023-11-08    DAX   5 day -2.898839 -1.186168 -0.234773  0.768097   \n",
       "3    2023-11-08    DAX   6 day -3.230156 -1.299488 -0.222153  0.635851   \n",
       "4    2023-11-08    DAX   7 day -3.239166 -1.616450 -0.395428  0.771561   \n",
       "\n",
       "     q0.975  \n",
       "0  1.464229  \n",
       "1  2.184070  \n",
       "2  2.593119  \n",
       "3  3.098539  \n",
       "4  2.996221  "
      ]
     },
     "execution_count": 32,
     "metadata": {},
     "output_type": "execute_result"
    }
   ],
   "source": [
    "df_sub = pd.DataFrame({\n",
    "    \n",
    "    \"forecast_date\": date_str, \n",
    "    \"target\": \"DAX\",\n",
    "    \"horizon\": [str(i) + \" day\" for i in (1,2,5,6,7)],\n",
    "    \"q0.025\": pred_baseline[:,0],\n",
    "    \"q0.25\": pred_baseline[:,1],\n",
    "    \"q0.5\": pred_baseline[:,2],\n",
    "    \"q0.75\": pred_baseline[:,3],\n",
    "    \"q0.975\": pred_baseline[:,4]\n",
    "\n",
    "})\n",
    "\n",
    "df_sub"
   ]
  },
  {
   "cell_type": "code",
   "execution_count": 62,
   "id": "3297b24a-faa0-4478-a431-d91301fdd77e",
   "metadata": {},
   "outputs": [
    {
     "name": "stdout",
     "output_type": "stream",
     "text": [
      "True\n",
      "True\n",
      "True\n",
      "True\n",
      "True\n"
     ]
    }
   ],
   "source": [
    "for row_to_check in range(df_sub.shape[0]):\n",
    "    row_values = df_sub.iloc[row_to_check, 3:].values\n",
    "    is_ordered = all(row_values[i] <= row_values[i + 1] for i in range(len(row_values) - 1))\n",
    "    print(is_ordered)"
   ]
  },
  {
   "cell_type": "code",
   "execution_count": 63,
   "id": "09b49896-ebb0-4649-9443-f794e824388d",
   "metadata": {},
   "outputs": [],
   "source": [
    "#need to change this\n",
    "PATH = \"/Users/yanting/OneDrive/Desktop/23_24 WS (Master)/PTSFC/Submissions\"\n",
    "\n",
    "date_str = datetime.today().strftime('%Y_%m_%d')\n",
    "\n",
    "df_sub.to_csv(PATH+\"/\"+date_str+\"_DAX_benchmark.csv\",index=False)"
   ]
  },
  {
   "cell_type": "code",
   "execution_count": 54,
   "id": "845ebb82-89b6-4efd-bffa-47d929939700",
   "metadata": {},
   "outputs": [
    {
     "data": {
      "text/plain": [
       "5"
      ]
     },
     "execution_count": 54,
     "metadata": {},
     "output_type": "execute_result"
    }
   ],
   "source": []
  },
  {
   "cell_type": "code",
   "execution_count": null,
   "id": "dfe4ef7a-289d-4d45-99a3-c693e4f26654",
   "metadata": {},
   "outputs": [],
   "source": []
  }
 ],
 "metadata": {
  "kernelspec": {
   "display_name": "Python 3 (ipykernel)",
   "language": "python",
   "name": "python3"
  },
  "language_info": {
   "codemirror_mode": {
    "name": "ipython",
    "version": 3
   },
   "file_extension": ".py",
   "mimetype": "text/x-python",
   "name": "python",
   "nbconvert_exporter": "python",
   "pygments_lexer": "ipython3",
   "version": "3.12.0"
  }
 },
 "nbformat": 4,
 "nbformat_minor": 5
}
