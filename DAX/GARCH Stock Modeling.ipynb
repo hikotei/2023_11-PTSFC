{
 "cells": [
  {
   "cell_type": "markdown",
   "metadata": {},
   "source": [
    "# GARCH Stock Forecasting"
   ]
  },
  {
   "cell_type": "markdown",
   "metadata": {},
   "source": [
    "## Read Data"
   ]
  },
  {
   "cell_type": "code",
   "execution_count": 2,
   "metadata": {},
   "outputs": [],
   "source": [
    "import numpy as np\n",
    "import pandas as pd\n",
    "import yfinance as yf\n",
    "\n",
    "import matplotlib.pyplot as plt\n",
    "from datetime import datetime, timedelta\n",
    "\n",
    "from arch import arch_model\n",
    "from statsmodels.graphics.tsaplots import plot_acf, plot_pacf\n"
   ]
  },
  {
   "cell_type": "code",
   "execution_count": 4,
   "metadata": {},
   "outputs": [],
   "source": [
    "def compute_return(y, r_type=\"log\", h=1):\n",
    "    \n",
    "    # exclude first h observations\n",
    "    y2 = y[h:]\n",
    "    \n",
    "    # exclude last h observations\n",
    "    y1 = y[:-h]\n",
    "    \n",
    "    if r_type == \"log\":\n",
    "        ret = np.concatenate(([np.nan]*h, 100 * (np.log(y2) - np.log(y1))))\n",
    "    else:\n",
    "        ret = np.concatenate(([np.nan]*h, 100 * (y2-y1)/y1))\n",
    "        \n",
    "    return ret"
   ]
  },
  {
   "cell_type": "markdown",
   "metadata": {},
   "source": [
    "## DIS Volatility"
   ]
  },
  {
   "cell_type": "code",
   "execution_count": 6,
   "metadata": {},
   "outputs": [],
   "source": [
    "start = datetime(2015, 1, 1)\n",
    "end = datetime(2020, 6, 10)\n",
    "\n",
    "disney = yf.Ticker(\"DIS\")\n",
    "hist = disney.history(period=\"max\", start=start, end=end)\n",
    "\n",
    "for i in range(5):\n",
    "    hist[\"ret\"+str(i+1)] = compute_return(hist[\"Close\"].values, h=i+1)\n"
   ]
  },
  {
   "cell_type": "code",
   "execution_count": 8,
   "metadata": {},
   "outputs": [
    {
     "data": {
      "text/html": [
       "<div>\n",
       "<style scoped>\n",
       "    .dataframe tbody tr th:only-of-type {\n",
       "        vertical-align: middle;\n",
       "    }\n",
       "\n",
       "    .dataframe tbody tr th {\n",
       "        vertical-align: top;\n",
       "    }\n",
       "\n",
       "    .dataframe thead th {\n",
       "        text-align: right;\n",
       "    }\n",
       "</style>\n",
       "<table border=\"1\" class=\"dataframe\">\n",
       "  <thead>\n",
       "    <tr style=\"text-align: right;\">\n",
       "      <th></th>\n",
       "      <th>Open</th>\n",
       "      <th>High</th>\n",
       "      <th>Low</th>\n",
       "      <th>Close</th>\n",
       "      <th>Volume</th>\n",
       "      <th>Dividends</th>\n",
       "      <th>Stock Splits</th>\n",
       "      <th>ret1</th>\n",
       "      <th>ret2</th>\n",
       "      <th>ret3</th>\n",
       "      <th>ret4</th>\n",
       "      <th>ret5</th>\n",
       "    </tr>\n",
       "    <tr>\n",
       "      <th>Date</th>\n",
       "      <th></th>\n",
       "      <th></th>\n",
       "      <th></th>\n",
       "      <th></th>\n",
       "      <th></th>\n",
       "      <th></th>\n",
       "      <th></th>\n",
       "      <th></th>\n",
       "      <th></th>\n",
       "      <th></th>\n",
       "      <th></th>\n",
       "      <th></th>\n",
       "    </tr>\n",
       "  </thead>\n",
       "  <tbody>\n",
       "    <tr>\n",
       "      <th>2015-01-02 00:00:00-05:00</th>\n",
       "      <td>88.457406</td>\n",
       "      <td>88.802246</td>\n",
       "      <td>86.537453</td>\n",
       "      <td>87.376266</td>\n",
       "      <td>5865400</td>\n",
       "      <td>0.0</td>\n",
       "      <td>0.0</td>\n",
       "      <td>NaN</td>\n",
       "      <td>NaN</td>\n",
       "      <td>NaN</td>\n",
       "      <td>NaN</td>\n",
       "      <td>NaN</td>\n",
       "    </tr>\n",
       "    <tr>\n",
       "      <th>2015-01-05 00:00:00-05:00</th>\n",
       "      <td>86.938202</td>\n",
       "      <td>87.003442</td>\n",
       "      <td>85.540182</td>\n",
       "      <td>86.099388</td>\n",
       "      <td>7789400</td>\n",
       "      <td>0.0</td>\n",
       "      <td>0.0</td>\n",
       "      <td>-1.472139</td>\n",
       "      <td>NaN</td>\n",
       "      <td>NaN</td>\n",
       "      <td>NaN</td>\n",
       "      <td>NaN</td>\n",
       "    </tr>\n",
       "    <tr>\n",
       "      <th>2015-01-06 00:00:00-05:00</th>\n",
       "      <td>86.276485</td>\n",
       "      <td>86.854336</td>\n",
       "      <td>84.962350</td>\n",
       "      <td>85.642715</td>\n",
       "      <td>6793100</td>\n",
       "      <td>0.0</td>\n",
       "      <td>0.0</td>\n",
       "      <td>-0.531813</td>\n",
       "      <td>-2.003952</td>\n",
       "      <td>NaN</td>\n",
       "      <td>NaN</td>\n",
       "      <td>NaN</td>\n",
       "    </tr>\n",
       "    <tr>\n",
       "      <th>2015-01-07 00:00:00-05:00</th>\n",
       "      <td>86.416292</td>\n",
       "      <td>86.817058</td>\n",
       "      <td>85.838441</td>\n",
       "      <td>86.518814</td>\n",
       "      <td>6589500</td>\n",
       "      <td>0.0</td>\n",
       "      <td>0.0</td>\n",
       "      <td>1.017772</td>\n",
       "      <td>0.485959</td>\n",
       "      <td>-0.986180</td>\n",
       "      <td>NaN</td>\n",
       "      <td>NaN</td>\n",
       "    </tr>\n",
       "    <tr>\n",
       "      <th>2015-01-08 00:00:00-05:00</th>\n",
       "      <td>87.488099</td>\n",
       "      <td>87.888865</td>\n",
       "      <td>87.199170</td>\n",
       "      <td>87.413536</td>\n",
       "      <td>7579400</td>\n",
       "      <td>0.0</td>\n",
       "      <td>0.0</td>\n",
       "      <td>1.028825</td>\n",
       "      <td>2.046597</td>\n",
       "      <td>1.514784</td>\n",
       "      <td>0.042645</td>\n",
       "      <td>NaN</td>\n",
       "    </tr>\n",
       "    <tr>\n",
       "      <th>2015-01-09 00:00:00-05:00</th>\n",
       "      <td>87.655862</td>\n",
       "      <td>88.792913</td>\n",
       "      <td>87.599937</td>\n",
       "      <td>87.842262</td>\n",
       "      <td>8621300</td>\n",
       "      <td>0.0</td>\n",
       "      <td>0.0</td>\n",
       "      <td>0.489259</td>\n",
       "      <td>1.518084</td>\n",
       "      <td>2.535856</td>\n",
       "      <td>2.004043</td>\n",
       "      <td>0.531904</td>\n",
       "    </tr>\n",
       "  </tbody>\n",
       "</table>\n",
       "</div>"
      ],
      "text/plain": [
       "                                Open       High        Low      Close  \\\n",
       "Date                                                                    \n",
       "2015-01-02 00:00:00-05:00  88.457406  88.802246  86.537453  87.376266   \n",
       "2015-01-05 00:00:00-05:00  86.938202  87.003442  85.540182  86.099388   \n",
       "2015-01-06 00:00:00-05:00  86.276485  86.854336  84.962350  85.642715   \n",
       "2015-01-07 00:00:00-05:00  86.416292  86.817058  85.838441  86.518814   \n",
       "2015-01-08 00:00:00-05:00  87.488099  87.888865  87.199170  87.413536   \n",
       "2015-01-09 00:00:00-05:00  87.655862  88.792913  87.599937  87.842262   \n",
       "\n",
       "                            Volume  Dividends  Stock Splits      ret1  \\\n",
       "Date                                                                    \n",
       "2015-01-02 00:00:00-05:00  5865400        0.0           0.0       NaN   \n",
       "2015-01-05 00:00:00-05:00  7789400        0.0           0.0 -1.472139   \n",
       "2015-01-06 00:00:00-05:00  6793100        0.0           0.0 -0.531813   \n",
       "2015-01-07 00:00:00-05:00  6589500        0.0           0.0  1.017772   \n",
       "2015-01-08 00:00:00-05:00  7579400        0.0           0.0  1.028825   \n",
       "2015-01-09 00:00:00-05:00  8621300        0.0           0.0  0.489259   \n",
       "\n",
       "                               ret2      ret3      ret4      ret5  \n",
       "Date                                                               \n",
       "2015-01-02 00:00:00-05:00       NaN       NaN       NaN       NaN  \n",
       "2015-01-05 00:00:00-05:00       NaN       NaN       NaN       NaN  \n",
       "2015-01-06 00:00:00-05:00 -2.003952       NaN       NaN       NaN  \n",
       "2015-01-07 00:00:00-05:00  0.485959 -0.986180       NaN       NaN  \n",
       "2015-01-08 00:00:00-05:00  2.046597  1.514784  0.042645       NaN  \n",
       "2015-01-09 00:00:00-05:00  1.518084  2.535856  2.004043  0.531904  "
      ]
     },
     "execution_count": 8,
     "metadata": {},
     "output_type": "execute_result"
    }
   ],
   "source": [
    "hist.head(6)"
   ]
  },
  {
   "cell_type": "code",
   "execution_count": 10,
   "metadata": {},
   "outputs": [],
   "source": [
    "returns = 100 * hist.Close.pct_change().dropna()"
   ]
  },
  {
   "cell_type": "code",
   "execution_count": 13,
   "metadata": {},
   "outputs": [
    {
     "data": {
      "text/plain": [
       "Text(0.5, 1.0, 'DIS Returns')"
      ]
     },
     "execution_count": 13,
     "metadata": {},
     "output_type": "execute_result"
    },
    {
     "data": {
      "image/png": "[encoded data removed]",
      "text/plain": [
       "<Figure size 1500x400 with 1 Axes>"
      ]
     },
     "metadata": {},
     "output_type": "display_data"
    }
   ],
   "source": [
    "plt.figure(figsize=(15,4))\n",
    "plt.plot(returns)\n",
    "plt.ylabel('Pct Return')\n",
    "plt.title('DIS Returns')"
   ]
  },
  {
   "cell_type": "markdown",
   "metadata": {},
   "source": [
    "## PACF"
   ]
  },
  {
   "cell_type": "code",
   "execution_count": 29,
   "metadata": {},
   "outputs": [
    {
     "data": {
      "image/png": "[encoded data removed]",
      "text/plain": [
       "<Figure size 1500x300 with 1 Axes>"
      ]
     },
     "metadata": {},
     "output_type": "display_data"
    }
   ],
   "source": [
    "fig, ax = plt.subplots(figsize=(15, 3))\n",
    "plot_pacf(returns**2, ax=ax)\n",
    "plt.show()"
   ]
  },
  {
   "cell_type": "markdown",
   "metadata": {},
   "source": [
    "## Fit GARCH(3,3)"
   ]
  },
  {
   "cell_type": "code",
   "execution_count": 32,
   "metadata": {},
   "outputs": [
    {
     "name": "stdout",
     "output_type": "stream",
     "text": [
      "Iteration:      1,   Func. Count:     10,   Neg. LLF: 228988056271.12057\n",
      "Iteration:      2,   Func. Count:     22,   Neg. LLF: 972122001.7743535\n",
      "Iteration:      3,   Func. Count:     33,   Neg. LLF: 2730.937336527403\n",
      "Iteration:      4,   Func. Count:     43,   Neg. LLF: 2486.3631463501215\n",
      "Iteration:      5,   Func. Count:     53,   Neg. LLF: 2320.0252787609306\n",
      "Iteration:      6,   Func. Count:     63,   Neg. LLF: 2338.2803748483593\n",
      "Iteration:      7,   Func. Count:     73,   Neg. LLF: 2357.8860897533514\n",
      "Iteration:      8,   Func. Count:     83,   Neg. LLF: 2398.1732586551334\n",
      "Iteration:      9,   Func. Count:     93,   Neg. LLF: 2296.4525241673387\n",
      "Iteration:     10,   Func. Count:    102,   Neg. LLF: 2296.443677162152\n",
      "Iteration:     11,   Func. Count:    112,   Neg. LLF: 2296.3425454978074\n",
      "Iteration:     12,   Func. Count:    121,   Neg. LLF: 2296.3243874999416\n",
      "Iteration:     13,   Func. Count:    130,   Neg. LLF: 2296.3075951476585\n",
      "Iteration:     14,   Func. Count:    139,   Neg. LLF: 2296.3035988856477\n",
      "Iteration:     15,   Func. Count:    148,   Neg. LLF: 2296.3026454246005\n",
      "Iteration:     16,   Func. Count:    157,   Neg. LLF: 2296.302576101449\n",
      "Iteration:     17,   Func. Count:    165,   Neg. LLF: 2296.302576101891\n",
      "Optimization terminated successfully    (Exit mode 0)\n",
      "            Current function value: 2296.302576101449\n",
      "            Iterations: 17\n",
      "            Function evaluations: 165\n",
      "            Gradient evaluations: 17\n"
     ]
    }
   ],
   "source": [
    "model = arch_model(returns, p=3, q=3)\n",
    "model_fit = model.fit()"
   ]
  },
  {
   "cell_type": "code",
   "execution_count": 33,
   "metadata": {},
   "outputs": [
    {
     "name": "stderr",
     "output_type": "stream",
     "text": [
      "c:\\Users\\ytl_c\\miniconda3\\Lib\\site-packages\\arch\\univariate\\base.py:1890: FutureWarning: Series.__getitem__ treating keys as positions is deprecated. In a future version, integer keys will always be treated as labels (consistent with DataFrame behavior). To access a value by position, use `ser.iloc[pos]`\n",
      "  if isinstance(table_val[pos], (np.float64, float)):\n",
      "c:\\Users\\ytl_c\\miniconda3\\Lib\\site-packages\\arch\\univariate\\base.py:1891: FutureWarning: Series.__getitem__ treating keys as positions is deprecated. In a future version, integer keys will always be treated as labels (consistent with DataFrame behavior). To access a value by position, use `ser.iloc[pos]`\n",
      "  assert isinstance(table_val[pos], float)\n",
      "c:\\Users\\ytl_c\\miniconda3\\Lib\\site-packages\\arch\\univariate\\base.py:1892: FutureWarning: Series.__getitem__ treating keys as positions is deprecated. In a future version, integer keys will always be treated as labels (consistent with DataFrame behavior). To access a value by position, use `ser.iloc[pos]`\n",
      "  converted = format_float_fixed(table_val[pos], *formats[i])\n"
     ]
    },
    {
     "data": {
      "text/html": [
       "<table class=\"simpletable\">\n",
       "<caption>Constant Mean - GARCH Model Results</caption>\n",
       "<tr>\n",
       "  <th>Dep. Variable:</th>        <td>Close</td>       <th>  R-squared:         </th>  <td>   0.000</td> \n",
       "</tr>\n",
       "<tr>\n",
       "  <th>Mean Model:</th>       <td>Constant Mean</td>   <th>  Adj. R-squared:    </th>  <td>   0.000</td> \n",
       "</tr>\n",
       "<tr>\n",
       "  <th>Vol Model:</th>            <td>GARCH</td>       <th>  Log-Likelihood:    </th> <td>  -2296.30</td>\n",
       "</tr>\n",
       "<tr>\n",
       "  <th>Distribution:</th>        <td>Normal</td>       <th>  AIC:               </th> <td>   4608.61</td>\n",
       "</tr>\n",
       "<tr>\n",
       "  <th>Method:</th>        <td>Maximum Likelihood</td> <th>  BIC:               </th> <td>   4650.37</td>\n",
       "</tr>\n",
       "<tr>\n",
       "  <th></th>                        <td></td>          <th>  No. Observations:  </th>    <td>1367</td>   \n",
       "</tr>\n",
       "<tr>\n",
       "  <th>Date:</th>           <td>Sat, Dec 02 2023</td>  <th>  Df Residuals:      </th>    <td>1366</td>   \n",
       "</tr>\n",
       "<tr>\n",
       "  <th>Time:</th>               <td>22:28:54</td>      <th>  Df Model:          </th>      <td>1</td>    \n",
       "</tr>\n",
       "</table>\n",
       "<table class=\"simpletable\">\n",
       "<caption>Mean Model</caption>\n",
       "<tr>\n",
       "   <td></td>     <th>coef</th>      <th>std err</th>       <th>t</th>       <th>P>|t|</th>      <th>95.0% Conf. Int.</th>   \n",
       "</tr>\n",
       "<tr>\n",
       "  <th>mu</th> <td>-2.5565e-03</td> <td>4.300e-02</td> <td>-5.945e-02</td> <td>    0.953</td> <td>[-8.683e-02,8.172e-02]</td>\n",
       "</tr>\n",
       "</table>\n",
       "<table class=\"simpletable\">\n",
       "<caption>Volatility Model</caption>\n",
       "<tr>\n",
       "      <td></td>        <th>coef</th>     <th>std err</th>      <th>t</th>       <th>P>|t|</th>     <th>95.0% Conf. Int.</th>  \n",
       "</tr>\n",
       "<tr>\n",
       "  <th>omega</th>    <td>    0.5478</td> <td>    0.189</td> <td>    2.895</td> <td>3.789e-03</td>   <td>[  0.177,  0.919]</td> \n",
       "</tr>\n",
       "<tr>\n",
       "  <th>alpha[1]</th> <td>    0.0681</td> <td>3.919e-02</td> <td>    1.738</td> <td>8.226e-02</td> <td>[-8.712e-03,  0.145]</td>\n",
       "</tr>\n",
       "<tr>\n",
       "  <th>alpha[2]</th> <td>    0.2036</td> <td>9.664e-02</td> <td>    2.107</td> <td>3.509e-02</td>  <td>[1.424e-02,  0.393]</td>\n",
       "</tr>\n",
       "<tr>\n",
       "  <th>alpha[3]</th> <td>    0.3208</td> <td>    0.151</td> <td>    2.118</td> <td>3.419e-02</td>  <td>[2.392e-02,  0.618]</td>\n",
       "</tr>\n",
       "<tr>\n",
       "  <th>beta[1]</th>    <td>0.0000</td>   <td>    0.151</td>   <td>0.000</td>   <td>    1.000</td>   <td>[ -0.295,  0.295]</td> \n",
       "</tr>\n",
       "<tr>\n",
       "  <th>beta[2]</th>  <td>8.5125e-15</td> <td>9.815e-02</td> <td>8.673e-14</td> <td>    1.000</td>   <td>[ -0.192,  0.192]</td> \n",
       "</tr>\n",
       "<tr>\n",
       "  <th>beta[3]</th>  <td>    0.2242</td> <td>    0.153</td> <td>    1.464</td> <td>    0.143</td> <td>[-7.597e-02,  0.524]</td>\n",
       "</tr>\n",
       "</table><br/><br/>Covariance estimator: robust"
      ],
      "text/latex": [
       "\\begin{center}\n",
       "\\begin{tabular}{lclc}\n",
       "\\toprule\n",
       "\\textbf{Dep. Variable:} &       Close        & \\textbf{  R-squared:         } &     0.000   \\\\\n",
       "\\textbf{Mean Model:}    &   Constant Mean    & \\textbf{  Adj. R-squared:    } &     0.000   \\\\\n",
       "\\textbf{Vol Model:}     &       GARCH        & \\textbf{  Log-Likelihood:    } &   -2296.30  \\\\\n",
       "\\textbf{Distribution:}  &       Normal       & \\textbf{  AIC:               } &    4608.61  \\\\\n",
       "\\textbf{Method:}        & Maximum Likelihood & \\textbf{  BIC:               } &    4650.37  \\\\\n",
       "\\textbf{}               &                    & \\textbf{  No. Observations:  } &    1367     \\\\\n",
       "\\textbf{Date:}          &  Sat, Dec 02 2023  & \\textbf{  Df Residuals:      } &    1366     \\\\\n",
       "\\textbf{Time:}          &      22:28:54      & \\textbf{  Df Model:          } &     1       \\\\\n",
       "\\bottomrule\n",
       "\\end{tabular}\n",
       "\\begin{tabular}{lccccc}\n",
       "            & \\textbf{coef} & \\textbf{std err} & \\textbf{t} & \\textbf{P$> |$t$|$} & \\textbf{95.0\\% Conf. Int.}  \\\\\n",
       "\\midrule\n",
       "\\textbf{mu} &  -2.5565e-03  &    4.300e-02     & -5.945e-02 &          0.953       &   [-8.683e-02,8.172e-02]    \\\\\n",
       "                  & \\textbf{coef} & \\textbf{std err} & \\textbf{t} & \\textbf{P$> |$t$|$} & \\textbf{95.0\\% Conf. Int.}  \\\\\n",
       "\\midrule\n",
       "\\textbf{omega}    &       0.5478  &        0.189     &     2.895  &      3.789e-03       &     [  0.177,  0.919]       \\\\\n",
       "\\textbf{alpha[1]} &       0.0681  &    3.919e-02     &     1.738  &      8.226e-02       &    [-8.712e-03,  0.145]     \\\\\n",
       "\\textbf{alpha[2]} &       0.2036  &    9.664e-02     &     2.107  &      3.509e-02       &    [1.424e-02,  0.393]      \\\\\n",
       "\\textbf{alpha[3]} &       0.3208  &        0.151     &     2.118  &      3.419e-02       &    [2.392e-02,  0.618]      \\\\\n",
       "\\textbf{beta[1]}  &     0.0000    &        0.151     &   0.000    &          1.000       &     [ -0.295,  0.295]       \\\\\n",
       "\\textbf{beta[2]}  &   8.5125e-15  &    9.815e-02     & 8.673e-14  &          1.000       &     [ -0.192,  0.192]       \\\\\n",
       "\\textbf{beta[3]}  &       0.2242  &        0.153     &     1.464  &          0.143       &    [-7.597e-02,  0.524]     \\\\\n",
       "\\bottomrule\n",
       "\\end{tabular}\n",
       "%\\caption{Constant Mean - GARCH Model Results}\n",
       "\\end{center}\n",
       "\n",
       "Covariance estimator: robust"
      ],
      "text/plain": [
       "<class 'statsmodels.iolib.summary.Summary'>\n",
       "\"\"\"\n",
       "                     Constant Mean - GARCH Model Results                      \n",
       "==============================================================================\n",
       "Dep. Variable:                  Close   R-squared:                       0.000\n",
       "Mean Model:             Constant Mean   Adj. R-squared:                  0.000\n",
       "Vol Model:                      GARCH   Log-Likelihood:               -2296.30\n",
       "Distribution:                  Normal   AIC:                           4608.61\n",
       "Method:            Maximum Likelihood   BIC:                           4650.37\n",
       "                                        No. Observations:                 1367\n",
       "Date:                Sat, Dec 02 2023   Df Residuals:                     1366\n",
       "Time:                        22:28:54   Df Model:                            1\n",
       "                                  Mean Model                                  \n",
       "==============================================================================\n",
       "                  coef    std err          t      P>|t|       95.0% Conf. Int.\n",
       "------------------------------------------------------------------------------\n",
       "mu         -2.5565e-03  4.300e-02 -5.945e-02      0.953 [-8.683e-02,8.172e-02]\n",
       "                              Volatility Model                             \n",
       "===========================================================================\n",
       "                 coef    std err          t      P>|t|     95.0% Conf. Int.\n",
       "---------------------------------------------------------------------------\n",
       "omega          0.5478      0.189      2.895  3.789e-03    [  0.177,  0.919]\n",
       "alpha[1]       0.0681  3.919e-02      1.738  8.226e-02 [-8.712e-03,  0.145]\n",
       "alpha[2]       0.2036  9.664e-02      2.107  3.509e-02  [1.424e-02,  0.393]\n",
       "alpha[3]       0.3208      0.151      2.118  3.419e-02  [2.392e-02,  0.618]\n",
       "beta[1]        0.0000      0.151      0.000      1.000    [ -0.295,  0.295]\n",
       "beta[2]    8.5125e-15  9.815e-02  8.673e-14      1.000    [ -0.192,  0.192]\n",
       "beta[3]        0.2242      0.153      1.464      0.143 [-7.597e-02,  0.524]\n",
       "===========================================================================\n",
       "\n",
       "Covariance estimator: robust\n",
       "\"\"\""
      ]
     },
     "execution_count": 33,
     "metadata": {},
     "output_type": "execute_result"
    }
   ],
   "source": [
    "model_fit.summary()"
   ]
  },
  {
   "cell_type": "markdown",
   "metadata": {},
   "source": [
    "## Try GARCH(3,0) = ARCH(3)"
   ]
  },
  {
   "cell_type": "code",
   "execution_count": 34,
   "metadata": {},
   "outputs": [
    {
     "name": "stdout",
     "output_type": "stream",
     "text": [
      "Iteration:      1,   Func. Count:      7,   Neg. LLF: 3333.3593570993567\n",
      "Iteration:      2,   Func. Count:     16,   Neg. LLF: 6660.048151631494\n",
      "Iteration:      3,   Func. Count:     24,   Neg. LLF: 1250363.9844258176\n",
      "Iteration:      4,   Func. Count:     31,   Neg. LLF: 190395.9918685694\n",
      "Iteration:      5,   Func. Count:     38,   Neg. LLF: 7937.784868047549\n",
      "Iteration:      6,   Func. Count:     45,   Neg. LLF: 2543.280275287425\n",
      "Iteration:      7,   Func. Count:     52,   Neg. LLF: 2455.4084693409604\n",
      "Iteration:      8,   Func. Count:     60,   Neg. LLF: 2312.3837818547927\n",
      "Iteration:      9,   Func. Count:     66,   Neg. LLF: 2311.8749932059145\n",
      "Iteration:     10,   Func. Count:     72,   Neg. LLF: 2311.200737599154\n",
      "Iteration:     11,   Func. Count:     78,   Neg. LLF: 2311.1890420258223\n",
      "Iteration:     12,   Func. Count:     84,   Neg. LLF: 2311.188047752362\n",
      "Iteration:     13,   Func. Count:     90,   Neg. LLF: 2311.187902464455\n",
      "Iteration:     14,   Func. Count:     96,   Neg. LLF: 2311.187890030118\n",
      "Iteration:     15,   Func. Count:    102,   Neg. LLF: 2311.187889415374\n",
      "Optimization terminated successfully    (Exit mode 0)\n",
      "            Current function value: 2311.187889415374\n",
      "            Iterations: 15\n",
      "            Function evaluations: 102\n",
      "            Gradient evaluations: 15\n"
     ]
    }
   ],
   "source": [
    "model = arch_model(returns, p=3, q=0)\n",
    "model_fit = model.fit()"
   ]
  },
  {
   "cell_type": "code",
   "execution_count": 35,
   "metadata": {},
   "outputs": [
    {
     "name": "stderr",
     "output_type": "stream",
     "text": [
      "c:\\Users\\ytl_c\\miniconda3\\Lib\\site-packages\\arch\\univariate\\base.py:1890: FutureWarning: Series.__getitem__ treating keys as positions is deprecated. In a future version, integer keys will always be treated as labels (consistent with DataFrame behavior). To access a value by position, use `ser.iloc[pos]`\n",
      "  if isinstance(table_val[pos], (np.float64, float)):\n",
      "c:\\Users\\ytl_c\\miniconda3\\Lib\\site-packages\\arch\\univariate\\base.py:1891: FutureWarning: Series.__getitem__ treating keys as positions is deprecated. In a future version, integer keys will always be treated as labels (consistent with DataFrame behavior). To access a value by position, use `ser.iloc[pos]`\n",
      "  assert isinstance(table_val[pos], float)\n",
      "c:\\Users\\ytl_c\\miniconda3\\Lib\\site-packages\\arch\\univariate\\base.py:1892: FutureWarning: Series.__getitem__ treating keys as positions is deprecated. In a future version, integer keys will always be treated as labels (consistent with DataFrame behavior). To access a value by position, use `ser.iloc[pos]`\n",
      "  converted = format_float_fixed(table_val[pos], *formats[i])\n"
     ]
    },
    {
     "data": {
      "text/html": [
       "<table class=\"simpletable\">\n",
       "<caption>Constant Mean - ARCH Model Results</caption>\n",
       "<tr>\n",
       "  <th>Dep. Variable:</th>        <td>Close</td>       <th>  R-squared:         </th>  <td>   0.000</td> \n",
       "</tr>\n",
       "<tr>\n",
       "  <th>Mean Model:</th>       <td>Constant Mean</td>   <th>  Adj. R-squared:    </th>  <td>   0.000</td> \n",
       "</tr>\n",
       "<tr>\n",
       "  <th>Vol Model:</th>            <td>ARCH</td>        <th>  Log-Likelihood:    </th> <td>  -2311.19</td>\n",
       "</tr>\n",
       "<tr>\n",
       "  <th>Distribution:</th>        <td>Normal</td>       <th>  AIC:               </th> <td>   4632.38</td>\n",
       "</tr>\n",
       "<tr>\n",
       "  <th>Method:</th>        <td>Maximum Likelihood</td> <th>  BIC:               </th> <td>   4658.48</td>\n",
       "</tr>\n",
       "<tr>\n",
       "  <th></th>                        <td></td>          <th>  No. Observations:  </th>    <td>1367</td>   \n",
       "</tr>\n",
       "<tr>\n",
       "  <th>Date:</th>           <td>Sat, Dec 02 2023</td>  <th>  Df Residuals:      </th>    <td>1366</td>   \n",
       "</tr>\n",
       "<tr>\n",
       "  <th>Time:</th>               <td>22:29:23</td>      <th>  Df Model:          </th>      <td>1</td>    \n",
       "</tr>\n",
       "</table>\n",
       "<table class=\"simpletable\">\n",
       "<caption>Mean Model</caption>\n",
       "<tr>\n",
       "   <td></td>     <th>coef</th>     <th>std err</th>      <th>t</th>       <th>P>|t|</th>      <th>95.0% Conf. Int.</th>   \n",
       "</tr>\n",
       "<tr>\n",
       "  <th>mu</th> <td>    0.0143</td> <td>4.002e-02</td> <td>    0.357</td> <td>    0.721</td> <td>[-6.414e-02,9.271e-02]</td>\n",
       "</tr>\n",
       "</table>\n",
       "<table class=\"simpletable\">\n",
       "<caption>Volatility Model</caption>\n",
       "<tr>\n",
       "      <td></td>        <th>coef</th>     <th>std err</th>      <th>t</th>       <th>P>|t|</th>     <th>95.0% Conf. Int.</th>  \n",
       "</tr>\n",
       "<tr>\n",
       "  <th>omega</th>    <td>    0.8612</td> <td>    0.138</td> <td>    6.222</td> <td>4.902e-10</td>   <td>[  0.590,  1.132]</td> \n",
       "</tr>\n",
       "<tr>\n",
       "  <th>alpha[1]</th> <td>    0.0869</td> <td>4.455e-02</td> <td>    1.950</td> <td>5.121e-02</td> <td>[-4.566e-04,  0.174]</td>\n",
       "</tr>\n",
       "<tr>\n",
       "  <th>alpha[2]</th> <td>    0.2620</td> <td>9.097e-02</td> <td>    2.880</td> <td>3.981e-03</td>  <td>[8.366e-02,  0.440]</td>\n",
       "</tr>\n",
       "<tr>\n",
       "  <th>alpha[3]</th> <td>    0.3583</td> <td>    0.169</td> <td>    2.125</td> <td>3.361e-02</td>  <td>[2.778e-02,  0.689]</td>\n",
       "</tr>\n",
       "</table><br/><br/>Covariance estimator: robust"
      ],
      "text/latex": [
       "\\begin{center}\n",
       "\\begin{tabular}{lclc}\n",
       "\\toprule\n",
       "\\textbf{Dep. Variable:} &       Close        & \\textbf{  R-squared:         } &     0.000   \\\\\n",
       "\\textbf{Mean Model:}    &   Constant Mean    & \\textbf{  Adj. R-squared:    } &     0.000   \\\\\n",
       "\\textbf{Vol Model:}     &        ARCH        & \\textbf{  Log-Likelihood:    } &   -2311.19  \\\\\n",
       "\\textbf{Distribution:}  &       Normal       & \\textbf{  AIC:               } &    4632.38  \\\\\n",
       "\\textbf{Method:}        & Maximum Likelihood & \\textbf{  BIC:               } &    4658.48  \\\\\n",
       "\\textbf{}               &                    & \\textbf{  No. Observations:  } &    1367     \\\\\n",
       "\\textbf{Date:}          &  Sat, Dec 02 2023  & \\textbf{  Df Residuals:      } &    1366     \\\\\n",
       "\\textbf{Time:}          &      22:29:23      & \\textbf{  Df Model:          } &     1       \\\\\n",
       "\\bottomrule\n",
       "\\end{tabular}\n",
       "\\begin{tabular}{lccccc}\n",
       "            & \\textbf{coef} & \\textbf{std err} & \\textbf{t} & \\textbf{P$> |$t$|$} & \\textbf{95.0\\% Conf. Int.}  \\\\\n",
       "\\midrule\n",
       "\\textbf{mu} &       0.0143  &    4.002e-02     &     0.357  &          0.721       &   [-6.414e-02,9.271e-02]    \\\\\n",
       "                  & \\textbf{coef} & \\textbf{std err} & \\textbf{t} & \\textbf{P$> |$t$|$} & \\textbf{95.0\\% Conf. Int.}  \\\\\n",
       "\\midrule\n",
       "\\textbf{omega}    &       0.8612  &        0.138     &     6.222  &      4.902e-10       &     [  0.590,  1.132]       \\\\\n",
       "\\textbf{alpha[1]} &       0.0869  &    4.455e-02     &     1.950  &      5.121e-02       &    [-4.566e-04,  0.174]     \\\\\n",
       "\\textbf{alpha[2]} &       0.2620  &    9.097e-02     &     2.880  &      3.981e-03       &    [8.366e-02,  0.440]      \\\\\n",
       "\\textbf{alpha[3]} &       0.3583  &        0.169     &     2.125  &      3.361e-02       &    [2.778e-02,  0.689]      \\\\\n",
       "\\bottomrule\n",
       "\\end{tabular}\n",
       "%\\caption{Constant Mean - ARCH Model Results}\n",
       "\\end{center}\n",
       "\n",
       "Covariance estimator: robust"
      ],
      "text/plain": [
       "<class 'statsmodels.iolib.summary.Summary'>\n",
       "\"\"\"\n",
       "                      Constant Mean - ARCH Model Results                      \n",
       "==============================================================================\n",
       "Dep. Variable:                  Close   R-squared:                       0.000\n",
       "Mean Model:             Constant Mean   Adj. R-squared:                  0.000\n",
       "Vol Model:                       ARCH   Log-Likelihood:               -2311.19\n",
       "Distribution:                  Normal   AIC:                           4632.38\n",
       "Method:            Maximum Likelihood   BIC:                           4658.48\n",
       "                                        No. Observations:                 1367\n",
       "Date:                Sat, Dec 02 2023   Df Residuals:                     1366\n",
       "Time:                        22:29:23   Df Model:                            1\n",
       "                                  Mean Model                                 \n",
       "=============================================================================\n",
       "                 coef    std err          t      P>|t|       95.0% Conf. Int.\n",
       "-----------------------------------------------------------------------------\n",
       "mu             0.0143  4.002e-02      0.357      0.721 [-6.414e-02,9.271e-02]\n",
       "                              Volatility Model                             \n",
       "===========================================================================\n",
       "                 coef    std err          t      P>|t|     95.0% Conf. Int.\n",
       "---------------------------------------------------------------------------\n",
       "omega          0.8612      0.138      6.222  4.902e-10    [  0.590,  1.132]\n",
       "alpha[1]       0.0869  4.455e-02      1.950  5.121e-02 [-4.566e-04,  0.174]\n",
       "alpha[2]       0.2620  9.097e-02      2.880  3.981e-03  [8.366e-02,  0.440]\n",
       "alpha[3]       0.3583      0.169      2.125  3.361e-02  [2.778e-02,  0.689]\n",
       "===========================================================================\n",
       "\n",
       "Covariance estimator: robust\n",
       "\"\"\""
      ]
     },
     "execution_count": 35,
     "metadata": {},
     "output_type": "execute_result"
    }
   ],
   "source": [
    "model_fit.summary()"
   ]
  },
  {
   "cell_type": "code",
   "execution_count": 36,
   "metadata": {},
   "outputs": [],
   "source": [
    "rolling_predictions = []\n",
    "test_size = 365\n",
    "\n",
    "for i in range(test_size):\n",
    "    \n",
    "    train = returns[:-(test_size-i)]\n",
    "    model = arch_model(train, p=3, q=0)\n",
    "    model_fit = model.fit(disp='off')\n",
    "    pred = model_fit.forecast(horizon=1)\n",
    "    rolling_predictions.append(np.sqrt(pred.variance.values[-1,:][0]))"
   ]
  },
  {
   "cell_type": "code",
   "execution_count": null,
   "metadata": {},
   "outputs": [],
   "source": [
    "rolling_predictions = pd.Series(rolling_predictions, index=returns.index[-365:])"
   ]
  },
  {
   "cell_type": "code",
   "execution_count": null,
   "metadata": {
    "scrolled": true
   },
   "outputs": [],
   "source": [
    "plt.figure(figsize=(10,4))\n",
    "true, = plt.plot(returns[-365:])\n",
    "preds, = plt.plot(rolling_predictions)\n",
    "plt.title('Volatility Prediction - Rolling Forecast', fontsize=20)\n",
    "plt.legend(['True Returns', 'Predicted Volatility'], fontsize=16)"
   ]
  },
  {
   "cell_type": "markdown",
   "metadata": {},
   "source": [
    "# S&P 500"
   ]
  },
  {
   "cell_type": "code",
   "execution_count": null,
   "metadata": {},
   "outputs": [],
   "source": [
    "start = datetime(2000, 1, 1)\n",
    "end = datetime(2020, 6, 10)"
   ]
  },
  {
   "cell_type": "code",
   "execution_count": null,
   "metadata": {},
   "outputs": [],
   "source": [
    "spy = web.DataReader('SPY', 'yahoo', start=start, end=end)"
   ]
  },
  {
   "cell_type": "code",
   "execution_count": null,
   "metadata": {},
   "outputs": [],
   "source": [
    "returns = 100 * spy.Close.pct_change().dropna()"
   ]
  },
  {
   "cell_type": "code",
   "execution_count": null,
   "metadata": {},
   "outputs": [],
   "source": [
    "plt.figure(figsize=(10,4))\n",
    "plt.plot(returns)\n",
    "plt.ylabel('Pct Return', fontsize=16)\n",
    "plt.title('SPY Returns', fontsize=20)"
   ]
  },
  {
   "cell_type": "markdown",
   "metadata": {},
   "source": [
    "## PACF"
   ]
  },
  {
   "cell_type": "code",
   "execution_count": null,
   "metadata": {},
   "outputs": [],
   "source": [
    "plot_pacf(returns**2)\n",
    "plt.show()"
   ]
  },
  {
   "cell_type": "markdown",
   "metadata": {},
   "source": [
    "## Fit GARCH(2,2)"
   ]
  },
  {
   "cell_type": "code",
   "execution_count": null,
   "metadata": {},
   "outputs": [],
   "source": [
    "model = arch_model(returns, p=2, q=2)"
   ]
  },
  {
   "cell_type": "code",
   "execution_count": null,
   "metadata": {},
   "outputs": [],
   "source": [
    "model_fit = model.fit()"
   ]
  },
  {
   "cell_type": "code",
   "execution_count": null,
   "metadata": {
    "scrolled": false
   },
   "outputs": [],
   "source": [
    "model_fit.summary()"
   ]
  },
  {
   "cell_type": "markdown",
   "metadata": {},
   "source": [
    "## Rolling Forecast"
   ]
  },
  {
   "cell_type": "code",
   "execution_count": null,
   "metadata": {},
   "outputs": [],
   "source": [
    "rolling_predictions = []\n",
    "test_size = 365*5\n",
    "\n",
    "for i in range(test_size):\n",
    "    train = returns[:-(test_size-i)]\n",
    "    model = arch_model(train, p=2, q=2)\n",
    "    model_fit = model.fit(disp='off')\n",
    "    pred = model_fit.forecast(horizon=1)\n",
    "    rolling_predictions.append(np.sqrt(pred.variance.values[-1,:][0]))"
   ]
  },
  {
   "cell_type": "code",
   "execution_count": null,
   "metadata": {},
   "outputs": [],
   "source": [
    "rolling_predictions = pd.Series(rolling_predictions, index=returns.index[-365*5:])"
   ]
  },
  {
   "cell_type": "code",
   "execution_count": null,
   "metadata": {
    "scrolled": true
   },
   "outputs": [],
   "source": [
    "plt.figure(figsize=(10,4))\n",
    "true, = plt.plot(returns[-365*5:])\n",
    "preds, = plt.plot(rolling_predictions)\n",
    "plt.title('Volatility Prediction - Rolling Forecast', fontsize=20)\n",
    "plt.legend(['True Returns', 'Predicted Volatility'], fontsize=16)"
   ]
  },
  {
   "cell_type": "markdown",
   "metadata": {},
   "source": [
    "# How to use the model"
   ]
  },
  {
   "cell_type": "code",
   "execution_count": null,
   "metadata": {},
   "outputs": [],
   "source": [
    "train = returns\n",
    "model = arch_model(train, p=2, q=2)\n",
    "model_fit = model.fit(disp='off')"
   ]
  },
  {
   "cell_type": "code",
   "execution_count": null,
   "metadata": {},
   "outputs": [],
   "source": [
    "pred = model_fit.forecast(horizon=7)\n",
    "future_dates = [returns.index[-1] + timedelta(days=i) for i in range(1,8)]\n",
    "pred = pd.Series(np.sqrt(pred.variance.values[-1,:]), index=future_dates)"
   ]
  },
  {
   "cell_type": "code",
   "execution_count": null,
   "metadata": {},
   "outputs": [],
   "source": [
    "plt.figure(figsize=(10,4))\n",
    "plt.plot(pred)\n",
    "plt.title('Volatility Prediction - Next 7 Days', fontsize=20)"
   ]
  },
  {
   "cell_type": "code",
   "execution_count": null,
   "metadata": {},
   "outputs": [],
   "source": []
  }
 ],
 "metadata": {
  "kernelspec": {
   "display_name": "Python 3",
   "language": "python",
   "name": "python3"
  },
  "language_info": {
   "codemirror_mode": {
    "name": "ipython",
    "version": 3
   },
   "file_extension": ".py",
   "mimetype": "text/x-python",
   "name": "python",
   "nbconvert_exporter": "python",
   "pygments_lexer": "ipython3",
   "version": "3.11.5"
  }
 },
 "nbformat": 4,
 "nbformat_minor": 2
}
