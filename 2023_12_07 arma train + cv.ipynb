{
 "cells": [
  {
   "cell_type": "code",
   "execution_count": 56,
   "metadata": {},
   "outputs": [],
   "source": [
    "import os\n",
    "import numpy as np\n",
    "import pandas as pd\n",
    "\n",
    "import matplotlib.pyplot as plt\n",
    "from datetime import datetime\n",
    "\n",
    "import pmdarima as pm\n",
    "import statsmodels.tsa.api as tsa"
   ]
  },
  {
   "cell_type": "code",
   "execution_count": 57,
   "metadata": {},
   "outputs": [
    {
     "name": "stdout",
     "output_type": "stream",
     "text": [
      "/Users/yanting/OneDrive/Desktop/23_24 WS (Master)/VL - PTSFC/2023_11-PTSFC\n",
      "cwd = /Users/yanting/OneDrive/Desktop/23_24 WS (Master)/VL - PTSFC/2023_11-PTSFC\n"
     ]
    },
    {
     "data": {
      "text/plain": [
       "0"
      ]
     },
     "execution_count": 57,
     "metadata": {},
     "output_type": "execute_result"
    }
   ],
   "source": [
    "print(os.getcwd())\n",
    "os.system(f'python ./1_data_prepro.py')"
   ]
  },
  {
   "cell_type": "code",
   "execution_count": 106,
   "metadata": {},
   "outputs": [
    {
     "name": "stdout",
     "output_type": "stream",
     "text": [
      "(974, 5)\n"
     ]
    },
    {
     "data": {
      "text/html": [
       "<div>\n",
       "<style scoped>\n",
       "    .dataframe tbody tr th:only-of-type {\n",
       "        vertical-align: middle;\n",
       "    }\n",
       "\n",
       "    .dataframe tbody tr th {\n",
       "        vertical-align: top;\n",
       "    }\n",
       "\n",
       "    .dataframe thead th {\n",
       "        text-align: right;\n",
       "    }\n",
       "</style>\n",
       "<table border=\"1\" class=\"dataframe\">\n",
       "  <thead>\n",
       "    <tr style=\"text-align: right;\">\n",
       "      <th></th>\n",
       "      <th>ret1</th>\n",
       "      <th>ret2</th>\n",
       "      <th>ret3</th>\n",
       "      <th>ret4</th>\n",
       "      <th>ret5</th>\n",
       "    </tr>\n",
       "  </thead>\n",
       "  <tbody>\n",
       "    <tr>\n",
       "      <th>2020-02-17</th>\n",
       "      <td>0.288285</td>\n",
       "      <td>0.279411</td>\n",
       "      <td>0.247765</td>\n",
       "      <td>1.138575</td>\n",
       "      <td>2.125311</td>\n",
       "    </tr>\n",
       "    <tr>\n",
       "      <th>2020-02-18</th>\n",
       "      <td>-0.747857</td>\n",
       "      <td>-0.459571</td>\n",
       "      <td>-0.468445</td>\n",
       "      <td>-0.500092</td>\n",
       "      <td>0.390718</td>\n",
       "    </tr>\n",
       "    <tr>\n",
       "      <th>2020-02-19</th>\n",
       "      <td>0.784924</td>\n",
       "      <td>0.037068</td>\n",
       "      <td>0.325353</td>\n",
       "      <td>0.316479</td>\n",
       "      <td>0.284833</td>\n",
       "    </tr>\n",
       "    <tr>\n",
       "      <th>2020-02-20</th>\n",
       "      <td>-0.910654</td>\n",
       "      <td>-0.125729</td>\n",
       "      <td>-0.873586</td>\n",
       "      <td>-0.585300</td>\n",
       "      <td>-0.594175</td>\n",
       "    </tr>\n",
       "    <tr>\n",
       "      <th>2020-02-21</th>\n",
       "      <td>-0.621585</td>\n",
       "      <td>-1.532238</td>\n",
       "      <td>-0.747314</td>\n",
       "      <td>-1.495170</td>\n",
       "      <td>-1.206885</td>\n",
       "    </tr>\n",
       "  </tbody>\n",
       "</table>\n",
       "</div>"
      ],
      "text/plain": [
       "                ret1      ret2      ret3      ret4      ret5\n",
       "2020-02-17  0.288285  0.279411  0.247765  1.138575  2.125311\n",
       "2020-02-18 -0.747857 -0.459571 -0.468445 -0.500092  0.390718\n",
       "2020-02-19  0.784924  0.037068  0.325353  0.316479  0.284833\n",
       "2020-02-20 -0.910654 -0.125729 -0.873586 -0.585300 -0.594175\n",
       "2020-02-21 -0.621585 -1.532238 -0.747314 -1.495170 -1.206885"
      ]
     },
     "execution_count": 106,
     "metadata": {},
     "output_type": "execute_result"
    }
   ],
   "source": [
    "today = datetime.today().strftime(\"%Y-%m-%d\")\n",
    "fname = f\"2000-01-01_{today}_dax_returns.csv\"\n",
    "\n",
    "# Load data\n",
    "ret_df = pd.read_csv(f\"./data/{fname}\", index_col=0)\n",
    "ret_df.index = pd.to_datetime(ret_df.index)\n",
    "\n",
    "ignore_first = 5100\n",
    "ret_df = ret_df.iloc[ignore_first:]\n",
    "\n",
    "print(ret_df.shape)\n",
    "ret_df.head()"
   ]
  },
  {
   "cell_type": "code",
   "execution_count": 107,
   "metadata": {},
   "outputs": [
    {
     "name": "stdout",
     "output_type": "stream",
     "text": [
      "train (876, 5)\n",
      "                ret1      ret2      ret3      ret4      ret5\n",
      "2020-02-17  0.288285  0.279411  0.247765  1.138575  2.125311\n",
      "2020-02-18 -0.747857 -0.459571 -0.468445 -0.500092  0.390718\n",
      "2020-02-19  0.784924  0.037068  0.325353  0.316479  0.284833\n",
      "2020-02-20 -0.910654 -0.125729 -0.873586 -0.585300 -0.594175\n",
      "2020-02-21 -0.621585 -1.532238 -0.747314 -1.495170 -1.206885\n",
      "test (98, 5)\n",
      "                ret1      ret2      ret3      ret4      ret5\n",
      "2023-07-24  0.084839 -0.081923  0.507870  0.405119  0.758226\n",
      "2023-07-25  0.127395  0.212235  0.045472  0.635265  0.532514\n",
      "2023-07-26 -0.495501 -0.368106 -0.283266 -0.450029  0.139764\n",
      "2023-07-27  1.687751  1.192250  1.319645  1.404484  1.237722\n",
      "2023-07-28  0.387646  2.075396  1.579896  1.707291  1.792130\n"
     ]
    }
   ],
   "source": [
    "# train test split\n",
    "split_pt = 0.9\n",
    "train_data = ret_df[:int(len(ret_df) * split_pt)]\n",
    "test_data = ret_df[int(len(ret_df) * split_pt):]\n",
    "\n",
    "print(f\"train {train_data.shape}\")\n",
    "print(train_data.head())\n",
    "print(f\"test {test_data.shape}\")\n",
    "print(test_data.head())"
   ]
  },
  {
   "cell_type": "code",
   "execution_count": 60,
   "metadata": {},
   "outputs": [
    {
     "name": "stdout",
     "output_type": "stream",
     "text": [
      "= = = = = = = = = = = = = = = \n",
      "start ret1\n",
      "= = = = = = = = = = = = = = = \n"
     ]
    },
    {
     "name": "stderr",
     "output_type": "stream",
     "text": [
      "/Users/yanting/opt/anaconda3/lib/python3.9/site-packages/statsmodels/tsa/statespace/sarimax.py:1899: RuntimeWarning: invalid value encountered in reciprocal\n",
      "  return np.roots(self.polynomial_reduced_ar)**-1\n",
      "/Users/yanting/opt/anaconda3/lib/python3.9/site-packages/statsmodels/tsa/statespace/sarimax.py:1906: RuntimeWarning: invalid value encountered in reciprocal\n",
      "  return np.roots(self.polynomial_reduced_ma)**-1\n",
      "/Users/yanting/opt/anaconda3/lib/python3.9/site-packages/statsmodels/tsa/statespace/sarimax.py:1899: RuntimeWarning: invalid value encountered in reciprocal\n",
      "  return np.roots(self.polynomial_reduced_ar)**-1\n",
      "/Users/yanting/opt/anaconda3/lib/python3.9/site-packages/statsmodels/tsa/statespace/sarimax.py:1906: RuntimeWarning: invalid value encountered in reciprocal\n",
      "  return np.roots(self.polynomial_reduced_ma)**-1\n"
     ]
    },
    {
     "name": "stdout",
     "output_type": "stream",
     "text": [
      "= = = = = = = = = = = = = = = \n",
      "start ret2\n",
      "= = = = = = = = = = = = = = = \n"
     ]
    },
    {
     "name": "stderr",
     "output_type": "stream",
     "text": [
      "/Users/yanting/opt/anaconda3/lib/python3.9/site-packages/statsmodels/tsa/statespace/sarimax.py:1899: RuntimeWarning: invalid value encountered in reciprocal\n",
      "  return np.roots(self.polynomial_reduced_ar)**-1\n",
      "/Users/yanting/opt/anaconda3/lib/python3.9/site-packages/statsmodels/tsa/statespace/sarimax.py:1906: RuntimeWarning: invalid value encountered in reciprocal\n",
      "  return np.roots(self.polynomial_reduced_ma)**-1\n",
      "/Users/yanting/opt/anaconda3/lib/python3.9/site-packages/statsmodels/tsa/statespace/sarimax.py:1899: RuntimeWarning: invalid value encountered in reciprocal\n",
      "  return np.roots(self.polynomial_reduced_ar)**-1\n",
      "/Users/yanting/opt/anaconda3/lib/python3.9/site-packages/statsmodels/tsa/statespace/sarimax.py:1906: RuntimeWarning: invalid value encountered in reciprocal\n",
      "  return np.roots(self.polynomial_reduced_ma)**-1\n",
      "/Users/yanting/opt/anaconda3/lib/python3.9/site-packages/statsmodels/tsa/statespace/sarimax.py:1906: RuntimeWarning: invalid value encountered in reciprocal\n",
      "  return np.roots(self.polynomial_reduced_ma)**-1\n",
      "/Users/yanting/opt/anaconda3/lib/python3.9/site-packages/statsmodels/tsa/statespace/sarimax.py:1906: RuntimeWarning: invalid value encountered in reciprocal\n",
      "  return np.roots(self.polynomial_reduced_ma)**-1\n",
      "/Users/yanting/opt/anaconda3/lib/python3.9/site-packages/statsmodels/tsa/statespace/sarimax.py:1906: RuntimeWarning: invalid value encountered in reciprocal\n",
      "  return np.roots(self.polynomial_reduced_ma)**-1\n",
      "/Users/yanting/opt/anaconda3/lib/python3.9/site-packages/statsmodels/tsa/statespace/sarimax.py:1906: RuntimeWarning: invalid value encountered in reciprocal\n",
      "  return np.roots(self.polynomial_reduced_ma)**-1\n"
     ]
    },
    {
     "name": "stdout",
     "output_type": "stream",
     "text": [
      "= = = = = = = = = = = = = = = \n",
      "start ret3\n",
      "= = = = = = = = = = = = = = = \n"
     ]
    },
    {
     "name": "stderr",
     "output_type": "stream",
     "text": [
      "/Users/yanting/opt/anaconda3/lib/python3.9/site-packages/statsmodels/tsa/statespace/sarimax.py:1899: RuntimeWarning: invalid value encountered in reciprocal\n",
      "  return np.roots(self.polynomial_reduced_ar)**-1\n",
      "/Users/yanting/opt/anaconda3/lib/python3.9/site-packages/statsmodels/tsa/statespace/sarimax.py:1906: RuntimeWarning: invalid value encountered in reciprocal\n",
      "  return np.roots(self.polynomial_reduced_ma)**-1\n",
      "/Users/yanting/opt/anaconda3/lib/python3.9/site-packages/statsmodels/tsa/statespace/sarimax.py:1899: RuntimeWarning: invalid value encountered in reciprocal\n",
      "  return np.roots(self.polynomial_reduced_ar)**-1\n",
      "/Users/yanting/opt/anaconda3/lib/python3.9/site-packages/statsmodels/tsa/statespace/sarimax.py:1906: RuntimeWarning: invalid value encountered in reciprocal\n",
      "  return np.roots(self.polynomial_reduced_ma)**-1\n",
      "/Users/yanting/opt/anaconda3/lib/python3.9/site-packages/statsmodels/tsa/statespace/sarimax.py:1906: RuntimeWarning: invalid value encountered in reciprocal\n",
      "  return np.roots(self.polynomial_reduced_ma)**-1\n",
      "/Users/yanting/opt/anaconda3/lib/python3.9/site-packages/statsmodels/tsa/statespace/sarimax.py:1906: RuntimeWarning: invalid value encountered in reciprocal\n",
      "  return np.roots(self.polynomial_reduced_ma)**-1\n",
      "/Users/yanting/opt/anaconda3/lib/python3.9/site-packages/statsmodels/tsa/statespace/sarimax.py:1906: RuntimeWarning: invalid value encountered in reciprocal\n",
      "  return np.roots(self.polynomial_reduced_ma)**-1\n",
      "/Users/yanting/opt/anaconda3/lib/python3.9/site-packages/statsmodels/tsa/statespace/sarimax.py:1906: RuntimeWarning: invalid value encountered in reciprocal\n",
      "  return np.roots(self.polynomial_reduced_ma)**-1\n",
      "/Users/yanting/opt/anaconda3/lib/python3.9/site-packages/statsmodels/tsa/statespace/sarimax.py:1906: RuntimeWarning: invalid value encountered in reciprocal\n",
      "  return np.roots(self.polynomial_reduced_ma)**-1\n",
      "/Users/yanting/opt/anaconda3/lib/python3.9/site-packages/statsmodels/tsa/statespace/sarimax.py:1906: RuntimeWarning: invalid value encountered in reciprocal\n",
      "  return np.roots(self.polynomial_reduced_ma)**-1\n"
     ]
    },
    {
     "name": "stdout",
     "output_type": "stream",
     "text": [
      "= = = = = = = = = = = = = = = \n",
      "start ret4\n",
      "= = = = = = = = = = = = = = = \n"
     ]
    },
    {
     "name": "stderr",
     "output_type": "stream",
     "text": [
      "/Users/yanting/opt/anaconda3/lib/python3.9/site-packages/statsmodels/tsa/statespace/sarimax.py:1899: RuntimeWarning: invalid value encountered in reciprocal\n",
      "  return np.roots(self.polynomial_reduced_ar)**-1\n",
      "/Users/yanting/opt/anaconda3/lib/python3.9/site-packages/statsmodels/tsa/statespace/sarimax.py:1906: RuntimeWarning: invalid value encountered in reciprocal\n",
      "  return np.roots(self.polynomial_reduced_ma)**-1\n",
      "/Users/yanting/opt/anaconda3/lib/python3.9/site-packages/statsmodels/tsa/statespace/sarimax.py:1899: RuntimeWarning: invalid value encountered in reciprocal\n",
      "  return np.roots(self.polynomial_reduced_ar)**-1\n",
      "/Users/yanting/opt/anaconda3/lib/python3.9/site-packages/statsmodels/tsa/statespace/sarimax.py:1906: RuntimeWarning: invalid value encountered in reciprocal\n",
      "  return np.roots(self.polynomial_reduced_ma)**-1\n",
      "/Users/yanting/opt/anaconda3/lib/python3.9/site-packages/statsmodels/tsa/statespace/sarimax.py:1906: RuntimeWarning: invalid value encountered in reciprocal\n",
      "  return np.roots(self.polynomial_reduced_ma)**-1\n",
      "/Users/yanting/opt/anaconda3/lib/python3.9/site-packages/statsmodels/tsa/statespace/sarimax.py:1899: RuntimeWarning: invalid value encountered in reciprocal\n",
      "  return np.roots(self.polynomial_reduced_ar)**-1\n",
      "/Users/yanting/opt/anaconda3/lib/python3.9/site-packages/statsmodels/tsa/statespace/sarimax.py:1906: RuntimeWarning: invalid value encountered in reciprocal\n",
      "  return np.roots(self.polynomial_reduced_ma)**-1\n",
      "/Users/yanting/opt/anaconda3/lib/python3.9/site-packages/statsmodels/tsa/statespace/sarimax.py:1906: RuntimeWarning: invalid value encountered in reciprocal\n",
      "  return np.roots(self.polynomial_reduced_ma)**-1\n",
      "/Users/yanting/opt/anaconda3/lib/python3.9/site-packages/statsmodels/tsa/statespace/sarimax.py:1906: RuntimeWarning: invalid value encountered in reciprocal\n",
      "  return np.roots(self.polynomial_reduced_ma)**-1\n",
      "/Users/yanting/opt/anaconda3/lib/python3.9/site-packages/statsmodels/tsa/statespace/sarimax.py:1906: RuntimeWarning: invalid value encountered in reciprocal\n",
      "  return np.roots(self.polynomial_reduced_ma)**-1\n"
     ]
    },
    {
     "name": "stdout",
     "output_type": "stream",
     "text": [
      "= = = = = = = = = = = = = = = \n",
      "start ret5\n",
      "= = = = = = = = = = = = = = = \n"
     ]
    },
    {
     "name": "stderr",
     "output_type": "stream",
     "text": [
      "/Users/yanting/opt/anaconda3/lib/python3.9/site-packages/statsmodels/tsa/statespace/sarimax.py:1899: RuntimeWarning: invalid value encountered in reciprocal\n",
      "  return np.roots(self.polynomial_reduced_ar)**-1\n",
      "/Users/yanting/opt/anaconda3/lib/python3.9/site-packages/statsmodels/tsa/statespace/sarimax.py:1906: RuntimeWarning: invalid value encountered in reciprocal\n",
      "  return np.roots(self.polynomial_reduced_ma)**-1\n",
      "/Users/yanting/opt/anaconda3/lib/python3.9/site-packages/statsmodels/tsa/statespace/sarimax.py:1899: RuntimeWarning: invalid value encountered in reciprocal\n",
      "  return np.roots(self.polynomial_reduced_ar)**-1\n",
      "/Users/yanting/opt/anaconda3/lib/python3.9/site-packages/statsmodels/tsa/statespace/sarimax.py:1906: RuntimeWarning: invalid value encountered in reciprocal\n",
      "  return np.roots(self.polynomial_reduced_ma)**-1\n",
      "/Users/yanting/opt/anaconda3/lib/python3.9/site-packages/statsmodels/tsa/statespace/sarimax.py:1906: RuntimeWarning: invalid value encountered in reciprocal\n",
      "  return np.roots(self.polynomial_reduced_ma)**-1\n",
      "/Users/yanting/opt/anaconda3/lib/python3.9/site-packages/statsmodels/tsa/statespace/sarimax.py:1906: RuntimeWarning: invalid value encountered in reciprocal\n",
      "  return np.roots(self.polynomial_reduced_ma)**-1\n",
      "/Users/yanting/opt/anaconda3/lib/python3.9/site-packages/statsmodels/tsa/statespace/sarimax.py:1906: RuntimeWarning: invalid value encountered in reciprocal\n",
      "  return np.roots(self.polynomial_reduced_ma)**-1\n",
      "/Users/yanting/opt/anaconda3/lib/python3.9/site-packages/statsmodels/tsa/statespace/sarimax.py:1906: RuntimeWarning: invalid value encountered in reciprocal\n",
      "  return np.roots(self.polynomial_reduced_ma)**-1\n",
      "/Users/yanting/opt/anaconda3/lib/python3.9/site-packages/statsmodels/tsa/statespace/sarimax.py:1906: RuntimeWarning: invalid value encountered in reciprocal\n",
      "  return np.roots(self.polynomial_reduced_ma)**-1\n",
      "/Users/yanting/opt/anaconda3/lib/python3.9/site-packages/statsmodels/tsa/statespace/sarimax.py:1906: RuntimeWarning: invalid value encountered in reciprocal\n",
      "  return np.roots(self.polynomial_reduced_ma)**-1\n"
     ]
    }
   ],
   "source": [
    "max_p_q = 5\n",
    "arma_models = {}\n",
    "\n",
    "for i, ret_horizon in enumerate(train_data.columns):\n",
    "    \n",
    "    print('= '*15)\n",
    "    print(f\"start {ret_horizon}\")\n",
    "    print('= '*15)\n",
    "\n",
    "    # fit ARIMA models using pmdarima to find best order\n",
    "    arma_models[ret_horizon] = pm.auto_arima(train_data[ret_horizon], start_p=1, start_q=1,\n",
    "                                             max_p=max_p_q, max_q=max_p_q, error_action='ignore')"
   ]
  },
  {
   "cell_type": "code",
   "execution_count": 111,
   "metadata": {},
   "outputs": [
    {
     "name": "stdout",
     "output_type": "stream",
     "text": [
      "ret1 done\n",
      "ret2 done\n",
      "2/98\r"
     ]
    },
    {
     "name": "stderr",
     "output_type": "stream",
     "text": [
      "/Users/yanting/opt/anaconda3/lib/python3.9/site-packages/statsmodels/tsa/base/tsa_model.py:834: ValueWarning: No supported index is available. Prediction results will be given with an integer index beginning at `start`.\n",
      "  return get_prediction_index(\n"
     ]
    },
    {
     "name": "stdout",
     "output_type": "stream",
     "text": [
      "ret3 done\n",
      "2/98\r"
     ]
    },
    {
     "name": "stderr",
     "output_type": "stream",
     "text": [
      "/Users/yanting/opt/anaconda3/lib/python3.9/site-packages/statsmodels/tsa/base/tsa_model.py:834: ValueWarning: No supported index is available. Prediction results will be given with an integer index beginning at `start`.\n",
      "  return get_prediction_index(\n"
     ]
    },
    {
     "name": "stdout",
     "output_type": "stream",
     "text": [
      "ret4 done\n",
      "1/98\r"
     ]
    },
    {
     "name": "stderr",
     "output_type": "stream",
     "text": [
      "/Users/yanting/opt/anaconda3/lib/python3.9/site-packages/statsmodels/tsa/base/tsa_model.py:834: ValueWarning: No supported index is available. Prediction results will be given with an integer index beginning at `start`.\n",
      "  return get_prediction_index(\n"
     ]
    },
    {
     "name": "stdout",
     "output_type": "stream",
     "text": [
      "ret5 done\n"
     ]
    }
   ],
   "source": [
    "arma_models_eval = arma_models.copy()\n",
    "test_data_arma_preds = test_data.copy()\n",
    "\n",
    "print(f\"start rolling forecast in test_data for arma models\")\n",
    "\n",
    "for ret_horizon, model in arma_models_eval.items():\n",
    "\n",
    "    # for each row in test data predict one step ahead return\n",
    "    # and update model with new data\n",
    "    preds = np.zeros(len(test_data))\n",
    "    conf_int = np.zeros((len(test_data), 2))\n",
    "\n",
    "    for idx, (timestamp, test_data_row) in enumerate(test_data.iterrows()):\n",
    "\n",
    "        print(f\"{idx+1}/{len(test_data)}\", end=\"\\r\")\n",
    "\n",
    "        preds[idx], conf_int[idx] = model.predict(n_periods=1, return_conf_int=True)\n",
    "        \n",
    "        model.update(test_data_row, error_action='ignore')\n",
    "        # Internally, this calls fit again \n",
    "        # using the OLD model parameters as the starting parameters for the new model’s MLE computation.\n",
    "\n",
    "\n",
    "    test_data_arma_preds[f\"{ret_horizon}_arma_pred\"] = preds\n",
    "    test_data_arma_preds[f\"{ret_horizon}_lower_CI\"] = conf_int[:, 0]\n",
    "    test_data_arma_preds[f\"{ret_horizon}_upper_CI\"] = conf_int[:, 1]\n",
    "\n",
    "    print('- '*15)\n",
    "    print(f\"{ret_horizon} done\")\n",
    "    print('- '*15)"
   ]
  },
  {
   "cell_type": "code",
   "execution_count": 165,
   "metadata": {},
   "outputs": [
    {
     "name": "stdout",
     "output_type": "stream",
     "text": [
      "  ret_horizon  p  d  q           aic           bic   loglike       MSE  \\\n",
      "0        ret1  0  0  0   9444.330914   9450.267931 -4721.165  0.550259   \n",
      "1        ret2  5  0  0  15506.830795  15545.471372 -7747.415  1.195236   \n",
      "2        ret3  5  0  1   7467.468384   7507.177689 -3726.734  1.435586   \n",
      "3        ret4  5  0  1   7635.283201   7674.992506 -3810.642  1.506243   \n",
      "4        ret5  5  0  1   7810.810646   7850.519951 -3898.405  1.238776   \n",
      "\n",
      "        MAE      MAPE     SMAPE  \n",
      "0  0.591101  1.000000  2.000000  \n",
      "1  0.853428  4.698428  1.119114  \n",
      "2  0.945409  2.029086  1.071812  \n",
      "3  0.959503  1.553278  0.995336  \n",
      "4  0.845381  1.127580  0.807437  \n"
     ]
    }
   ],
   "source": [
    "results_df = pd.DataFrame()\n",
    "\n",
    "for ret_horizon in test_data.columns:\n",
    "\n",
    "    preds = test_data_arma_preds[f\"{ret_horizon}_arma_pred\"]\n",
    "    test_actual = test_data[ret_horizon].values\n",
    "\n",
    "    # plt.figure(figsize=(20, 3))\n",
    "\n",
    "    # plt.plot(test_data.index, test_actual, lw=1, color='red', label=f'true {ret_horizon}')\n",
    "    # plt.plot(test_data.index, preds, lw=1, alpha=0.7, ls='--', label='1 step ahead pred')\n",
    "\n",
    "    # plt.fill_between(test_data.index, conf_int[:, 0], conf_int[:, 1], \n",
    "    #                 color='gray', alpha=0.3, lw=1, label=f'95% CI')\n",
    "\n",
    "    # plt.legend(loc='upper left')\n",
    "    # plt.show()\n",
    "\n",
    "    error = test_actual - preds\n",
    "\n",
    "    MSE = np.mean(error**2)\n",
    "    MAE = np.mean(np.abs(error))\n",
    "    MAPE = np.mean(np.abs(error) / np.abs(test_actual))\n",
    "    SMAPE = np.mean(2 * np.abs(error) / (np.abs(test_actual) + np.abs(preds)))\n",
    "\n",
    "    arma_model_dict = arma_models_eval[ret_horizon].to_dict()\n",
    "    p, d, q = arma_model_dict['order']\n",
    "    aic = arma_model_dict['aic']\n",
    "    bic = arma_model_dict['bic']\n",
    "    loglike = float(arma_models_eval[ret_horizon].summary().as_text().split(\"Log Likelihood\")[1].split(\"\\n\")[0].replace(\" \", \"\"))\n",
    "\n",
    "    # save all results in a dataframe\n",
    "    arma_results = pd.DataFrame({'ret_horizon': ret_horizon,\n",
    "                                 'p': p,\n",
    "                                 'd': d,\n",
    "                                 'q': q,\n",
    "                                 'aic': aic,\n",
    "                                 'bic': bic,\n",
    "                                 'loglike': loglike,\n",
    "                                 'MSE': MSE,\n",
    "                                 'MAE': MAE,\n",
    "                                 'MAPE': MAPE,\n",
    "                                 'SMAPE': SMAPE}, index=[0])\n",
    "    \n",
    "    # append to results_df\n",
    "    results_df = pd.concat([results_df, arma_results], ignore_index=True)\n",
    "\n",
    "print(results_df)"
   ]
  }
 ],
 "metadata": {
  "kernelspec": {
   "display_name": "base",
   "language": "python",
   "name": "python3"
  },
  "language_info": {
   "codemirror_mode": {
    "name": "ipython",
    "version": 3
   },
   "file_extension": ".py",
   "mimetype": "text/x-python",
   "name": "python",
   "nbconvert_exporter": "python",
   "pygments_lexer": "ipython3",
   "version": "3.9.13"
  }
 },
 "nbformat": 4,
 "nbformat_minor": 2
}
